{
  "nbformat": 4,
  "nbformat_minor": 0,
  "metadata": {
    "colab": {
      "provenance": [],
      "authorship_tag": "ABX9TyNsmLFXO9/4nIdF00inMS6y",
      "include_colab_link": true
    },
    "kernelspec": {
      "name": "ir",
      "display_name": "R"
    },
    "language_info": {
      "name": "R"
    }
  },
  "cells": [
    {
      "cell_type": "markdown",
      "metadata": {
        "id": "view-in-github",
        "colab_type": "text"
      },
      "source": [
        "<a href=\"https://colab.research.google.com/github/nedokormysh/Stepik_data_analysis_R/blob/week_1_data_prep/Stepik_data_analysis_R_2.ipynb\" target=\"_parent\"><img src=\"https://colab.research.google.com/assets/colab-badge.svg\" alt=\"Open In Colab\"/></a>"
      ]
    },
    {
      "cell_type": "code",
      "source": [
        "# mydata <- read.csv(\"https://stepik.org/media/attachments/lesson/11481/evals.csv\", stringsAsFactors = T)"
      ],
      "metadata": {
        "id": "lV_UX-FC4dGb"
      },
      "execution_count": 1,
      "outputs": []
    },
    {
      "cell_type": "code",
      "source": [
        "mydata <- mtcars\n",
        "head(mydata)"
      ],
      "metadata": {
        "colab": {
          "base_uri": "https://localhost:8080/",
          "height": 286
        },
        "id": "27SeaNNQSaLS",
        "outputId": "ca57716b-ab5a-4c38-e807-3e7f1becab90"
      },
      "execution_count": 2,
      "outputs": [
        {
          "output_type": "display_data",
          "data": {
            "text/html": [
              "<table class=\"dataframe\">\n",
              "<caption>A data.frame: 6 × 11</caption>\n",
              "<thead>\n",
              "\t<tr><th></th><th scope=col>mpg</th><th scope=col>cyl</th><th scope=col>disp</th><th scope=col>hp</th><th scope=col>drat</th><th scope=col>wt</th><th scope=col>qsec</th><th scope=col>vs</th><th scope=col>am</th><th scope=col>gear</th><th scope=col>carb</th></tr>\n",
              "\t<tr><th></th><th scope=col>&lt;dbl&gt;</th><th scope=col>&lt;dbl&gt;</th><th scope=col>&lt;dbl&gt;</th><th scope=col>&lt;dbl&gt;</th><th scope=col>&lt;dbl&gt;</th><th scope=col>&lt;dbl&gt;</th><th scope=col>&lt;dbl&gt;</th><th scope=col>&lt;dbl&gt;</th><th scope=col>&lt;dbl&gt;</th><th scope=col>&lt;dbl&gt;</th><th scope=col>&lt;dbl&gt;</th></tr>\n",
              "</thead>\n",
              "<tbody>\n",
              "\t<tr><th scope=row>Mazda RX4</th><td>21.0</td><td>6</td><td>160</td><td>110</td><td>3.90</td><td>2.620</td><td>16.46</td><td>0</td><td>1</td><td>4</td><td>4</td></tr>\n",
              "\t<tr><th scope=row>Mazda RX4 Wag</th><td>21.0</td><td>6</td><td>160</td><td>110</td><td>3.90</td><td>2.875</td><td>17.02</td><td>0</td><td>1</td><td>4</td><td>4</td></tr>\n",
              "\t<tr><th scope=row>Datsun 710</th><td>22.8</td><td>4</td><td>108</td><td> 93</td><td>3.85</td><td>2.320</td><td>18.61</td><td>1</td><td>1</td><td>4</td><td>1</td></tr>\n",
              "\t<tr><th scope=row>Hornet 4 Drive</th><td>21.4</td><td>6</td><td>258</td><td>110</td><td>3.08</td><td>3.215</td><td>19.44</td><td>1</td><td>0</td><td>3</td><td>1</td></tr>\n",
              "\t<tr><th scope=row>Hornet Sportabout</th><td>18.7</td><td>8</td><td>360</td><td>175</td><td>3.15</td><td>3.440</td><td>17.02</td><td>0</td><td>0</td><td>3</td><td>2</td></tr>\n",
              "\t<tr><th scope=row>Valiant</th><td>18.1</td><td>6</td><td>225</td><td>105</td><td>2.76</td><td>3.460</td><td>20.22</td><td>1</td><td>0</td><td>3</td><td>1</td></tr>\n",
              "</tbody>\n",
              "</table>\n"
            ],
            "text/markdown": "\nA data.frame: 6 × 11\n\n| <!--/--> | mpg &lt;dbl&gt; | cyl &lt;dbl&gt; | disp &lt;dbl&gt; | hp &lt;dbl&gt; | drat &lt;dbl&gt; | wt &lt;dbl&gt; | qsec &lt;dbl&gt; | vs &lt;dbl&gt; | am &lt;dbl&gt; | gear &lt;dbl&gt; | carb &lt;dbl&gt; |\n|---|---|---|---|---|---|---|---|---|---|---|---|\n| Mazda RX4 | 21.0 | 6 | 160 | 110 | 3.90 | 2.620 | 16.46 | 0 | 1 | 4 | 4 |\n| Mazda RX4 Wag | 21.0 | 6 | 160 | 110 | 3.90 | 2.875 | 17.02 | 0 | 1 | 4 | 4 |\n| Datsun 710 | 22.8 | 4 | 108 |  93 | 3.85 | 2.320 | 18.61 | 1 | 1 | 4 | 1 |\n| Hornet 4 Drive | 21.4 | 6 | 258 | 110 | 3.08 | 3.215 | 19.44 | 1 | 0 | 3 | 1 |\n| Hornet Sportabout | 18.7 | 8 | 360 | 175 | 3.15 | 3.440 | 17.02 | 0 | 0 | 3 | 2 |\n| Valiant | 18.1 | 6 | 225 | 105 | 2.76 | 3.460 | 20.22 | 1 | 0 | 3 | 1 |\n\n",
            "text/latex": "A data.frame: 6 × 11\n\\begin{tabular}{r|lllllllllll}\n  & mpg & cyl & disp & hp & drat & wt & qsec & vs & am & gear & carb\\\\\n  & <dbl> & <dbl> & <dbl> & <dbl> & <dbl> & <dbl> & <dbl> & <dbl> & <dbl> & <dbl> & <dbl>\\\\\n\\hline\n\tMazda RX4 & 21.0 & 6 & 160 & 110 & 3.90 & 2.620 & 16.46 & 0 & 1 & 4 & 4\\\\\n\tMazda RX4 Wag & 21.0 & 6 & 160 & 110 & 3.90 & 2.875 & 17.02 & 0 & 1 & 4 & 4\\\\\n\tDatsun 710 & 22.8 & 4 & 108 &  93 & 3.85 & 2.320 & 18.61 & 1 & 1 & 4 & 1\\\\\n\tHornet 4 Drive & 21.4 & 6 & 258 & 110 & 3.08 & 3.215 & 19.44 & 1 & 0 & 3 & 1\\\\\n\tHornet Sportabout & 18.7 & 8 & 360 & 175 & 3.15 & 3.440 & 17.02 & 0 & 0 & 3 & 2\\\\\n\tValiant & 18.1 & 6 & 225 & 105 & 2.76 & 3.460 & 20.22 & 1 & 0 & 3 & 1\\\\\n\\end{tabular}\n",
            "text/plain": [
              "                  mpg  cyl disp hp  drat wt    qsec  vs am gear carb\n",
              "Mazda RX4         21.0 6   160  110 3.90 2.620 16.46 0  1  4    4   \n",
              "Mazda RX4 Wag     21.0 6   160  110 3.90 2.875 17.02 0  1  4    4   \n",
              "Datsun 710        22.8 4   108   93 3.85 2.320 18.61 1  1  4    1   \n",
              "Hornet 4 Drive    21.4 6   258  110 3.08 3.215 19.44 1  0  3    1   \n",
              "Hornet Sportabout 18.7 8   360  175 3.15 3.440 17.02 0  0  3    2   \n",
              "Valiant           18.1 6   225  105 2.76 3.460 20.22 1  0  3    1   "
            ]
          },
          "metadata": {}
        }
      ]
    },
    {
      "cell_type": "markdown",
      "source": [
        "# 1_4_4\n",
        "\n",
        "Создайте новую числовую переменную  new_var в данных mtcars, которая содержит единицы в строчках, если в машине не меньше четырёх карбюраторов (переменная \"carb\") или больше шести цилиндров (переменная \"cyl\"). В строчках, в которых условие не выполняется, должны стоять нули."
      ],
      "metadata": {
        "id": "ymgpCer2S5-M"
      }
    },
    {
      "cell_type": "code",
      "source": [
        "mtcars$new_var <- ifelse(mtcars$carb >= 4 | mtcars$cyl > 6, 1, 0)"
      ],
      "metadata": {
        "id": "0UV6ZJwMS9UN"
      },
      "execution_count": 4,
      "outputs": []
    },
    {
      "cell_type": "markdown",
      "source": [
        "# 1_4_5\n",
        "\n",
        "В уже существующей переменной my_vector сохранен вектор из 50 чисел.\n",
        "\n",
        "Решите задачу используя конструкцию:\n",
        "\n",
        "\n",
        "if () {\n",
        "\n",
        "} else {\n",
        "\n",
        "}\n",
        "Если среднее значение вектора my_vector больше 20, в переменную result сохраните \"My mean is great\",  если среднее значение my_vector меньше или равно 20 то в переменную result сохраните  строку \"My mean is not so great\"."
      ],
      "metadata": {
        "id": "dWQKCLNhT4bu"
      }
    },
    {
      "cell_type": "code",
      "source": [
        "my_vector <- c(20.67,23.34, 22.65, 17.11, 22.1,\n",
        "               26.32, 20.39, 21.04, 23.78, 31.11,\n",
        "               21.13, 22.44, 23.21, 27.02, 18.64,\n",
        "               20.9, 20.77, 20.0, 21.29, 23.48,\n",
        "               18.47, 25.02, 17.04, 30.97, 12.91,\n",
        "               23.88, 32.95, 8.46 ,23.15, 21.05,\n",
        "               20.63, 19.95, 17.38, 29.35, 24.43,\n",
        "               23.66, 18.32, 30.13, 19.36, 19.67,\n",
        "               24.23, 20.82, 18.21, 9.91 ,21.45,\n",
        "               18.04, 18.31, 17.18, 10.99, 10.06)"
      ],
      "metadata": {
        "id": "X5DjpO_eUZGN"
      },
      "execution_count": 5,
      "outputs": []
    },
    {
      "cell_type": "code",
      "source": [
        "if (mean(my_vector) > 20) {\n",
        "    result <- (\"My mean is great\")\n",
        "} else {\n",
        "    result <- (\"My mean is not so great\")\n",
        "}"
      ],
      "metadata": {
        "colab": {
          "base_uri": "https://localhost:8080/"
        },
        "id": "Zw4mkIZcT82F",
        "outputId": "b3474ff0-5c61-4dd6-b32f-a43462540426"
      },
      "execution_count": 7,
      "outputs": [
        {
          "output_type": "stream",
          "name": "stdout",
          "text": [
            "[1] \"My mean is great\"\n"
          ]
        }
      ]
    },
    {
      "cell_type": "code",
      "source": [
        "if(mean(my_vector) > 20) {\n",
        "  result <- ('My mean is great')\n",
        "  print(result)\n",
        "} else {\n",
        "  result <- ('My mean is not so great')\n",
        "  print(result)\n",
        "}"
      ],
      "metadata": {
        "id": "vv9vO2BZVK-M"
      },
      "execution_count": null,
      "outputs": []
    },
    {
      "cell_type": "markdown",
      "source": [
        "# 1_4_6\n",
        "\n",
        "В этой задаче от вас потребуется узнать некоторую информацию о типах данных в R самостоятельно! Встроенные в R данные AirPassengers - это новый для нас формат данных типа Time-Series. Изучите структуру этих данных, прежде чем начать решение задачи! Например напишите команды:\n",
        "\n",
        "> ?AirPassengers # справка о данных\n",
        "> str(AirPassengers) # структура данных\n",
        "В встроенных в R данных AirPassengers хранится 144 значения (количество пассажиров в месяц) с 1949 по 1960 год. Данные Time-Series очень похожи на вектор по своей структуре, например мы можем обратиться к любому из 144 элементов используя уже знакомую нам индексацию AirPassengers[1] или AirPassengers[56].\n",
        "\n",
        "Можно вообще перевести исходные данные в вектор при помощи команды as.vector(AirPassengers) и продолжить с ними работу как с вектором.\n",
        "\n",
        "И так ваша задача создать переменную good_months и сохранить в нее число пассажиров только в тех месяцах, в которых это число больше, чем показатель в предыдущем месяце.  \n",
        "\n",
        "Важный момент! В R оператор : для создания последовательности имеет приоритет над арифметическими действиями. Таким образом, если у вас есть переменная i, равная 10, и вы хотите создать вектор от 1 до i - 1, воспользуйтесь скобками, чтобы указать последовательность действий.\n",
        "\n",
        "> i <- 10\n",
        "> 1 : i - 1 # так мы создадим последовательность от 1 до 10, а потом вычтем единицу из каждого элемента\n",
        "[1] 0 1 2 3 4 5 6 7 8 9\n",
        "\n",
        "> 1 : (i - 1) # а вот так мы создадим последовательность от 1 до i - 1, то есть от 1 до 9.\n",
        "[1] 1 2 3 4 5 6 7 8 9"
      ],
      "metadata": {
        "id": "jTrMKP1-V688"
      }
    },
    {
      "cell_type": "code",
      "source": [
        "str(AirPassengers)"
      ],
      "metadata": {
        "colab": {
          "base_uri": "https://localhost:8080/"
        },
        "id": "JgBYE_bFV-sL",
        "outputId": "fb294989-aa5f-42e1-837f-e6c3b3d4aac2"
      },
      "execution_count": 8,
      "outputs": [
        {
          "output_type": "stream",
          "name": "stdout",
          "text": [
            " Time-Series [1:144] from 1949 to 1961: 112 118 132 129 121 135 148 148 136 119 ...\n"
          ]
        }
      ]
    },
    {
      "cell_type": "code",
      "source": [
        "vector1 <- as.vector(AirPassengers)\n",
        "vector2 <- c(vector1[length(vector1)],vector1[-length(vector1)])\n",
        "diffs <- vector1-vector2\n",
        "output = vector1[diffs>0]\n",
        "good_months <- output\n",
        "good_months"
      ],
      "metadata": {
        "colab": {
          "base_uri": "https://localhost:8080/",
          "height": 52
        },
        "id": "pyo7tdX3bTX6",
        "outputId": "09685a92-d072-44a4-fe6f-a9aa656dc9a8"
      },
      "execution_count": 12,
      "outputs": [
        {
          "output_type": "display_data",
          "data": {
            "text/html": [
              "<style>\n",
              ".list-inline {list-style: none; margin:0; padding: 0}\n",
              ".list-inline>li {display: inline-block}\n",
              ".list-inline>li:not(:last-child)::after {content: \"\\00b7\"; padding: 0 .5ex}\n",
              "</style>\n",
              "<ol class=list-inline><li>118</li><li>132</li><li>135</li><li>148</li><li>118</li><li>126</li><li>141</li><li>149</li><li>170</li><li>140</li><li>145</li><li>150</li><li>178</li><li>172</li><li>178</li><li>199</li><li>166</li><li>171</li><li>180</li><li>193</li><li>183</li><li>218</li><li>230</li><li>242</li><li>194</li><li>196</li><li>236</li><li>243</li><li>264</li><li>272</li><li>201</li><li>204</li><li>235</li><li>234</li><li>264</li><li>302</li><li>229</li><li>242</li><li>267</li><li>269</li><li>270</li><li>315</li><li>364</li><li>278</li><li>284</li><li>317</li><li>318</li><li>374</li><li>413</li><li>306</li><li>315</li><li>356</li><li>355</li><li>422</li><li>465</li><li>467</li><li>336</li><li>340</li><li>362</li><li>363</li><li>435</li><li>491</li><li>505</li><li>337</li><li>360</li><li>406</li><li>420</li><li>472</li><li>548</li><li>559</li><li>405</li><li>417</li><li>419</li><li>461</li><li>472</li><li>535</li><li>622</li><li>432</li></ol>\n"
            ],
            "text/markdown": "1. 118\n2. 132\n3. 135\n4. 148\n5. 118\n6. 126\n7. 141\n8. 149\n9. 170\n10. 140\n11. 145\n12. 150\n13. 178\n14. 172\n15. 178\n16. 199\n17. 166\n18. 171\n19. 180\n20. 193\n21. 183\n22. 218\n23. 230\n24. 242\n25. 194\n26. 196\n27. 236\n28. 243\n29. 264\n30. 272\n31. 201\n32. 204\n33. 235\n34. 234\n35. 264\n36. 302\n37. 229\n38. 242\n39. 267\n40. 269\n41. 270\n42. 315\n43. 364\n44. 278\n45. 284\n46. 317\n47. 318\n48. 374\n49. 413\n50. 306\n51. 315\n52. 356\n53. 355\n54. 422\n55. 465\n56. 467\n57. 336\n58. 340\n59. 362\n60. 363\n61. 435\n62. 491\n63. 505\n64. 337\n65. 360\n66. 406\n67. 420\n68. 472\n69. 548\n70. 559\n71. 405\n72. 417\n73. 419\n74. 461\n75. 472\n76. 535\n77. 622\n78. 432\n\n\n",
            "text/latex": "\\begin{enumerate*}\n\\item 118\n\\item 132\n\\item 135\n\\item 148\n\\item 118\n\\item 126\n\\item 141\n\\item 149\n\\item 170\n\\item 140\n\\item 145\n\\item 150\n\\item 178\n\\item 172\n\\item 178\n\\item 199\n\\item 166\n\\item 171\n\\item 180\n\\item 193\n\\item 183\n\\item 218\n\\item 230\n\\item 242\n\\item 194\n\\item 196\n\\item 236\n\\item 243\n\\item 264\n\\item 272\n\\item 201\n\\item 204\n\\item 235\n\\item 234\n\\item 264\n\\item 302\n\\item 229\n\\item 242\n\\item 267\n\\item 269\n\\item 270\n\\item 315\n\\item 364\n\\item 278\n\\item 284\n\\item 317\n\\item 318\n\\item 374\n\\item 413\n\\item 306\n\\item 315\n\\item 356\n\\item 355\n\\item 422\n\\item 465\n\\item 467\n\\item 336\n\\item 340\n\\item 362\n\\item 363\n\\item 435\n\\item 491\n\\item 505\n\\item 337\n\\item 360\n\\item 406\n\\item 420\n\\item 472\n\\item 548\n\\item 559\n\\item 405\n\\item 417\n\\item 419\n\\item 461\n\\item 472\n\\item 535\n\\item 622\n\\item 432\n\\end{enumerate*}\n",
            "text/plain": [
              " [1] 118 132 135 148 118 126 141 149 170 140 145 150 178 172 178 199 166 171 180\n",
              "[20] 193 183 218 230 242 194 196 236 243 264 272 201 204 235 234 264 302 229 242\n",
              "[39] 267 269 270 315 364 278 284 317 318 374 413 306 315 356 355 422 465 467 336\n",
              "[58] 340 362 363 435 491 505 337 360 406 420 472 548 559 405 417 419 461 472 535\n",
              "[77] 622 432"
            ]
          },
          "metadata": {}
        }
      ]
    },
    {
      "cell_type": "code",
      "source": [
        "good_months <- c()\n",
        "index <- 1\n",
        "for (i in 2:length(AirPassengers)) {\n",
        "\tif (AirPassengers[i] > AirPassengers[i-1]){\n",
        "\t\tgood_months[index] <- AirPassengers[i]\n",
        "\t\tindex <- index + 1\n",
        "\t\t}\n",
        "\t}"
      ],
      "metadata": {
        "id": "WmsFJw_McAci"
      },
      "execution_count": 9,
      "outputs": []
    },
    {
      "cell_type": "code",
      "source": [
        "good_months"
      ],
      "metadata": {
        "colab": {
          "base_uri": "https://localhost:8080/",
          "height": 52
        },
        "id": "OreEALDWcVaK",
        "outputId": "98d3fbe0-5832-4ebd-a03b-88d74c72f9df"
      },
      "execution_count": 10,
      "outputs": [
        {
          "output_type": "display_data",
          "data": {
            "text/html": [
              "<style>\n",
              ".list-inline {list-style: none; margin:0; padding: 0}\n",
              ".list-inline>li {display: inline-block}\n",
              ".list-inline>li:not(:last-child)::after {content: \"\\00b7\"; padding: 0 .5ex}\n",
              "</style>\n",
              "<ol class=list-inline><li>118</li><li>132</li><li>135</li><li>148</li><li>118</li><li>126</li><li>141</li><li>149</li><li>170</li><li>140</li><li>145</li><li>150</li><li>178</li><li>172</li><li>178</li><li>199</li><li>166</li><li>171</li><li>180</li><li>193</li><li>183</li><li>218</li><li>230</li><li>242</li><li>194</li><li>196</li><li>236</li><li>243</li><li>264</li><li>272</li><li>201</li><li>204</li><li>235</li><li>234</li><li>264</li><li>302</li><li>229</li><li>242</li><li>267</li><li>269</li><li>270</li><li>315</li><li>364</li><li>278</li><li>284</li><li>317</li><li>318</li><li>374</li><li>413</li><li>306</li><li>315</li><li>356</li><li>355</li><li>422</li><li>465</li><li>467</li><li>336</li><li>340</li><li>362</li><li>363</li><li>435</li><li>491</li><li>505</li><li>337</li><li>360</li><li>406</li><li>420</li><li>472</li><li>548</li><li>559</li><li>405</li><li>417</li><li>419</li><li>461</li><li>472</li><li>535</li><li>622</li><li>432</li></ol>\n"
            ],
            "text/markdown": "1. 118\n2. 132\n3. 135\n4. 148\n5. 118\n6. 126\n7. 141\n8. 149\n9. 170\n10. 140\n11. 145\n12. 150\n13. 178\n14. 172\n15. 178\n16. 199\n17. 166\n18. 171\n19. 180\n20. 193\n21. 183\n22. 218\n23. 230\n24. 242\n25. 194\n26. 196\n27. 236\n28. 243\n29. 264\n30. 272\n31. 201\n32. 204\n33. 235\n34. 234\n35. 264\n36. 302\n37. 229\n38. 242\n39. 267\n40. 269\n41. 270\n42. 315\n43. 364\n44. 278\n45. 284\n46. 317\n47. 318\n48. 374\n49. 413\n50. 306\n51. 315\n52. 356\n53. 355\n54. 422\n55. 465\n56. 467\n57. 336\n58. 340\n59. 362\n60. 363\n61. 435\n62. 491\n63. 505\n64. 337\n65. 360\n66. 406\n67. 420\n68. 472\n69. 548\n70. 559\n71. 405\n72. 417\n73. 419\n74. 461\n75. 472\n76. 535\n77. 622\n78. 432\n\n\n",
            "text/latex": "\\begin{enumerate*}\n\\item 118\n\\item 132\n\\item 135\n\\item 148\n\\item 118\n\\item 126\n\\item 141\n\\item 149\n\\item 170\n\\item 140\n\\item 145\n\\item 150\n\\item 178\n\\item 172\n\\item 178\n\\item 199\n\\item 166\n\\item 171\n\\item 180\n\\item 193\n\\item 183\n\\item 218\n\\item 230\n\\item 242\n\\item 194\n\\item 196\n\\item 236\n\\item 243\n\\item 264\n\\item 272\n\\item 201\n\\item 204\n\\item 235\n\\item 234\n\\item 264\n\\item 302\n\\item 229\n\\item 242\n\\item 267\n\\item 269\n\\item 270\n\\item 315\n\\item 364\n\\item 278\n\\item 284\n\\item 317\n\\item 318\n\\item 374\n\\item 413\n\\item 306\n\\item 315\n\\item 356\n\\item 355\n\\item 422\n\\item 465\n\\item 467\n\\item 336\n\\item 340\n\\item 362\n\\item 363\n\\item 435\n\\item 491\n\\item 505\n\\item 337\n\\item 360\n\\item 406\n\\item 420\n\\item 472\n\\item 548\n\\item 559\n\\item 405\n\\item 417\n\\item 419\n\\item 461\n\\item 472\n\\item 535\n\\item 622\n\\item 432\n\\end{enumerate*}\n",
            "text/plain": [
              " [1] 118 132 135 148 118 126 141 149 170 140 145 150 178 172 178 199 166 171 180\n",
              "[20] 193 183 218 230 242 194 196 236 243 264 272 201 204 235 234 264 302 229 242\n",
              "[39] 267 269 270 315 364 278 284 317 318 374 413 306 315 356 355 422 465 467 336\n",
              "[58] 340 362 363 435 491 505 337 360 406 420 472 548 559 405 417 419 461 472 535\n",
              "[77] 622 432"
            ]
          },
          "metadata": {}
        }
      ]
    },
    {
      "cell_type": "code",
      "source": [
        "AirPassengers[-1][AirPassengers[-1] > AirPassengers[-144]]"
      ],
      "metadata": {
        "colab": {
          "base_uri": "https://localhost:8080/",
          "height": 52
        },
        "id": "6NdFbMMNcvyr",
        "outputId": "a360e9af-886f-4686-fdd8-a497f6efe238"
      },
      "execution_count": 13,
      "outputs": [
        {
          "output_type": "display_data",
          "data": {
            "text/html": [
              "<style>\n",
              ".list-inline {list-style: none; margin:0; padding: 0}\n",
              ".list-inline>li {display: inline-block}\n",
              ".list-inline>li:not(:last-child)::after {content: \"\\00b7\"; padding: 0 .5ex}\n",
              "</style>\n",
              "<ol class=list-inline><li>118</li><li>132</li><li>135</li><li>148</li><li>118</li><li>126</li><li>141</li><li>149</li><li>170</li><li>140</li><li>145</li><li>150</li><li>178</li><li>172</li><li>178</li><li>199</li><li>166</li><li>171</li><li>180</li><li>193</li><li>183</li><li>218</li><li>230</li><li>242</li><li>194</li><li>196</li><li>236</li><li>243</li><li>264</li><li>272</li><li>201</li><li>204</li><li>235</li><li>234</li><li>264</li><li>302</li><li>229</li><li>242</li><li>267</li><li>269</li><li>270</li><li>315</li><li>364</li><li>278</li><li>284</li><li>317</li><li>318</li><li>374</li><li>413</li><li>306</li><li>315</li><li>356</li><li>355</li><li>422</li><li>465</li><li>467</li><li>336</li><li>340</li><li>362</li><li>363</li><li>435</li><li>491</li><li>505</li><li>337</li><li>360</li><li>406</li><li>420</li><li>472</li><li>548</li><li>559</li><li>405</li><li>417</li><li>419</li><li>461</li><li>472</li><li>535</li><li>622</li><li>432</li></ol>\n"
            ],
            "text/markdown": "1. 118\n2. 132\n3. 135\n4. 148\n5. 118\n6. 126\n7. 141\n8. 149\n9. 170\n10. 140\n11. 145\n12. 150\n13. 178\n14. 172\n15. 178\n16. 199\n17. 166\n18. 171\n19. 180\n20. 193\n21. 183\n22. 218\n23. 230\n24. 242\n25. 194\n26. 196\n27. 236\n28. 243\n29. 264\n30. 272\n31. 201\n32. 204\n33. 235\n34. 234\n35. 264\n36. 302\n37. 229\n38. 242\n39. 267\n40. 269\n41. 270\n42. 315\n43. 364\n44. 278\n45. 284\n46. 317\n47. 318\n48. 374\n49. 413\n50. 306\n51. 315\n52. 356\n53. 355\n54. 422\n55. 465\n56. 467\n57. 336\n58. 340\n59. 362\n60. 363\n61. 435\n62. 491\n63. 505\n64. 337\n65. 360\n66. 406\n67. 420\n68. 472\n69. 548\n70. 559\n71. 405\n72. 417\n73. 419\n74. 461\n75. 472\n76. 535\n77. 622\n78. 432\n\n\n",
            "text/latex": "\\begin{enumerate*}\n\\item 118\n\\item 132\n\\item 135\n\\item 148\n\\item 118\n\\item 126\n\\item 141\n\\item 149\n\\item 170\n\\item 140\n\\item 145\n\\item 150\n\\item 178\n\\item 172\n\\item 178\n\\item 199\n\\item 166\n\\item 171\n\\item 180\n\\item 193\n\\item 183\n\\item 218\n\\item 230\n\\item 242\n\\item 194\n\\item 196\n\\item 236\n\\item 243\n\\item 264\n\\item 272\n\\item 201\n\\item 204\n\\item 235\n\\item 234\n\\item 264\n\\item 302\n\\item 229\n\\item 242\n\\item 267\n\\item 269\n\\item 270\n\\item 315\n\\item 364\n\\item 278\n\\item 284\n\\item 317\n\\item 318\n\\item 374\n\\item 413\n\\item 306\n\\item 315\n\\item 356\n\\item 355\n\\item 422\n\\item 465\n\\item 467\n\\item 336\n\\item 340\n\\item 362\n\\item 363\n\\item 435\n\\item 491\n\\item 505\n\\item 337\n\\item 360\n\\item 406\n\\item 420\n\\item 472\n\\item 548\n\\item 559\n\\item 405\n\\item 417\n\\item 419\n\\item 461\n\\item 472\n\\item 535\n\\item 622\n\\item 432\n\\end{enumerate*}\n",
            "text/plain": [
              " [1] 118 132 135 148 118 126 141 149 170 140 145 150 178 172 178 199 166 171 180\n",
              "[20] 193 183 218 230 242 194 196 236 243 264 272 201 204 235 234 264 302 229 242\n",
              "[39] 267 269 270 315 364 278 284 317 318 374 413 306 315 356 355 422 465 467 336\n",
              "[58] 340 362 363 435 491 505 337 360 406 420 472 548 559 405 417 419 461 472 535\n",
              "[77] 622 432"
            ]
          },
          "metadata": {}
        }
      ]
    },
    {
      "cell_type": "code",
      "source": [
        "AirPassengers[0]"
      ],
      "metadata": {
        "colab": {
          "base_uri": "https://localhost:8080/",
          "height": 17
        },
        "id": "ExCrd_-Zc4SM",
        "outputId": "1d75966c-5f3b-44bd-d8d9-14014aee7909"
      },
      "execution_count": 17,
      "outputs": [
        {
          "output_type": "display_data",
          "data": {
            "text/html": [],
            "text/markdown": "",
            "text/latex": "",
            "text/plain": [
              "numeric(0)"
            ]
          },
          "metadata": {}
        }
      ]
    },
    {
      "cell_type": "markdown",
      "source": [
        "# 1_3_7\n",
        "\n",
        "3.8  Заключение\n",
        "1.4 Элементы синтаксиса\n",
        "1 из 8 шагов пройден\n",
        "0 из 5 баллов  получено\n",
        "Задачка для супер героев, повышенной сложности!\n",
        "\n",
        "Для встроенных в R данных AirPassengers рассчитайте скользящее среднее с интервалом сглаживания равным 10. Напечатайте получившийся результат (первым значением в выводе должно быть среднее для элементов 1:10, во втором значении - среднее для элементов 2:11 и т.д., в последнем  - среднее для элементов 135 :144)\n",
        "\n",
        "Все полученные значения средних сохраните в переменную moving_average.\n",
        "\n",
        "Пример расчета для вектора из 11 элементов:\n",
        "\n",
        "\n",
        "\n",
        "\n",
        "\n",
        "\n",
        "\n",
        "\n",
        "\n",
        "Соответственно, для наших данных из 144 наблюдений должно получиться 135 средних (первые и последние 4 средних):\n",
        "\n",
        "129.8 129.0 129.0 127.3 ... 483.6 489.2 486.5 490.6\n",
        "\n",
        "Важный момент! В R оператор : для создания последовательности имеет приоритет над арифметическими действиями. Таким образом, если у вас есть переменная i, равная 10, и вы хотите создать вектор от 1 до i - 1, воспользуйтесь скобками, чтобы указать последовательность действий.\n",
        "> i <- 10\n",
        "> 1 : i - 1 # так мы создадим последовательность от 1 до 10, а потом вычтем единицу из каждого элемента\n",
        "[1] 0 1 2 3 4 5 6 7 8 9\n",
        "\n",
        "> 1 : (i - 1) # а вот так мы создадим последовательность от 1 до i - 1, то есть от 1 до 9.\n",
        "[1] 1 2 3 4 5 6 7 8 9\n",
        "\n",
        "Если вам потребуется создать вектор moving_average заранее, то есть несколько способов сделать это:\n",
        "1. самый простой, но не очень правильный вариант - создать пустой вектор\n",
        "moving_average <- c()\n",
        "\n",
        "2. можно сразу создать вектор определенной длины и определенного типа:\n",
        "moving_average <- numeric(135)\n",
        "Такой вариант является более предпочтительным. Почему? Узнаем во второй части курса!)\n",
        "\n",
        "А для тем, кто уже выбрал путь воина и не хочет использовать цикл - советую познакомиться с функцией cumsum. Подсказка: если у нас есть два вектора одинаковой длинны, то если из одного вектора вычесть второй вектор, мы найдем разность для первых элементов векторов, затем для вторых и т.д.\n",
        "\n",
        "\n",
        "> x <- c(2, 4, 7)\n",
        "\n",
        "> y <- c(2, 3, 5)\n",
        "\n",
        "> x - y\n",
        "\n",
        "[1] 0 1 2"
      ],
      "metadata": {
        "id": "1ab-gM4UhorL"
      }
    }
  ]
}