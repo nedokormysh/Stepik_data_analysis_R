{
  "nbformat": 4,
  "nbformat_minor": 0,
  "metadata": {
    "colab": {
      "provenance": [],
      "authorship_tag": "ABX9TyOZJEjmOdHEakonZfgkIIZ+",
      "include_colab_link": true
    },
    "kernelspec": {
      "name": "ir",
      "display_name": "R"
    },
    "language_info": {
      "name": "R"
    }
  },
  "cells": [
    {
      "cell_type": "markdown",
      "metadata": {
        "id": "view-in-github",
        "colab_type": "text"
      },
      "source": [
        "<a href=\"https://colab.research.google.com/github/nedokormysh/Stepik_data_analysis_R/blob/week_2_stat_part_1/Stepik_data_analysis_R_2_4.ipynb\" target=\"_parent\"><img src=\"https://colab.research.google.com/assets/colab-badge.svg\" alt=\"Open In Colab\"/></a>"
      ]
    },
    {
      "cell_type": "code",
      "source": [
        "install.packages(\"ggplot2\")\n",
        "library(\"ggplot2\")"
      ],
      "metadata": {
        "colab": {
          "base_uri": "https://localhost:8080/"
        },
        "id": "-S6FcTq5l7qj",
        "outputId": "4298d784-94ec-470a-b08d-9021812c57c0"
      },
      "execution_count": null,
      "outputs": [
        {
          "output_type": "stream",
          "name": "stderr",
          "text": [
            "Installing package into ‘/usr/local/lib/R/site-library’\n",
            "(as ‘lib’ is unspecified)\n",
            "\n"
          ]
        }
      ]
    },
    {
      "cell_type": "markdown",
      "source": [
        "# 2_4_6\n",
        "\n",
        "Напишите функцию, которая выводит номера позиций пропущенных наблюдений в векторе.\n",
        "\n",
        "На вход функция получает числовой вектор с пропущенными значениями. Функция возвращает новый вектор с номерами позиций пропущенных значений.\n",
        "\n",
        "Подсказка: чтобы проверить является ли наблюдение NA, воспользуйтесь функцией is.na(), кстати, функция векторизирована, и аргументом может служить вектор произвольной длинны. Запись x == NA ни к чему осмысленному не приведет. Т.к. если x это NA, то команда x == NA также вернет NA, а не TRUE!\n",
        "\n",
        "> my_vector <- c(1, 2, 3, NA, NA)\n",
        "\n",
        "> NA.position(my_vector)\n",
        "\n",
        "[1] 4 5"
      ],
      "metadata": {
        "id": "2uIvRgK-RDl1"
      }
    },
    {
      "cell_type": "code",
      "source": [
        "NA.position <- function(x){\n",
        "  # print(is.na(x))\n",
        "  return(which(is.na(x) == TRUE))\n",
        "  }\n",
        "\n",
        "my_vector <- c(1, 2, 3, NA, NA)\n",
        "\n",
        "NA.position(my_vector)"
      ],
      "metadata": {
        "colab": {
          "base_uri": "https://localhost:8080/",
          "height": 34
        },
        "id": "K6lsi2pDRIHZ",
        "outputId": "933797c8-6761-49e0-bd7e-9adc2643bfa2"
      },
      "execution_count": 16,
      "outputs": [
        {
          "output_type": "display_data",
          "data": {
            "text/html": [
              "<style>\n",
              ".list-inline {list-style: none; margin:0; padding: 0}\n",
              ".list-inline>li {display: inline-block}\n",
              ".list-inline>li:not(:last-child)::after {content: \"\\00b7\"; padding: 0 .5ex}\n",
              "</style>\n",
              "<ol class=list-inline><li>4</li><li>5</li></ol>\n"
            ],
            "text/markdown": "1. 4\n2. 5\n\n\n",
            "text/latex": "\\begin{enumerate*}\n\\item 4\n\\item 5\n\\end{enumerate*}\n",
            "text/plain": [
              "[1] 4 5"
            ]
          },
          "metadata": {}
        }
      ]
    },
    {
      "cell_type": "code",
      "source": [
        "NA.position <- function(x){\n",
        "which(is.na(x))}\n",
        "\n",
        "my_vector <- c(1, 2, 3, NA, NA)\n",
        "\n",
        "NA.position(my_vector)"
      ],
      "metadata": {
        "colab": {
          "base_uri": "https://localhost:8080/",
          "height": 34
        },
        "id": "RGgRqYvGTd3E",
        "outputId": "1b039d04-ed9b-464a-db04-a017a9e44b5c"
      },
      "execution_count": 18,
      "outputs": [
        {
          "output_type": "display_data",
          "data": {
            "text/html": [
              "<style>\n",
              ".list-inline {list-style: none; margin:0; padding: 0}\n",
              ".list-inline>li {display: inline-block}\n",
              ".list-inline>li:not(:last-child)::after {content: \"\\00b7\"; padding: 0 .5ex}\n",
              "</style>\n",
              "<ol class=list-inline><li>4</li><li>5</li></ol>\n"
            ],
            "text/markdown": "1. 4\n2. 5\n\n\n",
            "text/latex": "\\begin{enumerate*}\n\\item 4\n\\item 5\n\\end{enumerate*}\n",
            "text/plain": [
              "[1] 4 5"
            ]
          },
          "metadata": {}
        }
      ]
    },
    {
      "cell_type": "code",
      "source": [
        "vector <- rnorm(100)\n",
        "vector[20:30] <- NA\n",
        "\n",
        "\n",
        "for (i in 1:length(vector)){\n",
        "  if (is.na(vector[i]) == T){\n",
        "    print(i)\n",
        "  }\n",
        "}"
      ],
      "metadata": {
        "colab": {
          "base_uri": "https://localhost:8080/"
        },
        "id": "NH4Y86BJTI0a",
        "outputId": "2df6db8b-962a-4e4b-dbed-80784b9e124d"
      },
      "execution_count": 17,
      "outputs": [
        {
          "output_type": "stream",
          "name": "stdout",
          "text": [
            "[1] 20\n",
            "[1] 21\n",
            "[1] 22\n",
            "[1] 23\n",
            "[1] 24\n",
            "[1] 25\n",
            "[1] 26\n",
            "[1] 27\n",
            "[1] 28\n",
            "[1] 29\n",
            "[1] 30\n"
          ]
        }
      ]
    },
    {
      "cell_type": "markdown",
      "source": [
        "# 2_4_7\n",
        "\n",
        "Напишите функцию NA.counter для подсчета пропущенных значений в векторе.\n",
        "\n",
        "На вход функция  NA.counter должна принимать один аргумент - числовой вектор. Функция должна возвращать количество пропущенных значений.\n",
        "\n",
        "> my_vector <- c(1, 2, 3, NA, NA)\n",
        "\n",
        "> NA.counter(my_vector)\n",
        "[1] 2"
      ],
      "metadata": {
        "id": "W_If1fUqUxVh"
      }
    },
    {
      "cell_type": "code",
      "source": [
        "NA.counter <- function(vec)\n",
        "{\n",
        "  sum(c(is.na(vec)))\n",
        "}\n",
        "\n",
        "my_vector <- c(1, 2, 3, NA, NA)\n",
        "\n",
        "NA.counter(my_vector)"
      ],
      "metadata": {
        "colab": {
          "base_uri": "https://localhost:8080/",
          "height": 34
        },
        "id": "HNXIu_6oU2Md",
        "outputId": "b9ef1f2e-f47c-492b-9c52-8a77a04f3666"
      },
      "execution_count": 19,
      "outputs": [
        {
          "output_type": "display_data",
          "data": {
            "text/html": [
              "2"
            ],
            "text/markdown": "2",
            "text/latex": "2",
            "text/plain": [
              "[1] 2"
            ]
          },
          "metadata": {}
        }
      ]
    },
    {
      "cell_type": "markdown",
      "source": [
        "# 2_4_9\n",
        "\n",
        "Напишите функцию filtered.sum, которая на вход получает вектор с пропущенными, положительными и отрицательными значениями и возвращает сумму положительных элементов вектора.\n",
        "\n",
        " >  filtered.sum(c(1, -2, 3, NA, NA))\n",
        "\n",
        "[1] 4"
      ],
      "metadata": {
        "id": "0mSlodfUYY8C"
      }
    },
    {
      "cell_type": "code",
      "source": [
        "c(1, -2, 3, NA, NA) > 0"
      ],
      "metadata": {
        "colab": {
          "base_uri": "https://localhost:8080/",
          "height": 34
        },
        "id": "hqmR481AYmaz",
        "outputId": "aeff29fd-48a4-4fc6-9275-efc0d41a9ae2"
      },
      "execution_count": 20,
      "outputs": [
        {
          "output_type": "display_data",
          "data": {
            "text/html": [
              "<style>\n",
              ".list-inline {list-style: none; margin:0; padding: 0}\n",
              ".list-inline>li {display: inline-block}\n",
              ".list-inline>li:not(:last-child)::after {content: \"\\00b7\"; padding: 0 .5ex}\n",
              "</style>\n",
              "<ol class=list-inline><li>TRUE</li><li>FALSE</li><li>TRUE</li><li>&lt;NA&gt;</li><li>&lt;NA&gt;</li></ol>\n"
            ],
            "text/markdown": "1. TRUE\n2. FALSE\n3. TRUE\n4. &lt;NA&gt;\n5. &lt;NA&gt;\n\n\n",
            "text/latex": "\\begin{enumerate*}\n\\item TRUE\n\\item FALSE\n\\item TRUE\n\\item <NA>\n\\item <NA>\n\\end{enumerate*}\n",
            "text/plain": [
              "[1]  TRUE FALSE  TRUE    NA    NA"
            ]
          },
          "metadata": {}
        }
      ]
    },
    {
      "cell_type": "code",
      "source": [
        "filtered.sum <- function(x){\n",
        "# put your code here\n",
        "  sum(x[x > 0],  na.rm = TRUE)\n",
        "}\n",
        "\n",
        "filtered.sum(c(1, -2, 3, NA))"
      ],
      "metadata": {
        "colab": {
          "base_uri": "https://localhost:8080/",
          "height": 34
        },
        "id": "_vTlpKZNYbju",
        "outputId": "af2ee897-21cd-4410-8afd-56ae9e2e647c"
      },
      "execution_count": 27,
      "outputs": [
        {
          "output_type": "display_data",
          "data": {
            "text/html": [
              "4"
            ],
            "text/markdown": "4",
            "text/latex": "4",
            "text/plain": [
              "[1] 4"
            ]
          },
          "metadata": {}
        }
      ]
    },
    {
      "cell_type": "code",
      "source": [
        "filtered.sum <- function(x){\n",
        "  summ = 0\n",
        "  for (i in 1:length(x)){\n",
        "    if ((is.na(x[i]) == FALSE) & (x[i] > 0)){\n",
        "      summ = summ + x[i]}\n",
        "  }\n",
        "  return(summ)\n",
        "}\n",
        "\n",
        "filtered.sum(c(1, -2, 3, NA))"
      ],
      "metadata": {
        "colab": {
          "base_uri": "https://localhost:8080/",
          "height": 34
        },
        "id": "DzCTLj1JZ6-g",
        "outputId": "1cdfd1f6-845f-43cf-86f3-e03d3bdc7082"
      },
      "execution_count": 28,
      "outputs": [
        {
          "output_type": "display_data",
          "data": {
            "text/html": [
              "4"
            ],
            "text/markdown": "4",
            "text/latex": "4",
            "text/plain": [
              "[1] 4"
            ]
          },
          "metadata": {}
        }
      ]
    },
    {
      "cell_type": "code",
      "source": [
        "filtered.sum <- function(x){\n",
        "\n",
        "  k <- 0 # счетчик для номеров элементов НА в исходном векторе\n",
        "  t <- 0 # переменная для записи в нее номера элемента НА в исходном векторе\n",
        "  i <- 1 # пересенная для перебора в цикле всех элементов исходного вектора\n",
        "  r = vector(\"integer\") # создаем пустой вектор, чтобы записать в него номера пустых элементов в исходном векторе\n",
        "         for (i in 1:length(x)) { # цикл для перебора элементов исходного вектора\n",
        "             if (!is.na(x[i]) && x[i]>0) { # если не пустое значение \"!is.na(x[i])\"  и не меньше 0  \"x[i]>0\" , то увеличиваем наши счетчики\n",
        "               k = k + 1\n",
        "               #t = i\n",
        "               r[k] <- x[i] # и сохраняем в наш пустой вектор r  элемент номер i из исходного вектора x\n",
        "             }\n",
        "       }\n",
        "\n",
        "  return (sum(r)) # возвращаем сумму элементов полученного выше вектора r\n",
        "  }"
      ],
      "metadata": {
        "id": "r1RU4D0paLYG"
      },
      "execution_count": null,
      "outputs": []
    },
    {
      "cell_type": "markdown",
      "source": [
        "# 2_4_10\n",
        "\n",
        "Задача для героев!\n",
        "\n",
        "﻿Напишите функцию outliers.rm, которая находит и удаляет выбросы. Для обнаружения выбросов воспользуемся самым простым способом, с которым вы не раз встречались, используя график Box plot.\n",
        "\n",
        "Выбросами будем считать те наблюдения, которые отклоняются от 1 или 3 квартиля больше чем на 1,5 *  IQR, где  IQR  - межквартильный размах.\n",
        "\n",
        "На вход функция получает числовой вектор x. Функция должна возвращать модифицированный вектор x с удаленными выбросами.\n",
        "\n",
        "Ссылка на видео с объяснением, как на графике box-plot отображаются выбросы:\n",
        "\n",
        "https://stepik.org/lesson/%D0%9A%D0%B2%D0%B0%D1%80%D1%82%D0%B8%D0%BB%D0%B8-%D1%80%D0%B0%D1%81%D0%BF%...\n",
        "\n",
        "Полезные функции:\n",
        "\n",
        "IQR(x) - рассчитывает межквартильный размах вектора x\n",
        "\n",
        "quantile(x, probs = c(0.25, 0.75)) - рассчитывает первый и третий квартиль вектора x   "
      ],
      "metadata": {
        "id": "_BFQEUI8aQ7Q"
      }
    },
    {
      "cell_type": "code",
      "source": [
        "outliers.rm <- function(x)\n",
        "{\n",
        "    # print(x)\n",
        "    vector_rm_outliers <- c()\n",
        "\n",
        "    # квартили\n",
        "\n",
        "    q1 <- quantile(x, probs=c(0.75))\n",
        "    q3 <- quantile(x, probs=c(0.25))\n",
        "\n",
        "    # полтора интервала\n",
        "    wide_IQR <- 1.5 * IQR(x)\n",
        "    # print(q1)\n",
        "    # print(q3)\n",
        "    for (i in 1:length(x))\n",
        "    {\n",
        "        # print(x[i] < (q1 + wide_IQR))\n",
        "        if ((x[i] < (q1 + wide_IQR)) & (x[i] > (q3 - wide_IQR)))\n",
        "         {\n",
        "            vector_rm_outliers <- c(vector_rm_outliers, x[i])\n",
        "            # print(x[i])\n",
        "         }\n",
        "    }\n",
        "  return(vector_rm_outliers)\n",
        "}"
      ],
      "metadata": {
        "id": "6NolgOfeac_L"
      },
      "execution_count": 74,
      "outputs": []
    },
    {
      "cell_type": "markdown",
      "source": [
        "На моё решение не смотрите, давайте лучше разберём решение Евгении Головиной))\n",
        "\n",
        "Пусть q1 и q3 - первый и третий квартили соответственно.\n",
        "\n",
        "Из определения IQR = q3 - q1, а это значит, что q1 = q3 - IQR, а q3 = q1 + IQR.\n",
        "\n",
        "Отсюда q1 + q3 = q1 + q1 + IQR = 2*q1 + IQR\n",
        "\n",
        "Либо q1 + q3 = q3 + q3 - IQR = 2*q3 - IQR\n",
        "\n",
        "Если мы поделим сумму квартилей на 2, то получим q1 + IQR/2, что в точности равняется q3 - IQR/2.\n",
        "\n",
        "Вернёмся к условию задачи. Нам необходимо найти значения, которые будут либо меньше, чем q1 - 1.5*IQR либо больше, чем q3 + 1.5*IQR.\n",
        "\n",
        "Но разница нашей нижней границы с (q1 + q3)/2 будет равна q1 + IQR/2 - (q1 - 1.5*IQR) = 2*IQR.\n",
        "\n",
        "А верхней, соответственно q3 - IQR/2 - (q3 + 1.5*IQR) = -2*IQR\n",
        "\n",
        "Таким образом, выражение (q1 + q3)/2 находится на расстоянии ровно 2*IQR от допустимых границ, и мы смогли свести 2 сравнения к одному.\n",
        "\n",
        "Но каким образом всё это пришло в голову Евгении Головиной (pun intended) - науке до сих пор не известно :D"
      ],
      "metadata": {
        "id": "68kiLYXShGz7"
      }
    },
    {
      "cell_type": "code",
      "source": [
        "# решение Евгении Головиной.\n",
        "\n",
        "outliers.rm <- function(x){\n",
        "q <- quantile(x, 0.25) + quantile(x, 0.75)\n",
        "return(x[abs(x - q/2) <= 2*IQR(x)])}"
      ],
      "metadata": {
        "id": "c5bb135Bf_oF"
      },
      "execution_count": null,
      "outputs": []
    },
    {
      "cell_type": "code",
      "source": [
        "# my correct version\n",
        "\n",
        "outliers.rm <- function(x)\n",
        "{\n",
        "    vector_rm_outliers <- c()\n",
        "\n",
        "    q1 <- quantile(x, probs=c(0.25))\n",
        "    q3 <- quantile(x, probs=c(0.75))\n",
        "\n",
        "    # полтора интервала\n",
        "    wide_IQR <- 1.5 * IQR(x)\n",
        "\n",
        "    for (i in 1:length(x))\n",
        "    {\n",
        "        if ((x[i] < (q3 + wide_IQR)) & (x[i] > (q1 - wide_IQR)))\n",
        "         {\n",
        "            vector_rm_outliers <- c(vector_rm_outliers, x[i])\n",
        "         }\n",
        "    }\n",
        "  return(vector_rm_outliers)\n",
        "}"
      ],
      "metadata": {
        "id": "mdqq_SbCgCvk"
      },
      "execution_count": null,
      "outputs": []
    },
    {
      "cell_type": "code",
      "source": [
        "outliers.rm <- function(x){\n",
        "  q1 <- quantile(x, probs = 0.25)\n",
        "  q3 <- quantile(x, probs = 0.75)\n",
        "  less <- q1 - (1.5*IQR(x))\n",
        "  more <- q3 + (1.5*IQR(x))\n",
        "  res <- x[x > less & x < more]\n",
        "  return(res)\n",
        "}"
      ],
      "metadata": {
        "id": "UORl1yQmgfsr"
      },
      "execution_count": null,
      "outputs": []
    },
    {
      "cell_type": "code",
      "source": [
        "v <- c(-0.39, 0.24, 1.74, 6.27, -3.47, -0.63, 0.07, -0.23, -0.44, -0.46, -0.17, 29.1, 0.15, -0.84, 0.11, 19.38, -0.69, 1.45, -0.6, -1.55, 2.41, -1.7, -0.57, 0.52, -0.37, 0.49, 0.62, 1.3, -0.21, 7.87)\n",
        "\n",
        "outliers.rm(v)\n"
      ],
      "metadata": {
        "colab": {
          "base_uri": "https://localhost:8080/",
          "height": 34
        },
        "id": "L_L2md4ic6Rt",
        "outputId": "262706c1-ffd5-493a-ee5f-7582ab357475"
      },
      "execution_count": 75,
      "outputs": [
        {
          "output_type": "display_data",
          "data": {
            "text/html": [
              "<style>\n",
              ".list-inline {list-style: none; margin:0; padding: 0}\n",
              ".list-inline>li {display: inline-block}\n",
              ".list-inline>li:not(:last-child)::after {content: \"\\00b7\"; padding: 0 .5ex}\n",
              "</style>\n",
              "<ol class=list-inline><li>-0.39</li><li>0.24</li><li>1.74</li><li>-0.63</li><li>0.07</li><li>-0.23</li><li>-0.44</li><li>-0.46</li><li>-0.17</li><li>0.15</li><li>-0.84</li><li>0.11</li><li>-0.69</li><li>1.45</li><li>-0.6</li><li>-1.55</li><li>2.41</li><li>-1.7</li><li>-0.57</li><li>0.52</li><li>-0.37</li><li>0.49</li><li>0.62</li><li>1.3</li><li>-0.21</li></ol>\n"
            ],
            "text/markdown": "1. -0.39\n2. 0.24\n3. 1.74\n4. -0.63\n5. 0.07\n6. -0.23\n7. -0.44\n8. -0.46\n9. -0.17\n10. 0.15\n11. -0.84\n12. 0.11\n13. -0.69\n14. 1.45\n15. -0.6\n16. -1.55\n17. 2.41\n18. -1.7\n19. -0.57\n20. 0.52\n21. -0.37\n22. 0.49\n23. 0.62\n24. 1.3\n25. -0.21\n\n\n",
            "text/latex": "\\begin{enumerate*}\n\\item -0.39\n\\item 0.24\n\\item 1.74\n\\item -0.63\n\\item 0.07\n\\item -0.23\n\\item -0.44\n\\item -0.46\n\\item -0.17\n\\item 0.15\n\\item -0.84\n\\item 0.11\n\\item -0.69\n\\item 1.45\n\\item -0.6\n\\item -1.55\n\\item 2.41\n\\item -1.7\n\\item -0.57\n\\item 0.52\n\\item -0.37\n\\item 0.49\n\\item 0.62\n\\item 1.3\n\\item -0.21\n\\end{enumerate*}\n",
            "text/plain": [
              " [1] -0.39  0.24  1.74 -0.63  0.07 -0.23 -0.44 -0.46 -0.17  0.15 -0.84  0.11\n",
              "[13] -0.69  1.45 -0.60 -1.55  2.41 -1.70 -0.57  0.52 -0.37  0.49  0.62  1.30\n",
              "[25] -0.21"
            ]
          },
          "metadata": {}
        }
      ]
    }
  ]
}