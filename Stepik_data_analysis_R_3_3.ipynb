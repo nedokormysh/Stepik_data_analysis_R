{
  "nbformat": 4,
  "nbformat_minor": 0,
  "metadata": {
    "colab": {
      "provenance": [],
      "authorship_tag": "ABX9TyOt6ZZtDOJQA/GgEoS+xW4u",
      "include_colab_link": true
    },
    "kernelspec": {
      "name": "ir",
      "display_name": "R"
    },
    "language_info": {
      "name": "R"
    }
  },
  "cells": [
    {
      "cell_type": "markdown",
      "metadata": {
        "id": "view-in-github",
        "colab_type": "text"
      },
      "source": [
        "<a href=\"https://colab.research.google.com/github/nedokormysh/Stepik_data_analysis_R/blob/week_3_stat_part_2/Stepik_data_analysis_R_3_3.ipynb\" target=\"_parent\"><img src=\"https://colab.research.google.com/assets/colab-badge.svg\" alt=\"Open In Colab\"/></a>"
      ]
    },
    {
      "cell_type": "code",
      "source": [
        "install.packages(\"ggplot2\")\n",
        "library(\"ggplot2\")"
      ],
      "metadata": {
        "colab": {
          "base_uri": "https://localhost:8080/"
        },
        "id": "-S6FcTq5l7qj",
        "outputId": "71fd5f2d-5a0f-4d19-c096-cda6dcaf5a16"
      },
      "execution_count": null,
      "outputs": [
        {
          "output_type": "stream",
          "name": "stderr",
          "text": [
            "Installing package into ‘/usr/local/lib/R/site-library’\n",
            "(as ‘lib’ is unspecified)\n",
            "\n"
          ]
        }
      ]
    },
    {
      "cell_type": "markdown",
      "source": [
        "# 3_3_4\n",
        "\n",
        "Сейчас мы поработаем со встроенным датасетом attitude. Рассмотрим две модели\n",
        "\n",
        "\n",
        "model_full <- lm(rating ~ ., data = attitude)\n",
        "\n",
        "model_null <- lm(rating ~ 1, data = attitude)\n",
        "\n",
        "\n",
        "model_full - модель, которая предсказывает значение переменной рейтинг (rating) в зависимости от всех остальных переменных в данном датасете.\n",
        "\n",
        "model_null - модель, в которой нет ни одного предиктора, а есть только intercept. Значение intercept - это просто среднее значение зависимой переменной. Соответственно, модель предоставляет нам информацию только о том, отличается ли это среднее от нуля.\n",
        "\n",
        "Как говорилось в лекции, функция step позволяет нам подобрать модель с оптимальным количеством предикторов. С помощью аргумента scope мы можем задать пространство моделей с разным числом предикторов, в котором будет происходить поиск оптимального набора предикторов. Самый простой путь - задать границы возможных моделей с помощью нулевой и полной моделей.\n",
        "\n",
        "scope = list(lower = model_null, upper = model_full)\n",
        "Аргумент direction позволяет задать направление поиска.\n",
        "\n",
        "Первый аргумент (object) задаёт начальную модель, с которой начинается поиск. Обратите внимание на то, что при разных значениях аргумента direction нужно использовать разные начальные модели.\n",
        "\n",
        "Функция step возвращает оптимальную модель.\n",
        "\n",
        "Итак, задача! C помощью функции step найдите оптимальную модель для предсказания rating в датасете attitude. Model_full и model_null уже созданы. Сохраните команду с функцией step в переменную ideal_model."
      ],
      "metadata": {
        "id": "o7V_mlz1UT0D"
      }
    },
    {
      "cell_type": "code",
      "source": [
        "model_full <- lm(rating ~ ., data = attitude)\n",
        "\n",
        "model_null <- lm(rating ~ 1, data = attitude)"
      ],
      "metadata": {
        "id": "XJG8sY2TjfU5"
      },
      "execution_count": 2,
      "outputs": []
    },
    {
      "cell_type": "code",
      "source": [
        "scope = list(lower = model_null, upper = model_full)\n",
        "scope"
      ],
      "metadata": {
        "colab": {
          "base_uri": "https://localhost:8080/",
          "height": 382
        },
        "id": "5L0ey2NHjZyL",
        "outputId": "b94c0555-a0c7-426d-fafa-3c23d2b9388d"
      },
      "execution_count": 3,
      "outputs": [
        {
          "output_type": "display_data",
          "data": {
            "text/plain": [
              "$lower\n",
              "\n",
              "Call:\n",
              "lm(formula = rating ~ 1, data = attitude)\n",
              "\n",
              "Coefficients:\n",
              "(Intercept)  \n",
              "      64.63  \n",
              "\n",
              "\n",
              "$upper\n",
              "\n",
              "Call:\n",
              "lm(formula = rating ~ ., data = attitude)\n",
              "\n",
              "Coefficients:\n",
              "(Intercept)   complaints   privileges     learning       raises     critical  \n",
              "   10.78708      0.61319     -0.07305      0.32033      0.08173      0.03838  \n",
              "    advance  \n",
              "   -0.21706  \n",
              "\n"
            ]
          },
          "metadata": {}
        }
      ]
    },
    {
      "cell_type": "code",
      "source": [
        "step(model_full, direction = 'backward', scope = list(lower = model_null, upper = model_full) )"
      ],
      "metadata": {
        "colab": {
          "base_uri": "https://localhost:8080/",
          "height": 1000
        },
        "id": "vM8eyVLrj9qD",
        "outputId": "90c17110-c030-47b0-bc86-14c4fcf0c06c"
      },
      "execution_count": 4,
      "outputs": [
        {
          "output_type": "stream",
          "name": "stdout",
          "text": [
            "Start:  AIC=123.36\n",
            "rating ~ complaints + privileges + learning + raises + critical + \n",
            "    advance\n",
            "\n",
            "             Df Sum of Sq    RSS    AIC\n",
            "- critical    1      3.41 1152.4 121.45\n",
            "- raises      1      6.80 1155.8 121.54\n",
            "- privileges  1     14.47 1163.5 121.74\n",
            "- advance     1     74.11 1223.1 123.24\n",
            "<none>                    1149.0 123.36\n",
            "- learning    1    180.50 1329.5 125.74\n",
            "- complaints  1    724.80 1873.8 136.04\n",
            "\n",
            "Step:  AIC=121.45\n",
            "rating ~ complaints + privileges + learning + raises + advance\n",
            "\n",
            "             Df Sum of Sq    RSS    AIC\n",
            "- raises      1     10.61 1163.0 119.73\n",
            "- privileges  1     14.16 1166.6 119.82\n",
            "- advance     1     71.27 1223.7 121.25\n",
            "<none>                    1152.4 121.45\n",
            "- learning    1    177.74 1330.1 123.75\n",
            "- complaints  1    724.70 1877.1 134.09\n",
            "\n",
            "Step:  AIC=119.73\n",
            "rating ~ complaints + privileges + learning + advance\n",
            "\n",
            "             Df Sum of Sq    RSS    AIC\n",
            "- privileges  1     16.10 1179.1 118.14\n",
            "- advance     1     61.60 1224.6 119.28\n",
            "<none>                    1163.0 119.73\n",
            "- learning    1    197.03 1360.0 122.42\n",
            "- complaints  1   1165.94 2328.9 138.56\n",
            "\n",
            "Step:  AIC=118.14\n",
            "rating ~ complaints + learning + advance\n",
            "\n",
            "             Df Sum of Sq    RSS    AIC\n",
            "- advance     1     75.54 1254.7 118.00\n",
            "<none>                    1179.1 118.14\n",
            "- learning    1    186.12 1365.2 120.54\n",
            "- complaints  1   1259.91 2439.0 137.94\n",
            "\n",
            "Step:  AIC=118\n",
            "rating ~ complaints + learning\n",
            "\n",
            "             Df Sum of Sq    RSS    AIC\n",
            "<none>                    1254.7 118.00\n",
            "- learning    1    114.73 1369.4 118.63\n",
            "- complaints  1   1370.91 2625.6 138.16\n"
          ]
        },
        {
          "output_type": "display_data",
          "data": {
            "text/plain": [
              "\n",
              "Call:\n",
              "lm(formula = rating ~ complaints + learning, data = attitude)\n",
              "\n",
              "Coefficients:\n",
              "(Intercept)   complaints     learning  \n",
              "     9.8709       0.6435       0.2112  \n"
            ]
          },
          "metadata": {}
        }
      ]
    },
    {
      "cell_type": "code",
      "source": [
        "ideal_model <- step(model_full, diretion = 'backward')"
      ],
      "metadata": {
        "colab": {
          "base_uri": "https://localhost:8080/"
        },
        "id": "MdkzQ7hNkETY",
        "outputId": "7d234423-578c-423c-9aad-3ad81171fbf8"
      },
      "execution_count": 5,
      "outputs": [
        {
          "output_type": "stream",
          "name": "stdout",
          "text": [
            "Start:  AIC=123.36\n",
            "rating ~ complaints + privileges + learning + raises + critical + \n",
            "    advance\n",
            "\n",
            "             Df Sum of Sq    RSS    AIC\n",
            "- critical    1      3.41 1152.4 121.45\n",
            "- raises      1      6.80 1155.8 121.54\n",
            "- privileges  1     14.47 1163.5 121.74\n",
            "- advance     1     74.11 1223.1 123.24\n",
            "<none>                    1149.0 123.36\n",
            "- learning    1    180.50 1329.5 125.74\n",
            "- complaints  1    724.80 1873.8 136.04\n",
            "\n",
            "Step:  AIC=121.45\n",
            "rating ~ complaints + privileges + learning + raises + advance\n",
            "\n",
            "             Df Sum of Sq    RSS    AIC\n",
            "- raises      1     10.61 1163.0 119.73\n",
            "- privileges  1     14.16 1166.6 119.82\n",
            "- advance     1     71.27 1223.7 121.25\n",
            "<none>                    1152.4 121.45\n",
            "- learning    1    177.74 1330.1 123.75\n",
            "- complaints  1    724.70 1877.1 134.09\n",
            "\n",
            "Step:  AIC=119.73\n",
            "rating ~ complaints + privileges + learning + advance\n",
            "\n",
            "             Df Sum of Sq    RSS    AIC\n",
            "- privileges  1     16.10 1179.1 118.14\n",
            "- advance     1     61.60 1224.6 119.28\n",
            "<none>                    1163.0 119.73\n",
            "- learning    1    197.03 1360.0 122.42\n",
            "- complaints  1   1165.94 2328.9 138.56\n",
            "\n",
            "Step:  AIC=118.14\n",
            "rating ~ complaints + learning + advance\n",
            "\n",
            "             Df Sum of Sq    RSS    AIC\n",
            "- advance     1     75.54 1254.7 118.00\n",
            "<none>                    1179.1 118.14\n",
            "- learning    1    186.12 1365.2 120.54\n",
            "- complaints  1   1259.91 2439.0 137.94\n",
            "\n",
            "Step:  AIC=118\n",
            "rating ~ complaints + learning\n",
            "\n",
            "             Df Sum of Sq    RSS    AIC\n",
            "<none>                    1254.7 118.00\n",
            "- learning    1    114.73 1369.4 118.63\n",
            "- complaints  1   1370.91 2625.6 138.16\n"
          ]
        }
      ]
    },
    {
      "cell_type": "code",
      "source": [
        "ideal_model <- step(object = model_null, scope = list(lower = model_null, upper = model_full), direction = 'forward')"
      ],
      "metadata": {
        "id": "IaUigourjjzk"
      },
      "execution_count": null,
      "outputs": []
    },
    {
      "cell_type": "markdown",
      "source": [
        "# 3_3_5\n",
        "\n",
        "Сравните полную модель из предыдущего степа и оптимальную модель с помощью функции anova. Введите получившееся F-значение.\n",
        "\n",
        "Разделителем дробной и целой части в ответе должна быть запятая."
      ],
      "metadata": {
        "id": "GBkV5iyLkrje"
      }
    },
    {
      "cell_type": "code",
      "source": [
        "anova(model_full, ideal_model)"
      ],
      "metadata": {
        "colab": {
          "base_uri": "https://localhost:8080/",
          "height": 161
        },
        "id": "oT2cc04Ck0ym",
        "outputId": "333e9bab-8e9f-4959-d414-182fdc55faa9"
      },
      "execution_count": 8,
      "outputs": [
        {
          "output_type": "display_data",
          "data": {
            "text/html": [
              "<table class=\"dataframe\">\n",
              "<caption>A anova: 2 × 6</caption>\n",
              "<thead>\n",
              "\t<tr><th></th><th scope=col>Res.Df</th><th scope=col>RSS</th><th scope=col>Df</th><th scope=col>Sum of Sq</th><th scope=col>F</th><th scope=col>Pr(&gt;F)</th></tr>\n",
              "\t<tr><th></th><th scope=col>&lt;dbl&gt;</th><th scope=col>&lt;dbl&gt;</th><th scope=col>&lt;dbl&gt;</th><th scope=col>&lt;dbl&gt;</th><th scope=col>&lt;dbl&gt;</th><th scope=col>&lt;dbl&gt;</th></tr>\n",
              "</thead>\n",
              "<tbody>\n",
              "\t<tr><th scope=row>1</th><td>23</td><td>1149.000</td><td>NA</td><td>       NA</td><td>       NA</td><td>       NA</td></tr>\n",
              "\t<tr><th scope=row>2</th><td>27</td><td>1254.649</td><td>-4</td><td>-105.6486</td><td>0.5287028</td><td>0.7157839</td></tr>\n",
              "</tbody>\n",
              "</table>\n"
            ],
            "text/markdown": "\nA anova: 2 × 6\n\n| <!--/--> | Res.Df &lt;dbl&gt; | RSS &lt;dbl&gt; | Df &lt;dbl&gt; | Sum of Sq &lt;dbl&gt; | F &lt;dbl&gt; | Pr(&gt;F) &lt;dbl&gt; |\n|---|---|---|---|---|---|---|\n| 1 | 23 | 1149.000 | NA |        NA |        NA |        NA |\n| 2 | 27 | 1254.649 | -4 | -105.6486 | 0.5287028 | 0.7157839 |\n\n",
            "text/latex": "A anova: 2 × 6\n\\begin{tabular}{r|llllll}\n  & Res.Df & RSS & Df & Sum of Sq & F & Pr(>F)\\\\\n  & <dbl> & <dbl> & <dbl> & <dbl> & <dbl> & <dbl>\\\\\n\\hline\n\t1 & 23 & 1149.000 & NA &        NA &        NA &        NA\\\\\n\t2 & 27 & 1254.649 & -4 & -105.6486 & 0.5287028 & 0.7157839\\\\\n\\end{tabular}\n",
            "text/plain": [
              "  Res.Df RSS      Df Sum of Sq F         Pr(>F)   \n",
              "1 23     1149.000 NA        NA        NA        NA\n",
              "2 27     1254.649 -4 -105.6486 0.5287028 0.7157839"
            ]
          },
          "metadata": {}
        }
      ]
    },
    {
      "cell_type": "markdown",
      "source": [
        "# 3_3_6\n",
        "\n",
        "Напоследок потренируемся в эффективном написании формул. В этой задаче будем работать со встроенным датасетом LifeCycleSavings. Попытаемся предсказать значение sr на основе всех остальных переменных в этом датасете. Вспомните способы сокращения формул и напишите команду, которая создаёт линейную регрессию с главными эффектами и всеми возможными взаимодействиями второго уровня. Сохраните модель в переменную model."
      ],
      "metadata": {
        "id": "FtVwN3YElcBQ"
      }
    },
    {
      "cell_type": "code",
      "source": [
        "model <- lm(sr ~ .^2, data = LifeCycleSavings)"
      ],
      "metadata": {
        "id": "OSYsHr1TlenY"
      },
      "execution_count": null,
      "outputs": []
    },
    {
      "cell_type": "code",
      "source": [
        "model <- lm(sr ~ (.)*(.), data = LifeCycleSavings)"
      ],
      "metadata": {
        "id": "uspSA2khmRmb"
      },
      "execution_count": null,
      "outputs": []
    }
  ]
}