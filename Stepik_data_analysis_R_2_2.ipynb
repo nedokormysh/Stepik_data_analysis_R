{
  "nbformat": 4,
  "nbformat_minor": 0,
  "metadata": {
    "colab": {
      "provenance": [],
      "authorship_tag": "ABX9TyPwvWdiqNFPDzeN9R35DagJ",
      "include_colab_link": true
    },
    "kernelspec": {
      "name": "ir",
      "display_name": "R"
    },
    "language_info": {
      "name": "R"
    }
  },
  "cells": [
    {
      "cell_type": "markdown",
      "metadata": {
        "id": "view-in-github",
        "colab_type": "text"
      },
      "source": [
        "<a href=\"https://colab.research.google.com/github/nedokormysh/Stepik_data_analysis_R/blob/week_2_stat_part_1/Stepik_data_analysis_R_2_2.ipynb\" target=\"_parent\"><img src=\"https://colab.research.google.com/assets/colab-badge.svg\" alt=\"Open In Colab\"/></a>"
      ]
    },
    {
      "cell_type": "code",
      "source": [
        "install.packages(\"ggplot2\")\n",
        "library(\"ggplot2\")"
      ],
      "metadata": {
        "colab": {
          "base_uri": "https://localhost:8080/"
        },
        "id": "-S6FcTq5l7qj",
        "outputId": "3e47318b-ea6b-460a-ebf9-be6120087fa3"
      },
      "execution_count": 17,
      "outputs": [
        {
          "output_type": "stream",
          "name": "stderr",
          "text": [
            "Installing package into ‘/usr/local/lib/R/site-library’\n",
            "(as ‘lib’ is unspecified)\n",
            "\n"
          ]
        }
      ]
    },
    {
      "cell_type": "markdown",
      "source": [
        "# 2_2_10\n",
        "Задача про свинок!\n",
        "\n",
        "Воспользуемся еще одним встроенным набором данных в R  - ToothGrowth. Данные позволяют исследовать рост зубов у морских свинок в зависимости от дозировки витамина C и типа потребляемых продуктов.\n",
        "\n",
        "Сравните среднее значение длины зубов свинок, которые потребляли апельсиновый сок (OJ) с дозировкой 0.5 миллиграмм, со средним значением длины зубов свинок, которые потребляли аскорбиновую кислоту (VC) с дозировкой 2 миллиграмма.\n",
        "\n",
        "Значение t - критерия сохраните в переменную t_stat.\n",
        "\n"
      ],
      "metadata": {
        "id": "WnwqcfJVlFqW"
      }
    },
    {
      "cell_type": "code",
      "source": [
        "head(ToothGrowth)"
      ],
      "metadata": {
        "colab": {
          "base_uri": "https://localhost:8080/",
          "height": 286
        },
        "id": "-1-8eCErr0WN",
        "outputId": "2442d085-a6f6-42bb-d443-630300a00a6f"
      },
      "execution_count": 1,
      "outputs": [
        {
          "output_type": "display_data",
          "data": {
            "text/html": [
              "<table class=\"dataframe\">\n",
              "<caption>A data.frame: 6 × 3</caption>\n",
              "<thead>\n",
              "\t<tr><th></th><th scope=col>len</th><th scope=col>supp</th><th scope=col>dose</th></tr>\n",
              "\t<tr><th></th><th scope=col>&lt;dbl&gt;</th><th scope=col>&lt;fct&gt;</th><th scope=col>&lt;dbl&gt;</th></tr>\n",
              "</thead>\n",
              "<tbody>\n",
              "\t<tr><th scope=row>1</th><td> 4.2</td><td>VC</td><td>0.5</td></tr>\n",
              "\t<tr><th scope=row>2</th><td>11.5</td><td>VC</td><td>0.5</td></tr>\n",
              "\t<tr><th scope=row>3</th><td> 7.3</td><td>VC</td><td>0.5</td></tr>\n",
              "\t<tr><th scope=row>4</th><td> 5.8</td><td>VC</td><td>0.5</td></tr>\n",
              "\t<tr><th scope=row>5</th><td> 6.4</td><td>VC</td><td>0.5</td></tr>\n",
              "\t<tr><th scope=row>6</th><td>10.0</td><td>VC</td><td>0.5</td></tr>\n",
              "</tbody>\n",
              "</table>\n"
            ],
            "text/markdown": "\nA data.frame: 6 × 3\n\n| <!--/--> | len &lt;dbl&gt; | supp &lt;fct&gt; | dose &lt;dbl&gt; |\n|---|---|---|---|\n| 1 |  4.2 | VC | 0.5 |\n| 2 | 11.5 | VC | 0.5 |\n| 3 |  7.3 | VC | 0.5 |\n| 4 |  5.8 | VC | 0.5 |\n| 5 |  6.4 | VC | 0.5 |\n| 6 | 10.0 | VC | 0.5 |\n\n",
            "text/latex": "A data.frame: 6 × 3\n\\begin{tabular}{r|lll}\n  & len & supp & dose\\\\\n  & <dbl> & <fct> & <dbl>\\\\\n\\hline\n\t1 &  4.2 & VC & 0.5\\\\\n\t2 & 11.5 & VC & 0.5\\\\\n\t3 &  7.3 & VC & 0.5\\\\\n\t4 &  5.8 & VC & 0.5\\\\\n\t5 &  6.4 & VC & 0.5\\\\\n\t6 & 10.0 & VC & 0.5\\\\\n\\end{tabular}\n",
            "text/plain": [
              "  len  supp dose\n",
              "1  4.2 VC   0.5 \n",
              "2 11.5 VC   0.5 \n",
              "3  7.3 VC   0.5 \n",
              "4  5.8 VC   0.5 \n",
              "5  6.4 VC   0.5 \n",
              "6 10.0 VC   0.5 "
            ]
          },
          "metadata": {}
        }
      ]
    },
    {
      "cell_type": "code",
      "source": [
        "unique(ToothGrowth$supp)"
      ],
      "metadata": {
        "colab": {
          "base_uri": "https://localhost:8080/",
          "height": 52
        },
        "id": "JwC4wC1Sr_Qs",
        "outputId": "69f3d05c-7a68-4389-e595-89ad16f14e1a"
      },
      "execution_count": 2,
      "outputs": [
        {
          "output_type": "display_data",
          "data": {
            "text/html": [
              "<style>\n",
              ".list-inline {list-style: none; margin:0; padding: 0}\n",
              ".list-inline>li {display: inline-block}\n",
              ".list-inline>li:not(:last-child)::after {content: \"\\00b7\"; padding: 0 .5ex}\n",
              "</style>\n",
              "<ol class=list-inline><li>VC</li><li>OJ</li></ol>\n",
              "\n",
              "<details>\n",
              "\t<summary style=display:list-item;cursor:pointer>\n",
              "\t\t<strong>Levels</strong>:\n",
              "\t</summary>\n",
              "\t<style>\n",
              "\t.list-inline {list-style: none; margin:0; padding: 0}\n",
              "\t.list-inline>li {display: inline-block}\n",
              "\t.list-inline>li:not(:last-child)::after {content: \"\\00b7\"; padding: 0 .5ex}\n",
              "\t</style>\n",
              "\t<ol class=list-inline><li>'OJ'</li><li>'VC'</li></ol>\n",
              "</details>"
            ],
            "text/markdown": "1. VC\n2. OJ\n\n\n\n**Levels**: 1. 'OJ'\n2. 'VC'\n\n\n",
            "text/latex": "\\begin{enumerate*}\n\\item VC\n\\item OJ\n\\end{enumerate*}\n\n\\emph{Levels}: \\begin{enumerate*}\n\\item 'OJ'\n\\item 'VC'\n\\end{enumerate*}\n",
            "text/plain": [
              "[1] VC OJ\n",
              "Levels: OJ VC"
            ]
          },
          "metadata": {}
        }
      ]
    },
    {
      "cell_type": "code",
      "source": [
        "# subset(ToothGrowth$len, ToothGrowth$supp == 'OJ', ToothGrowth$supp == 'VC')"
      ],
      "metadata": {
        "colab": {
          "base_uri": "https://localhost:8080/",
          "height": 52
        },
        "id": "ixDYZlfErxx6",
        "outputId": "ad412479-eb9e-44c3-c21e-6d8ea86198b4"
      },
      "execution_count": 3,
      "outputs": [
        {
          "output_type": "display_data",
          "data": {
            "text/html": [
              "<style>\n",
              ".list-inline {list-style: none; margin:0; padding: 0}\n",
              ".list-inline>li {display: inline-block}\n",
              ".list-inline>li:not(:last-child)::after {content: \"\\00b7\"; padding: 0 .5ex}\n",
              "</style>\n",
              "<ol class=list-inline><li>15.2</li><li>21.5</li><li>17.6</li><li>9.7</li><li>14.5</li><li>10</li><li>8.2</li><li>9.4</li><li>16.5</li><li>9.7</li><li>19.7</li><li>23.3</li><li>23.6</li><li>26.4</li><li>20</li><li>25.2</li><li>25.8</li><li>21.2</li><li>14.5</li><li>27.3</li><li>25.5</li><li>26.4</li><li>22.4</li><li>24.5</li><li>24.8</li><li>30.9</li><li>26.4</li><li>27.3</li><li>29.4</li><li>23</li></ol>\n"
            ],
            "text/markdown": "1. 15.2\n2. 21.5\n3. 17.6\n4. 9.7\n5. 14.5\n6. 10\n7. 8.2\n8. 9.4\n9. 16.5\n10. 9.7\n11. 19.7\n12. 23.3\n13. 23.6\n14. 26.4\n15. 20\n16. 25.2\n17. 25.8\n18. 21.2\n19. 14.5\n20. 27.3\n21. 25.5\n22. 26.4\n23. 22.4\n24. 24.5\n25. 24.8\n26. 30.9\n27. 26.4\n28. 27.3\n29. 29.4\n30. 23\n\n\n",
            "text/latex": "\\begin{enumerate*}\n\\item 15.2\n\\item 21.5\n\\item 17.6\n\\item 9.7\n\\item 14.5\n\\item 10\n\\item 8.2\n\\item 9.4\n\\item 16.5\n\\item 9.7\n\\item 19.7\n\\item 23.3\n\\item 23.6\n\\item 26.4\n\\item 20\n\\item 25.2\n\\item 25.8\n\\item 21.2\n\\item 14.5\n\\item 27.3\n\\item 25.5\n\\item 26.4\n\\item 22.4\n\\item 24.5\n\\item 24.8\n\\item 30.9\n\\item 26.4\n\\item 27.3\n\\item 29.4\n\\item 23\n\\end{enumerate*}\n",
            "text/plain": [
              " [1] 15.2 21.5 17.6  9.7 14.5 10.0  8.2  9.4 16.5  9.7 19.7 23.3 23.6 26.4 20.0\n",
              "[16] 25.2 25.8 21.2 14.5 27.3 25.5 26.4 22.4 24.5 24.8 30.9 26.4 27.3 29.4 23.0"
            ]
          },
          "metadata": {}
        }
      ]
    },
    {
      "cell_type": "code",
      "source": [
        "subset(dd$len, dd$supp==\"OJ\" & dd$dose==0.5)"
      ],
      "metadata": {
        "colab": {
          "base_uri": "https://localhost:8080/",
          "height": 141
        },
        "id": "uEoQDg573Eee",
        "outputId": "1011c0f8-db81-4467-cfea-77a7b4e2872d"
      },
      "execution_count": 6,
      "outputs": [
        {
          "output_type": "error",
          "ename": "ERROR",
          "evalue": "ignored",
          "traceback": [
            "Error in eval(expr, envir, enclos): object 'dd' not found\nTraceback:\n",
            "1. subset(dd$len, dd$supp == \"OJ\" & dd$dose == 0.5)"
          ]
        }
      ]
    },
    {
      "cell_type": "code",
      "source": [
        "res <- t.test(x = subset(ToothGrowth$len, ToothGrowth$supp==\"OJ\" & ToothGrowth$dose==0.5),\n",
        "       y = subset(ToothGrowth$len, ToothGrowth$supp==\"VC\" & ToothGrowth$dose==2.0))\n",
        "\n",
        "t_stat <- res$statistic"
      ],
      "metadata": {
        "id": "IObUcuh924bU"
      },
      "execution_count": 10,
      "outputs": []
    },
    {
      "cell_type": "code",
      "source": [
        "correct_data <- subset(ToothGrowth, supp=='OJ' & dose==0.5 | supp=='VC' & dose==2)\n",
        "# t_stat <- t.test(len ~ supp, correct_data)$statistic\n",
        "head(correct_data)"
      ],
      "metadata": {
        "colab": {
          "base_uri": "https://localhost:8080/",
          "height": 286
        },
        "id": "h2LPcWYL3kvV",
        "outputId": "4ece3ca3-f4d9-4bad-da35-6aac2d6fd710"
      },
      "execution_count": 12,
      "outputs": [
        {
          "output_type": "display_data",
          "data": {
            "text/html": [
              "<table class=\"dataframe\">\n",
              "<caption>A data.frame: 6 × 3</caption>\n",
              "<thead>\n",
              "\t<tr><th></th><th scope=col>len</th><th scope=col>supp</th><th scope=col>dose</th></tr>\n",
              "\t<tr><th></th><th scope=col>&lt;dbl&gt;</th><th scope=col>&lt;fct&gt;</th><th scope=col>&lt;dbl&gt;</th></tr>\n",
              "</thead>\n",
              "<tbody>\n",
              "\t<tr><th scope=row>21</th><td>23.6</td><td>VC</td><td>2</td></tr>\n",
              "\t<tr><th scope=row>22</th><td>18.5</td><td>VC</td><td>2</td></tr>\n",
              "\t<tr><th scope=row>23</th><td>33.9</td><td>VC</td><td>2</td></tr>\n",
              "\t<tr><th scope=row>24</th><td>25.5</td><td>VC</td><td>2</td></tr>\n",
              "\t<tr><th scope=row>25</th><td>26.4</td><td>VC</td><td>2</td></tr>\n",
              "\t<tr><th scope=row>26</th><td>32.5</td><td>VC</td><td>2</td></tr>\n",
              "</tbody>\n",
              "</table>\n"
            ],
            "text/markdown": "\nA data.frame: 6 × 3\n\n| <!--/--> | len &lt;dbl&gt; | supp &lt;fct&gt; | dose &lt;dbl&gt; |\n|---|---|---|---|\n| 21 | 23.6 | VC | 2 |\n| 22 | 18.5 | VC | 2 |\n| 23 | 33.9 | VC | 2 |\n| 24 | 25.5 | VC | 2 |\n| 25 | 26.4 | VC | 2 |\n| 26 | 32.5 | VC | 2 |\n\n",
            "text/latex": "A data.frame: 6 × 3\n\\begin{tabular}{r|lll}\n  & len & supp & dose\\\\\n  & <dbl> & <fct> & <dbl>\\\\\n\\hline\n\t21 & 23.6 & VC & 2\\\\\n\t22 & 18.5 & VC & 2\\\\\n\t23 & 33.9 & VC & 2\\\\\n\t24 & 25.5 & VC & 2\\\\\n\t25 & 26.4 & VC & 2\\\\\n\t26 & 32.5 & VC & 2\\\\\n\\end{tabular}\n",
            "text/plain": [
              "   len  supp dose\n",
              "21 23.6 VC   2   \n",
              "22 18.5 VC   2   \n",
              "23 33.9 VC   2   \n",
              "24 25.5 VC   2   \n",
              "25 26.4 VC   2   \n",
              "26 32.5 VC   2   "
            ]
          },
          "metadata": {}
        }
      ]
    },
    {
      "cell_type": "code",
      "source": [
        "df <- ToothGrowth\n",
        "c1 <- t.test(df$len[df$supp == 'OJ' & df$dose == 0.5],df$len[df$supp == 'VC' & df$dose == 2])\n",
        "t_stat <- c1$statistic"
      ],
      "metadata": {
        "id": "BuOl0gQb4JOL"
      },
      "execution_count": null,
      "outputs": []
    },
    {
      "cell_type": "markdown",
      "source": [
        "# 2_2_11\n",
        "\n",
        "Скачайте данные, посвященные влиянию различного типа лечения на показатель артериального давления.\n",
        "\n",
        "https://stepik.org/media/attachments/lesson/11504/lekarstva.csv\n",
        "\n",
        "По всем испытуемым сравните показатель давления до начала лечения (Pressure_before) с показателем давления после лечения (Pressure_after) при помощи t - критерия для зависимых выборок.\n",
        "\n",
        "В поле для ответа укажите значение t - критерия.\n",
        "\n",
        "(В качестве десятичного разделителя используйте запятую, например: 123,54)"
      ],
      "metadata": {
        "id": "QZmNQvMS4XEP"
      }
    },
    {
      "cell_type": "code",
      "source": [
        "df <- read.csv(url('https://stepik.org/media/attachments/lesson/11504/lekarstva.csv'))\n",
        "head(df)"
      ],
      "metadata": {
        "colab": {
          "base_uri": "https://localhost:8080/",
          "height": 286
        },
        "id": "M9OcY5324kDo",
        "outputId": "baf52d3c-107f-4b65-ea77-80a525bdc11e"
      },
      "execution_count": 15,
      "outputs": [
        {
          "output_type": "display_data",
          "data": {
            "text/html": [
              "<table class=\"dataframe\">\n",
              "<caption>A data.frame: 6 × 6</caption>\n",
              "<thead>\n",
              "\t<tr><th></th><th scope=col>Group</th><th scope=col>Uroven_sahara_v_krovi</th><th scope=col>Pressure_before</th><th scope=col>Pressure_after</th><th scope=col>Holesterin..Aprel.</th><th scope=col>Holesterin..Mart.</th></tr>\n",
              "\t<tr><th></th><th scope=col>&lt;int&gt;</th><th scope=col>&lt;int&gt;</th><th scope=col>&lt;int&gt;</th><th scope=col>&lt;int&gt;</th><th scope=col>&lt;int&gt;</th><th scope=col>&lt;int&gt;</th></tr>\n",
              "</thead>\n",
              "<tbody>\n",
              "\t<tr><th scope=row>1</th><td>2</td><td> 90</td><td>170</td><td>135</td><td>235</td><td>205</td></tr>\n",
              "\t<tr><th scope=row>2</th><td>2</td><td> 85</td><td>160</td><td>155</td><td>185</td><td>195</td></tr>\n",
              "\t<tr><th scope=row>3</th><td>1</td><td> 95</td><td>165</td><td>155</td><td>235</td><td>260</td></tr>\n",
              "\t<tr><th scope=row>4</th><td>1</td><td> 86</td><td>170</td><td>165</td><td>155</td><td>136</td></tr>\n",
              "\t<tr><th scope=row>5</th><td>2</td><td>104</td><td>170</td><td>165</td><td>260</td><td>250</td></tr>\n",
              "\t<tr><th scope=row>6</th><td>1</td><td> 95</td><td>160</td><td>155</td><td>200</td><td>210</td></tr>\n",
              "</tbody>\n",
              "</table>\n"
            ],
            "text/markdown": "\nA data.frame: 6 × 6\n\n| <!--/--> | Group &lt;int&gt; | Uroven_sahara_v_krovi &lt;int&gt; | Pressure_before &lt;int&gt; | Pressure_after &lt;int&gt; | Holesterin..Aprel. &lt;int&gt; | Holesterin..Mart. &lt;int&gt; |\n|---|---|---|---|---|---|---|\n| 1 | 2 |  90 | 170 | 135 | 235 | 205 |\n| 2 | 2 |  85 | 160 | 155 | 185 | 195 |\n| 3 | 1 |  95 | 165 | 155 | 235 | 260 |\n| 4 | 1 |  86 | 170 | 165 | 155 | 136 |\n| 5 | 2 | 104 | 170 | 165 | 260 | 250 |\n| 6 | 1 |  95 | 160 | 155 | 200 | 210 |\n\n",
            "text/latex": "A data.frame: 6 × 6\n\\begin{tabular}{r|llllll}\n  & Group & Uroven\\_sahara\\_v\\_krovi & Pressure\\_before & Pressure\\_after & Holesterin..Aprel. & Holesterin..Mart.\\\\\n  & <int> & <int> & <int> & <int> & <int> & <int>\\\\\n\\hline\n\t1 & 2 &  90 & 170 & 135 & 235 & 205\\\\\n\t2 & 2 &  85 & 160 & 155 & 185 & 195\\\\\n\t3 & 1 &  95 & 165 & 155 & 235 & 260\\\\\n\t4 & 1 &  86 & 170 & 165 & 155 & 136\\\\\n\t5 & 2 & 104 & 170 & 165 & 260 & 250\\\\\n\t6 & 1 &  95 & 160 & 155 & 200 & 210\\\\\n\\end{tabular}\n",
            "text/plain": [
              "  Group Uroven_sahara_v_krovi Pressure_before Pressure_after Holesterin..Aprel.\n",
              "1 2      90                   170             135            235               \n",
              "2 2      85                   160             155            185               \n",
              "3 1      95                   165             155            235               \n",
              "4 1      86                   170             165            155               \n",
              "5 2     104                   170             165            260               \n",
              "6 1      95                   160             155            200               \n",
              "  Holesterin..Mart.\n",
              "1 205              \n",
              "2 195              \n",
              "3 260              \n",
              "4 136              \n",
              "5 250              \n",
              "6 210              "
            ]
          },
          "metadata": {}
        }
      ]
    },
    {
      "cell_type": "code",
      "source": [
        "t.test(df$Pressure_before, df$Pressure_after, paired = T)$statistic"
      ],
      "metadata": {
        "colab": {
          "base_uri": "https://localhost:8080/",
          "height": 208
        },
        "id": "D6aEh4k3865B",
        "outputId": "b224358f-d905-49d2-a497-d928aed69050"
      },
      "execution_count": 21,
      "outputs": [
        {
          "output_type": "display_data",
          "data": {
            "text/plain": [
              "\n",
              "\tPaired t-test\n",
              "\n",
              "data:  df$Pressure_before and df$Pressure_after\n",
              "t = 14.227, df = 173, p-value < 2.2e-16\n",
              "alternative hypothesis: true mean difference is not equal to 0\n",
              "95 percent confidence interval:\n",
              " 13.24068 17.50644\n",
              "sample estimates:\n",
              "mean difference \n",
              "       15.37356 \n"
            ]
          },
          "metadata": {}
        }
      ]
    },
    {
      "cell_type": "code",
      "source": [
        "library(ggplot2)\n",
        "\n",
        "# df <- read.csv(\"medicines.csv\")\n",
        "str(df)\n",
        "df$Group = factor(df$Group)\n",
        "\n",
        "pressures_before <- data.frame(Group = df$Group, Pressure = \"before\", Value = df$Pressure_before)\n",
        "pressures_after <- data.frame(Group = df$Group, Pressure = \"after\", Value = df$Pressure_after)\n",
        "\n",
        "pressures <- rbind(pressures_before, pressures_after)\n",
        "\n",
        "ggplot(pressures, aes(Group, Value, col=Pressure))+\n",
        "  geom_boxplot()\n",
        "\n",
        "ggplot(pressures, aes(Value, fill=Group))+\n",
        "  geom_density(alpha = 0.5)+\n",
        "  facet_wrap(Pressure ~ .)"
      ],
      "metadata": {
        "colab": {
          "base_uri": "https://localhost:8080/",
          "height": 979
        },
        "id": "WDUHMPZC9n8s",
        "outputId": "98636bad-a392-40a7-c620-a7703b2ff127"
      },
      "execution_count": 19,
      "outputs": [
        {
          "output_type": "stream",
          "name": "stdout",
          "text": [
            "'data.frame':\t174 obs. of  6 variables:\n",
            " $ Group                : int  2 2 1 1 2 1 2 1 1 1 ...\n",
            " $ Uroven_sahara_v_krovi: int  90 85 95 86 104 95 95 90 105 105 ...\n",
            " $ Pressure_before      : int  170 160 165 170 170 160 170 160 160 165 ...\n",
            " $ Pressure_after       : int  135 155 155 165 165 155 160 150 155 155 ...\n",
            " $ Holesterin..Aprel.   : int  235 185 235 155 260 200 225 180 220 175 ...\n",
            " $ Holesterin..Mart.    : int  205 195 260 136 250 210 200 155 200 195 ...\n"
          ]
        },
        {
          "output_type": "display_data",
          "data": {
            "text/plain": [
              "plot without title"
            ],
            "image/png": "[encoded data removed]"
          },
          "metadata": {
            "image/png": {
              "width": 420,
              "height": 420
            }
          }
        },
        {
          "output_type": "display_data",
          "data": {
            "text/plain": [
              "plot without title"
            ],
            "image/png": "[encoded data removed]"
          },
          "metadata": {
            "image/png": {
              "width": 420,
              "height": 420
            }
          }
        }
      ]
    },
    {
      "cell_type": "markdown",
      "source": [
        "# 2_2_15\n",
        "\n",
        "В этом задании нужно проверить гипотезу о равенстве средних двух выборок, загрузив набор данных (нажмите начать решать задание) и выполнив все необходимые операции на вашем компьютере. В скачанных данных вы найдете две переменные: количественную переменную, и номинативную переменную с двумя градациями (которая разделяет наблюдения на две группы).\n",
        "\n",
        "Для того чтобы без труда прочитать скачанные данные воспользуйтесь функцией:\n",
        "read.table(\"dataset_11504_11.txt\")\n",
        "# разумеется, у вас может быть другое название файла\n",
        "# также убедитесь, что файл находится в рабочей директории\n",
        "# или укажите полный путь к файлу\n",
        "Сначала с помощью теста Бартлетта проверьте гомогенность дисперсий двух выборок. В случае, если дисперсии значимо не отличаются (с уровнем 0.05), примените тест Стьюдента, иначе - непараметрический тест (Манна-Уитни). В поле для ответа введите получившийся p-value, с точностью четыре знака после запятой.\n",
        "Обратите внимание, что по умолчанию в t.test стоит var.equal = FALSE, так как мы будем применять его только в случае гомогенности дисперсий, измените значение этого параметра на  var.equal = TRUE.\n",
        "\n",
        "Каждый раз вы будете скачивать новый набор данных.\n",
        "\n",
        "Важно - в этом ответе используйте точку как десятичный разделитель!\n",
        "\n",
        "Если p - value сильно меньше 0.05, например, 1.01e-07, в поле для ответа можете ввести 0\n",
        "\n",
        "Сам код в поле для ответа вводить не надо, от вас ожидается только результат - одно число\n"
      ],
      "metadata": {
        "id": "62_DT3_nBwOW"
      }
    },
    {
      "cell_type": "code",
      "source": [
        "df <- read.csv(\"medicines.csv\")\n",
        "\n",
        "b <- bartlett.test(V1 ~ V2, data)"
      ],
      "metadata": {
        "id": "XaRjum_cB3mj"
      },
      "execution_count": null,
      "outputs": []
    },
    {
      "cell_type": "code",
      "source": [
        "data = read.table(\"dataset_11504_15.txt\")\n",
        "b <- bartlett.test(V1~V2, data)\n",
        "if (b$p.value >= 0.05){\n",
        "  t.test(V1~V2, data, var.equal=T)\n",
        "} else{wilcox.test(V1~V2, data)\n",
        "}"
      ],
      "metadata": {
        "colab": {
          "base_uri": "https://localhost:8080/",
          "height": 121
        },
        "id": "mOeLiGDQCTyr",
        "outputId": "29a16977-eeeb-4c41-a336-fc94de2a762a"
      },
      "execution_count": 23,
      "outputs": [
        {
          "output_type": "display_data",
          "data": {
            "text/plain": [
              "\n",
              "\tWilcoxon rank sum test with continuity correction\n",
              "\n",
              "data:  V1 by V2\n",
              "W = 1328, p-value = 0.5932\n",
              "alternative hypothesis: true location shift is not equal to 0\n"
            ]
          },
          "metadata": {}
        }
      ]
    },
    {
      "cell_type": "code",
      "source": [
        "data = read.table(\"dataset_11504_15.txt\")\n",
        "b <- bartlett.test(V1~V2, data)\n",
        "if (b$p.value >= 0.05){\n",
        "  print(round(t.test(V1~V2, data, var.equal=T)$p.value, 4))\n",
        "} else{print(round(wilcox.test(V1~V2, data)$p.value, 4))\n",
        "}"
      ],
      "metadata": {
        "colab": {
          "base_uri": "https://localhost:8080/"
        },
        "id": "3_iTAj9hCzQh",
        "outputId": "8cc31878-1149-47bf-aa84-bb8d1ecc6b5b"
      },
      "execution_count": 48,
      "outputs": [
        {
          "output_type": "stream",
          "name": "stdout",
          "text": [
            "[1] 0.5932\n"
          ]
        }
      ]
    },
    {
      "cell_type": "markdown",
      "source": [
        "# 2_2_15\n",
        "\n",
        "В этом задании также необходимо скачать данные на ваш компьютер.\n",
        "\n",
        "В данных сохранены две количественные переменные, проверьте гипотезу о равенстве средних этих переменных при помощи t- теста для независимых выборок.\n",
        "\n",
        "Если обнаружены значимые различия (p< 0.05), то введите через пробел три числа: среднее значение первой переменной, среднее значение второй переменной, p - уровень значимости. Например:\n",
        "\n",
        "22.45 12.56 0.04\n",
        "\n",
        "Если значимые различия не обнаружены, то в поле для ответа введите:\n",
        "\n",
        "\"The difference is not significant\"\n",
        "\n",
        "В этой задаче оставьте var.equal = FALSE"
      ],
      "metadata": {
        "id": "QY5uipZAD9CQ"
      }
    },
    {
      "cell_type": "markdown",
      "source": [
        "Из памятки:\n",
        "\n",
        "t.test(Var1 ~ Var2, data) # если первая переменная количественная, а вторая фактор\n",
        "\n",
        "t.test(data$Var1,data$Var2) # если обе переменные количественные\n",
        "\n",
        "Внимание, тут количественные переменные"
      ],
      "metadata": {
        "id": "O4qLrADIEpAj"
      }
    },
    {
      "cell_type": "code",
      "source": [
        "data <- read.table(\"dataset_11504_16 (2).txt\")\n",
        "head(data)"
      ],
      "metadata": {
        "colab": {
          "base_uri": "https://localhost:8080/",
          "height": 286
        },
        "id": "u273n-A4Ehkm",
        "outputId": "24536b23-4cbf-4b77-b1d3-379cca4b281e"
      },
      "execution_count": 62,
      "outputs": [
        {
          "output_type": "display_data",
          "data": {
            "text/html": [
              "<table class=\"dataframe\">\n",
              "<caption>A data.frame: 6 × 2</caption>\n",
              "<thead>\n",
              "\t<tr><th></th><th scope=col>V1</th><th scope=col>V2</th></tr>\n",
              "\t<tr><th></th><th scope=col>&lt;dbl&gt;</th><th scope=col>&lt;dbl&gt;</th></tr>\n",
              "</thead>\n",
              "<tbody>\n",
              "\t<tr><th scope=row>1</th><td>-0.749</td><td>-0.855</td></tr>\n",
              "\t<tr><th scope=row>2</th><td> 0.763</td><td>-0.220</td></tr>\n",
              "\t<tr><th scope=row>3</th><td> 0.080</td><td> 2.049</td></tr>\n",
              "\t<tr><th scope=row>4</th><td>-1.465</td><td> 1.096</td></tr>\n",
              "\t<tr><th scope=row>5</th><td>-0.314</td><td>-0.376</td></tr>\n",
              "\t<tr><th scope=row>6</th><td>-0.174</td><td> 0.863</td></tr>\n",
              "</tbody>\n",
              "</table>\n"
            ],
            "text/markdown": "\nA data.frame: 6 × 2\n\n| <!--/--> | V1 &lt;dbl&gt; | V2 &lt;dbl&gt; |\n|---|---|---|\n| 1 | -0.749 | -0.855 |\n| 2 |  0.763 | -0.220 |\n| 3 |  0.080 |  2.049 |\n| 4 | -1.465 |  1.096 |\n| 5 | -0.314 | -0.376 |\n| 6 | -0.174 |  0.863 |\n\n",
            "text/latex": "A data.frame: 6 × 2\n\\begin{tabular}{r|ll}\n  & V1 & V2\\\\\n  & <dbl> & <dbl>\\\\\n\\hline\n\t1 & -0.749 & -0.855\\\\\n\t2 &  0.763 & -0.220\\\\\n\t3 &  0.080 &  2.049\\\\\n\t4 & -1.465 &  1.096\\\\\n\t5 & -0.314 & -0.376\\\\\n\t6 & -0.174 &  0.863\\\\\n\\end{tabular}\n",
            "text/plain": [
              "  V1     V2    \n",
              "1 -0.749 -0.855\n",
              "2  0.763 -0.220\n",
              "3  0.080  2.049\n",
              "4 -1.465  1.096\n",
              "5 -0.314 -0.376\n",
              "6 -0.174  0.863"
            ]
          },
          "metadata": {}
        }
      ]
    },
    {
      "cell_type": "code",
      "source": [
        "t <- t.test(data$V1, data$V2, var.equal = F)$p.value\n",
        "t"
      ],
      "metadata": {
        "colab": {
          "base_uri": "https://localhost:8080/",
          "height": 34
        },
        "id": "0iHj9iIlGL7p",
        "outputId": "571aa4cb-8056-4193-a829-7858f2df16ed"
      },
      "execution_count": 63,
      "outputs": [
        {
          "output_type": "display_data",
          "data": {
            "text/html": [
              "0.129513958055961"
            ],
            "text/markdown": "0.129513958055961",
            "text/latex": "0.129513958055961",
            "text/plain": [
              "[1] 0.129514"
            ]
          },
          "metadata": {}
        }
      ]
    },
    {
      "cell_type": "code",
      "source": [
        "if (t <= 0.05){\n",
        "  print(c(mean(data$V1), mean(data$V2), t))\n",
        "} else{print('The difference is not significant')\n",
        "}"
      ],
      "metadata": {
        "colab": {
          "base_uri": "https://localhost:8080/"
        },
        "id": "7FyL7Jd7Hh18",
        "outputId": "7e0a7284-31c8-4d58-92c7-621b23881d74"
      },
      "execution_count": 64,
      "outputs": [
        {
          "output_type": "stream",
          "name": "stdout",
          "text": [
            "[1] \"The difference is not significant\"\n"
          ]
        }
      ]
    },
    {
      "cell_type": "code",
      "source": [
        "if (t <= 0.05){\n",
        "  print('Hello')\n",
        "} else {print(\"The difference is not significant\")\n",
        "}"
      ],
      "metadata": {
        "colab": {
          "base_uri": "https://localhost:8080/"
        },
        "id": "hJ2nKnIoGVPl",
        "outputId": "10fdc791-1837-4b43-b20f-a0fb0e90fb4b"
      },
      "execution_count": 58,
      "outputs": [
        {
          "output_type": "stream",
          "name": "stdout",
          "text": [
            "[1] \"Hello\"\n"
          ]
        }
      ]
    }
  ]
}