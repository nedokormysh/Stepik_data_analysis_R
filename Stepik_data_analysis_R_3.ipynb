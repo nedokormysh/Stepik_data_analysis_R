{
  "nbformat": 4,
  "nbformat_minor": 0,
  "metadata": {
    "colab": {
      "provenance": [],
      "authorship_tag": "ABX9TyPg3u/jUMdQAlHVrZVMv9mX",
      "include_colab_link": true
    },
    "kernelspec": {
      "name": "ir",
      "display_name": "R"
    },
    "language_info": {
      "name": "R"
    }
  },
  "cells": [
    {
      "cell_type": "markdown",
      "metadata": {
        "id": "view-in-github",
        "colab_type": "text"
      },
      "source": [
        "<a href=\"https://colab.research.google.com/github/nedokormysh/Stepik_data_analysis_R/blob/week_1_data_prep/Stepik_data_analysis_R_3.ipynb\" target=\"_parent\"><img src=\"https://colab.research.google.com/assets/colab-badge.svg\" alt=\"Open In Colab\"/></a>"
      ]
    },
    {
      "cell_type": "markdown",
      "source": [
        "# 1_5_5\n",
        "\n",
        "Вновь вернемся к данным mtcars. Рассчитайте среднее значение времени разгона (qsec) для автомобилей, число цилиндров (cyl) у которых не равняется 3 и показатель количества миль на галлон топлива (mpg) больше 20.\n",
        "\n",
        "Получившийся результат (среднее значение) сохраните в переменную result."
      ],
      "metadata": {
        "id": "2gS35xITjDkx"
      }
    },
    {
      "cell_type": "code",
      "source": [
        "mean(mtcars$qsec[mtcars$cyl != 3 & mtcars$mpg > 20])"
      ],
      "metadata": {
        "colab": {
          "base_uri": "https://localhost:8080/",
          "height": 34
        },
        "id": "62wJdVeAihYx",
        "outputId": "073f9c3f-c793-465f-dd04-6e5540b216d9"
      },
      "execution_count": null,
      "outputs": [
        {
          "output_type": "display_data",
          "data": {
            "text/html": [
              "18.8164285714286"
            ],
            "text/markdown": "18.8164285714286",
            "text/latex": "18.8164285714286",
            "text/plain": [
              "[1] 18.81643"
            ]
          },
          "metadata": {}
        }
      ]
    },
    {
      "cell_type": "markdown",
      "source": [
        "#1_5_7\n",
        "\n",
        "При помощи функции aggregate рассчитайте стандартное отклонение переменной hp (лошадиные силы) и переменной disp (вместимости двигателя)  у машин с автоматической и ручной коробкой передач.\n",
        "\n",
        "Полученные результаты (результаты выполнения функции aggregate) сохраните в переменную descriptions_stat."
      ],
      "metadata": {
        "id": "WnwqcfJVlFqW"
      }
    },
    {
      "cell_type": "code",
      "source": [
        "descriptions_stat <- aggregate(cbind(hp,disp) ~ am, mtcars, sd)\n",
        "descriptions_stat"
      ],
      "metadata": {
        "colab": {
          "base_uri": "https://localhost:8080/",
          "height": 161
        },
        "id": "9Nr1rbDGlJqG",
        "outputId": "eb83889f-e993-431b-b964-674500f9f5fe"
      },
      "execution_count": null,
      "outputs": [
        {
          "output_type": "display_data",
          "data": {
            "text/html": [
              "<table class=\"dataframe\">\n",
              "<caption>A data.frame: 2 × 3</caption>\n",
              "<thead>\n",
              "\t<tr><th scope=col>am</th><th scope=col>hp</th><th scope=col>disp</th></tr>\n",
              "\t<tr><th scope=col>&lt;dbl&gt;</th><th scope=col>&lt;dbl&gt;</th><th scope=col>&lt;dbl&gt;</th></tr>\n",
              "</thead>\n",
              "<tbody>\n",
              "\t<tr><td>0</td><td>53.90820</td><td>110.17165</td></tr>\n",
              "\t<tr><td>1</td><td>84.06232</td><td> 87.20399</td></tr>\n",
              "</tbody>\n",
              "</table>\n"
            ],
            "text/markdown": "\nA data.frame: 2 × 3\n\n| am &lt;dbl&gt; | hp &lt;dbl&gt; | disp &lt;dbl&gt; |\n|---|---|---|\n| 0 | 53.90820 | 110.17165 |\n| 1 | 84.06232 |  87.20399 |\n\n",
            "text/latex": "A data.frame: 2 × 3\n\\begin{tabular}{lll}\n am & hp & disp\\\\\n <dbl> & <dbl> & <dbl>\\\\\n\\hline\n\t 0 & 53.90820 & 110.17165\\\\\n\t 1 & 84.06232 &  87.20399\\\\\n\\end{tabular}\n",
            "text/plain": [
              "  am hp       disp     \n",
              "1 0  53.90820 110.17165\n",
              "2 1  84.06232  87.20399"
            ]
          },
          "metadata": {}
        }
      ]
    },
    {
      "cell_type": "code",
      "source": [
        "descriptions_stat <- aggregate(cbind(hp,disp) ~ am, mtcars, sd)"
      ],
      "metadata": {
        "id": "rhfWli-uluUV"
      },
      "execution_count": null,
      "outputs": []
    },
    {
      "cell_type": "code",
      "source": [
        "descriptions_stat <- aggregate(mtcars[,c(4,3)], by = list(mtcars$am), FUN = sd)\n",
        "descriptions_stat"
      ],
      "metadata": {
        "colab": {
          "base_uri": "https://localhost:8080/",
          "height": 161
        },
        "id": "TspCrRGzma6M",
        "outputId": "ce38af61-489d-47dd-e885-f295e86f9c64"
      },
      "execution_count": null,
      "outputs": [
        {
          "output_type": "display_data",
          "data": {
            "text/html": [
              "<table class=\"dataframe\">\n",
              "<caption>A data.frame: 2 × 3</caption>\n",
              "<thead>\n",
              "\t<tr><th scope=col>Group.1</th><th scope=col>hp</th><th scope=col>disp</th></tr>\n",
              "\t<tr><th scope=col>&lt;dbl&gt;</th><th scope=col>&lt;dbl&gt;</th><th scope=col>&lt;dbl&gt;</th></tr>\n",
              "</thead>\n",
              "<tbody>\n",
              "\t<tr><td>0</td><td>53.90820</td><td>110.17165</td></tr>\n",
              "\t<tr><td>1</td><td>84.06232</td><td> 87.20399</td></tr>\n",
              "</tbody>\n",
              "</table>\n"
            ],
            "text/markdown": "\nA data.frame: 2 × 3\n\n| Group.1 &lt;dbl&gt; | hp &lt;dbl&gt; | disp &lt;dbl&gt; |\n|---|---|---|\n| 0 | 53.90820 | 110.17165 |\n| 1 | 84.06232 |  87.20399 |\n\n",
            "text/latex": "A data.frame: 2 × 3\n\\begin{tabular}{lll}\n Group.1 & hp & disp\\\\\n <dbl> & <dbl> & <dbl>\\\\\n\\hline\n\t 0 & 53.90820 & 110.17165\\\\\n\t 1 & 84.06232 &  87.20399\\\\\n\\end{tabular}\n",
            "text/plain": [
              "  Group.1 hp       disp     \n",
              "1 0       53.90820 110.17165\n",
              "2 1       84.06232  87.20399"
            ]
          },
          "metadata": {}
        }
      ]
    },
    {
      "cell_type": "code",
      "source": [
        "# indicate that you're running R code\n",
        "# %%R\n",
        "\n",
        "# Install if it's your first time to run\n",
        "install.packages(\"psych\")\n",
        "# install.packages(\"data.table\")\n",
        "\n",
        "# Load\n",
        "library(psych)\n",
        "# library(data.table)"
      ],
      "metadata": {
        "colab": {
          "base_uri": "https://localhost:8080/"
        },
        "id": "UNgewJj_x1-a",
        "outputId": "e0f1ee8c-afad-46b2-aace-3477a4796135"
      },
      "execution_count": 3,
      "outputs": [
        {
          "output_type": "stream",
          "name": "stderr",
          "text": [
            "Installing package into ‘/usr/local/lib/R/site-library’\n",
            "(as ‘lib’ is unspecified)\n",
            "\n",
            "also installing the dependency ‘mnormt’\n",
            "\n",
            "\n"
          ]
        }
      ]
    },
    {
      "cell_type": "code",
      "source": [
        "?describe"
      ],
      "metadata": {
        "id": "4G5phDhZuvR_"
      },
      "execution_count": null,
      "outputs": []
    },
    {
      "cell_type": "code",
      "source": [
        "describe()"
      ],
      "metadata": {
        "id": "XmZAizr_yjZa"
      },
      "execution_count": null,
      "outputs": []
    },
    {
      "cell_type": "markdown",
      "source": [
        "# 1_5_11\n",
        "\n",
        "Воспользуемся встроенными данными airquality. В новую переменную сохраните subset исходных данных, оставив наблюдения только для месяцев 7, 8 и 9.\n",
        "\n",
        "При помощи функции aggregate рассчитайте количество непропущенных наблюдений по переменной Ozone в 7, 8 и 9 месяце. Для определения количества наблюдений используйте функцию length().\n",
        "\n",
        "Результат выполнения функции aggregate сохраните в переменную result.\n",
        "\n",
        "Подсказки:\n",
        "\n",
        "1. Не забудьте сделать subset, чтобы отобрать наблюдения только по нужным месяцам, вам может пригодиться следующая конструкция:\n",
        "\n",
        "\n",
        "> x <- 5\n",
        "> x %in% c(3, 4, 5)\n",
        "[1] TRUE\n",
        "\n",
        "2. Для подсчета числа непропущенных наблюдений воспользуйтесь записью с помощью формулы, при которой пропущенные значения не учитываются:\n",
        "aggregate(y ~ x + z , data, FUN)\n",
        "\n"
      ],
      "metadata": {
        "id": "XoVF2lx4cscA"
      }
    },
    {
      "cell_type": "code",
      "source": [
        "head(airquality)"
      ],
      "metadata": {
        "colab": {
          "base_uri": "https://localhost:8080/",
          "height": 286
        },
        "id": "3Vw0ceKtcxib",
        "outputId": "fca6a718-b275-4b1e-8b2f-4c4dca15a98b"
      },
      "execution_count": null,
      "outputs": [
        {
          "output_type": "display_data",
          "data": {
            "text/html": [
              "<table class=\"dataframe\">\n",
              "<caption>A data.frame: 6 × 6</caption>\n",
              "<thead>\n",
              "\t<tr><th></th><th scope=col>Ozone</th><th scope=col>Solar.R</th><th scope=col>Wind</th><th scope=col>Temp</th><th scope=col>Month</th><th scope=col>Day</th></tr>\n",
              "\t<tr><th></th><th scope=col>&lt;int&gt;</th><th scope=col>&lt;int&gt;</th><th scope=col>&lt;dbl&gt;</th><th scope=col>&lt;int&gt;</th><th scope=col>&lt;int&gt;</th><th scope=col>&lt;int&gt;</th></tr>\n",
              "</thead>\n",
              "<tbody>\n",
              "\t<tr><th scope=row>1</th><td>41</td><td>190</td><td> 7.4</td><td>67</td><td>5</td><td>1</td></tr>\n",
              "\t<tr><th scope=row>2</th><td>36</td><td>118</td><td> 8.0</td><td>72</td><td>5</td><td>2</td></tr>\n",
              "\t<tr><th scope=row>3</th><td>12</td><td>149</td><td>12.6</td><td>74</td><td>5</td><td>3</td></tr>\n",
              "\t<tr><th scope=row>4</th><td>18</td><td>313</td><td>11.5</td><td>62</td><td>5</td><td>4</td></tr>\n",
              "\t<tr><th scope=row>5</th><td>NA</td><td> NA</td><td>14.3</td><td>56</td><td>5</td><td>5</td></tr>\n",
              "\t<tr><th scope=row>6</th><td>28</td><td> NA</td><td>14.9</td><td>66</td><td>5</td><td>6</td></tr>\n",
              "</tbody>\n",
              "</table>\n"
            ],
            "text/markdown": "\nA data.frame: 6 × 6\n\n| <!--/--> | Ozone &lt;int&gt; | Solar.R &lt;int&gt; | Wind &lt;dbl&gt; | Temp &lt;int&gt; | Month &lt;int&gt; | Day &lt;int&gt; |\n|---|---|---|---|---|---|---|\n| 1 | 41 | 190 |  7.4 | 67 | 5 | 1 |\n| 2 | 36 | 118 |  8.0 | 72 | 5 | 2 |\n| 3 | 12 | 149 | 12.6 | 74 | 5 | 3 |\n| 4 | 18 | 313 | 11.5 | 62 | 5 | 4 |\n| 5 | NA |  NA | 14.3 | 56 | 5 | 5 |\n| 6 | 28 |  NA | 14.9 | 66 | 5 | 6 |\n\n",
            "text/latex": "A data.frame: 6 × 6\n\\begin{tabular}{r|llllll}\n  & Ozone & Solar.R & Wind & Temp & Month & Day\\\\\n  & <int> & <int> & <dbl> & <int> & <int> & <int>\\\\\n\\hline\n\t1 & 41 & 190 &  7.4 & 67 & 5 & 1\\\\\n\t2 & 36 & 118 &  8.0 & 72 & 5 & 2\\\\\n\t3 & 12 & 149 & 12.6 & 74 & 5 & 3\\\\\n\t4 & 18 & 313 & 11.5 & 62 & 5 & 4\\\\\n\t5 & NA &  NA & 14.3 & 56 & 5 & 5\\\\\n\t6 & 28 &  NA & 14.9 & 66 & 5 & 6\\\\\n\\end{tabular}\n",
            "text/plain": [
              "  Ozone Solar.R Wind Temp Month Day\n",
              "1 41    190      7.4 67   5     1  \n",
              "2 36    118      8.0 72   5     2  \n",
              "3 12    149     12.6 74   5     3  \n",
              "4 18    313     11.5 62   5     4  \n",
              "5 NA     NA     14.3 56   5     5  \n",
              "6 28     NA     14.9 66   5     6  "
            ]
          },
          "metadata": {}
        }
      ]
    },
    {
      "cell_type": "code",
      "source": [
        "air <- airquality$Month %in% c(7, 8, 9) [1]\n",
        "x"
      ],
      "metadata": {
        "colab": {
          "base_uri": "https://localhost:8080/",
          "height": 156
        },
        "id": "BmwD8JK2c7w5",
        "outputId": "53239b72-a260-4b50-a7a6-f83b7778154a"
      },
      "execution_count": null,
      "outputs": [
        {
          "output_type": "display_data",
          "data": {
            "text/html": [
              "<style>\n",
              ".list-inline {list-style: none; margin:0; padding: 0}\n",
              ".list-inline>li {display: inline-block}\n",
              ".list-inline>li:not(:last-child)::after {content: \"\\00b7\"; padding: 0 .5ex}\n",
              "</style>\n",
              "<ol class=list-inline><li>FALSE</li><li>FALSE</li><li>FALSE</li><li>FALSE</li><li>FALSE</li><li>FALSE</li><li>FALSE</li><li>FALSE</li><li>FALSE</li><li>FALSE</li><li>FALSE</li><li>FALSE</li><li>FALSE</li><li>FALSE</li><li>FALSE</li><li>FALSE</li><li>FALSE</li><li>FALSE</li><li>FALSE</li><li>FALSE</li><li>FALSE</li><li>FALSE</li><li>FALSE</li><li>FALSE</li><li>FALSE</li><li>FALSE</li><li>FALSE</li><li>FALSE</li><li>FALSE</li><li>FALSE</li><li>FALSE</li><li>FALSE</li><li>FALSE</li><li>FALSE</li><li>FALSE</li><li>FALSE</li><li>FALSE</li><li>FALSE</li><li>FALSE</li><li>FALSE</li><li>FALSE</li><li>FALSE</li><li>FALSE</li><li>FALSE</li><li>FALSE</li><li>FALSE</li><li>FALSE</li><li>FALSE</li><li>FALSE</li><li>FALSE</li><li>FALSE</li><li>FALSE</li><li>FALSE</li><li>FALSE</li><li>FALSE</li><li>FALSE</li><li>FALSE</li><li>FALSE</li><li>FALSE</li><li>FALSE</li><li>FALSE</li><li>TRUE</li><li>TRUE</li><li>TRUE</li><li>TRUE</li><li>TRUE</li><li>TRUE</li><li>TRUE</li><li>TRUE</li><li>TRUE</li><li>TRUE</li><li>TRUE</li><li>TRUE</li><li>TRUE</li><li>TRUE</li><li>TRUE</li><li>TRUE</li><li>TRUE</li><li>TRUE</li><li>TRUE</li><li>TRUE</li><li>TRUE</li><li>TRUE</li><li>TRUE</li><li>TRUE</li><li>TRUE</li><li>TRUE</li><li>TRUE</li><li>TRUE</li><li>TRUE</li><li>TRUE</li><li>TRUE</li><li>FALSE</li><li>FALSE</li><li>FALSE</li><li>FALSE</li><li>FALSE</li><li>FALSE</li><li>FALSE</li><li>FALSE</li><li>FALSE</li><li>FALSE</li><li>FALSE</li><li>FALSE</li><li>FALSE</li><li>FALSE</li><li>FALSE</li><li>FALSE</li><li>FALSE</li><li>FALSE</li><li>FALSE</li><li>FALSE</li><li>FALSE</li><li>FALSE</li><li>FALSE</li><li>FALSE</li><li>FALSE</li><li>FALSE</li><li>FALSE</li><li>FALSE</li><li>FALSE</li><li>FALSE</li><li>FALSE</li><li>FALSE</li><li>FALSE</li><li>FALSE</li><li>FALSE</li><li>FALSE</li><li>FALSE</li><li>FALSE</li><li>FALSE</li><li>FALSE</li><li>FALSE</li><li>FALSE</li><li>FALSE</li><li>FALSE</li><li>FALSE</li><li>FALSE</li><li>FALSE</li><li>FALSE</li><li>FALSE</li><li>FALSE</li><li>FALSE</li><li>FALSE</li><li>FALSE</li><li>FALSE</li><li>FALSE</li><li>FALSE</li><li>FALSE</li><li>FALSE</li><li>FALSE</li><li>FALSE</li><li>FALSE</li></ol>\n"
            ],
            "text/markdown": "1. FALSE\n2. FALSE\n3. FALSE\n4. FALSE\n5. FALSE\n6. FALSE\n7. FALSE\n8. FALSE\n9. FALSE\n10. FALSE\n11. FALSE\n12. FALSE\n13. FALSE\n14. FALSE\n15. FALSE\n16. FALSE\n17. FALSE\n18. FALSE\n19. FALSE\n20. FALSE\n21. FALSE\n22. FALSE\n23. FALSE\n24. FALSE\n25. FALSE\n26. FALSE\n27. FALSE\n28. FALSE\n29. FALSE\n30. FALSE\n31. FALSE\n32. FALSE\n33. FALSE\n34. FALSE\n35. FALSE\n36. FALSE\n37. FALSE\n38. FALSE\n39. FALSE\n40. FALSE\n41. FALSE\n42. FALSE\n43. FALSE\n44. FALSE\n45. FALSE\n46. FALSE\n47. FALSE\n48. FALSE\n49. FALSE\n50. FALSE\n51. FALSE\n52. FALSE\n53. FALSE\n54. FALSE\n55. FALSE\n56. FALSE\n57. FALSE\n58. FALSE\n59. FALSE\n60. FALSE\n61. FALSE\n62. TRUE\n63. TRUE\n64. TRUE\n65. TRUE\n66. TRUE\n67. TRUE\n68. TRUE\n69. TRUE\n70. TRUE\n71. TRUE\n72. TRUE\n73. TRUE\n74. TRUE\n75. TRUE\n76. TRUE\n77. TRUE\n78. TRUE\n79. TRUE\n80. TRUE\n81. TRUE\n82. TRUE\n83. TRUE\n84. TRUE\n85. TRUE\n86. TRUE\n87. TRUE\n88. TRUE\n89. TRUE\n90. TRUE\n91. TRUE\n92. TRUE\n93. FALSE\n94. FALSE\n95. FALSE\n96. FALSE\n97. FALSE\n98. FALSE\n99. FALSE\n100. FALSE\n101. FALSE\n102. FALSE\n103. FALSE\n104. FALSE\n105. FALSE\n106. FALSE\n107. FALSE\n108. FALSE\n109. FALSE\n110. FALSE\n111. FALSE\n112. FALSE\n113. FALSE\n114. FALSE\n115. FALSE\n116. FALSE\n117. FALSE\n118. FALSE\n119. FALSE\n120. FALSE\n121. FALSE\n122. FALSE\n123. FALSE\n124. FALSE\n125. FALSE\n126. FALSE\n127. FALSE\n128. FALSE\n129. FALSE\n130. FALSE\n131. FALSE\n132. FALSE\n133. FALSE\n134. FALSE\n135. FALSE\n136. FALSE\n137. FALSE\n138. FALSE\n139. FALSE\n140. FALSE\n141. FALSE\n142. FALSE\n143. FALSE\n144. FALSE\n145. FALSE\n146. FALSE\n147. FALSE\n148. FALSE\n149. FALSE\n150. FALSE\n151. FALSE\n152. FALSE\n153. FALSE\n\n\n",
            "text/latex": "\\begin{enumerate*}\n\\item FALSE\n\\item FALSE\n\\item FALSE\n\\item FALSE\n\\item FALSE\n\\item FALSE\n\\item FALSE\n\\item FALSE\n\\item FALSE\n\\item FALSE\n\\item FALSE\n\\item FALSE\n\\item FALSE\n\\item FALSE\n\\item FALSE\n\\item FALSE\n\\item FALSE\n\\item FALSE\n\\item FALSE\n\\item FALSE\n\\item FALSE\n\\item FALSE\n\\item FALSE\n\\item FALSE\n\\item FALSE\n\\item FALSE\n\\item FALSE\n\\item FALSE\n\\item FALSE\n\\item FALSE\n\\item FALSE\n\\item FALSE\n\\item FALSE\n\\item FALSE\n\\item FALSE\n\\item FALSE\n\\item FALSE\n\\item FALSE\n\\item FALSE\n\\item FALSE\n\\item FALSE\n\\item FALSE\n\\item FALSE\n\\item FALSE\n\\item FALSE\n\\item FALSE\n\\item FALSE\n\\item FALSE\n\\item FALSE\n\\item FALSE\n\\item FALSE\n\\item FALSE\n\\item FALSE\n\\item FALSE\n\\item FALSE\n\\item FALSE\n\\item FALSE\n\\item FALSE\n\\item FALSE\n\\item FALSE\n\\item FALSE\n\\item TRUE\n\\item TRUE\n\\item TRUE\n\\item TRUE\n\\item TRUE\n\\item TRUE\n\\item TRUE\n\\item TRUE\n\\item TRUE\n\\item TRUE\n\\item TRUE\n\\item TRUE\n\\item TRUE\n\\item TRUE\n\\item TRUE\n\\item TRUE\n\\item TRUE\n\\item TRUE\n\\item TRUE\n\\item TRUE\n\\item TRUE\n\\item TRUE\n\\item TRUE\n\\item TRUE\n\\item TRUE\n\\item TRUE\n\\item TRUE\n\\item TRUE\n\\item TRUE\n\\item TRUE\n\\item TRUE\n\\item FALSE\n\\item FALSE\n\\item FALSE\n\\item FALSE\n\\item FALSE\n\\item FALSE\n\\item FALSE\n\\item FALSE\n\\item FALSE\n\\item FALSE\n\\item FALSE\n\\item FALSE\n\\item FALSE\n\\item FALSE\n\\item FALSE\n\\item FALSE\n\\item FALSE\n\\item FALSE\n\\item FALSE\n\\item FALSE\n\\item FALSE\n\\item FALSE\n\\item FALSE\n\\item FALSE\n\\item FALSE\n\\item FALSE\n\\item FALSE\n\\item FALSE\n\\item FALSE\n\\item FALSE\n\\item FALSE\n\\item FALSE\n\\item FALSE\n\\item FALSE\n\\item FALSE\n\\item FALSE\n\\item FALSE\n\\item FALSE\n\\item FALSE\n\\item FALSE\n\\item FALSE\n\\item FALSE\n\\item FALSE\n\\item FALSE\n\\item FALSE\n\\item FALSE\n\\item FALSE\n\\item FALSE\n\\item FALSE\n\\item FALSE\n\\item FALSE\n\\item FALSE\n\\item FALSE\n\\item FALSE\n\\item FALSE\n\\item FALSE\n\\item FALSE\n\\item FALSE\n\\item FALSE\n\\item FALSE\n\\item FALSE\n\\end{enumerate*}\n",
            "text/plain": [
              "  [1] FALSE FALSE FALSE FALSE FALSE FALSE FALSE FALSE FALSE FALSE FALSE FALSE\n",
              " [13] FALSE FALSE FALSE FALSE FALSE FALSE FALSE FALSE FALSE FALSE FALSE FALSE\n",
              " [25] FALSE FALSE FALSE FALSE FALSE FALSE FALSE FALSE FALSE FALSE FALSE FALSE\n",
              " [37] FALSE FALSE FALSE FALSE FALSE FALSE FALSE FALSE FALSE FALSE FALSE FALSE\n",
              " [49] FALSE FALSE FALSE FALSE FALSE FALSE FALSE FALSE FALSE FALSE FALSE FALSE\n",
              " [61] FALSE  TRUE  TRUE  TRUE  TRUE  TRUE  TRUE  TRUE  TRUE  TRUE  TRUE  TRUE\n",
              " [73]  TRUE  TRUE  TRUE  TRUE  TRUE  TRUE  TRUE  TRUE  TRUE  TRUE  TRUE  TRUE\n",
              " [85]  TRUE  TRUE  TRUE  TRUE  TRUE  TRUE  TRUE  TRUE FALSE FALSE FALSE FALSE\n",
              " [97] FALSE FALSE FALSE FALSE FALSE FALSE FALSE FALSE FALSE FALSE FALSE FALSE\n",
              "[109] FALSE FALSE FALSE FALSE FALSE FALSE FALSE FALSE FALSE FALSE FALSE FALSE\n",
              "[121] FALSE FALSE FALSE FALSE FALSE FALSE FALSE FALSE FALSE FALSE FALSE FALSE\n",
              "[133] FALSE FALSE FALSE FALSE FALSE FALSE FALSE FALSE FALSE FALSE FALSE FALSE\n",
              "[145] FALSE FALSE FALSE FALSE FALSE FALSE FALSE FALSE FALSE"
            ]
          },
          "metadata": {}
        }
      ]
    },
    {
      "cell_type": "code",
      "source": [
        "air <- subset(airquality, Month %in% c(7,8,9))\n",
        "result <- aggregate(air$Ozone ~ Month, air, length)\n",
        "result"
      ],
      "metadata": {
        "colab": {
          "base_uri": "https://localhost:8080/",
          "height": 192
        },
        "id": "6RZjeixqducG",
        "outputId": "2624badd-adbb-4e87-f1ad-f4a27c02a61f"
      },
      "execution_count": null,
      "outputs": [
        {
          "output_type": "display_data",
          "data": {
            "text/html": [
              "<table class=\"dataframe\">\n",
              "<caption>A data.frame: 3 × 2</caption>\n",
              "<thead>\n",
              "\t<tr><th scope=col>Month</th><th scope=col>air$Ozone</th></tr>\n",
              "\t<tr><th scope=col>&lt;int&gt;</th><th scope=col>&lt;int&gt;</th></tr>\n",
              "</thead>\n",
              "<tbody>\n",
              "\t<tr><td>7</td><td>26</td></tr>\n",
              "\t<tr><td>8</td><td>26</td></tr>\n",
              "\t<tr><td>9</td><td>29</td></tr>\n",
              "</tbody>\n",
              "</table>\n"
            ],
            "text/markdown": "\nA data.frame: 3 × 2\n\n| Month &lt;int&gt; | air$Ozone &lt;int&gt; |\n|---|---|\n| 7 | 26 |\n| 8 | 26 |\n| 9 | 29 |\n\n",
            "text/latex": "A data.frame: 3 × 2\n\\begin{tabular}{ll}\n Month & air\\$Ozone\\\\\n <int> & <int>\\\\\n\\hline\n\t 7 & 26\\\\\n\t 8 & 26\\\\\n\t 9 & 29\\\\\n\\end{tabular}\n",
            "text/plain": [
              "  Month air$Ozone\n",
              "1 7     26       \n",
              "2 8     26       \n",
              "3 9     29       "
            ]
          },
          "metadata": {}
        }
      ]
    },
    {
      "cell_type": "code",
      "source": [
        "?('%in%')"
      ],
      "metadata": {
        "id": "v5Ge5F8rDRAk"
      },
      "execution_count": 2,
      "outputs": []
    },
    {
      "cell_type": "markdown",
      "source": [
        "# 1_5_12\n",
        "\n",
        "Примените функцию describeBy к количественным переменным данных airquality, группируя наблюдения по переменной Month.  Чему равен коэффициент асимметрии (skew) переменной Wind в восьмом месяце?\n",
        "\n",
        "В графу с ответом требуется ввести только число. Десятичный разделитель - запятая: например 12,6"
      ],
      "metadata": {
        "id": "MITJguJ9DqyH"
      }
    },
    {
      "cell_type": "code",
      "source": [
        "describeBy(x = airquality, group = airquality$Month == 8,\n",
        "          # mat = T,\n",
        "          digits = 1)"
      ],
      "metadata": {
        "colab": {
          "base_uri": "https://localhost:8080/",
          "height": 590
        },
        "id": "2QNmYWH3D-fE",
        "outputId": "9d5de6aa-3040-4fce-feef-40f8930f52ce"
      },
      "execution_count": 19,
      "outputs": [
        {
          "output_type": "display_data",
          "data": {
            "text/plain": [
              "\n",
              " Descriptive statistics by group \n",
              "group: FALSE\n",
              "        vars   n   mean    sd median trimmed    mad  min   max range  skew\n",
              "Ozone      1  90  36.98 29.05   27.5   32.82  21.50  1.0 135.0   134  1.21\n",
              "Solar.R    2 118 189.27 92.90  216.5  194.04 100.82  7.0 334.0   327 -0.43\n",
              "Wind       3 122  10.25  3.55    9.7   10.15   3.41  1.7  20.7    19  0.37\n",
              "Temp       4 122  76.34  9.48   77.0   76.64  10.38 56.0  93.0    37 -0.29\n",
              "Month      5 122   6.74  1.48    6.5    6.67   1.48  5.0   9.0     4  0.44\n",
              "Day        6 122  15.75  8.84   16.0   15.76  11.86  1.0  31.0    30  0.00\n",
              "        kurtosis   se\n",
              "Ozone       0.79 3.06\n",
              "Solar.R    -1.03 8.55\n",
              "Wind        0.01 0.32\n",
              "Temp       -0.71 0.86\n",
              "Month      -1.17 0.13\n",
              "Day        -1.23 0.80\n",
              "------------------------------------------------------------ \n",
              "group: TRUE\n",
              "        vars  n   mean    sd median trimmed   mad  min   max range  skew\n",
              "Ozone      1 26  59.96 39.68   52.0   56.86 40.77  9.0 168.0 159.0  0.79\n",
              "Solar.R    2 28 171.86 76.83  197.5  175.83 67.46 24.0 273.0 249.0 -0.56\n",
              "Wind       3 31   8.79  3.23    8.6    8.77  3.41  2.3  15.5  13.2  0.04\n",
              "Temp       4 31  83.97  6.59   82.0   83.72  5.93 72.0  97.0  25.0  0.30\n",
              "Month      5 31   8.00  0.00    8.0    8.00  0.00  8.0   8.0   0.0   NaN\n",
              "Day        6 31  16.00  9.09   16.0   16.00 11.86  1.0  31.0  30.0  0.00\n",
              "        kurtosis    se\n",
              "Ozone       0.05  7.78\n",
              "Solar.R    -1.17 14.52\n",
              "Wind       -0.69  0.58\n",
              "Temp       -0.97  1.18\n",
              "Month        NaN  0.00\n",
              "Day        -1.32  1.63"
            ]
          },
          "metadata": {}
        }
      ]
    },
    {
      "cell_type": "code",
      "source": [
        "psych::skew(airquality$Wind[airquality$Month == 8])"
      ],
      "metadata": {
        "colab": {
          "base_uri": "https://localhost:8080/",
          "height": 34
        },
        "id": "pDmBBHtrFw6a",
        "outputId": "4820d1f7-8c7a-42a9-cfa9-40ebfdd7419e"
      },
      "execution_count": 11,
      "outputs": [
        {
          "output_type": "display_data",
          "data": {
            "text/html": [
              "0.0354958070033909"
            ],
            "text/markdown": "0.0354958070033909",
            "text/latex": "0.0354958070033909",
            "text/plain": [
              "[1] 0.03549581"
            ]
          },
          "metadata": {}
        }
      ]
    },
    {
      "cell_type": "code",
      "source": [
        "describeBy(airquality$Wind, airquality$Month == 8)$'TRUE'$skew"
      ],
      "metadata": {
        "colab": {
          "base_uri": "https://localhost:8080/",
          "height": 34
        },
        "id": "wAIXjOpNF02s",
        "outputId": "47f41e4c-a25a-4146-ec94-e1f1d92b7aee"
      },
      "execution_count": 14,
      "outputs": [
        {
          "output_type": "display_data",
          "data": {
            "text/html": [
              "0.0354958070033909"
            ],
            "text/markdown": "0.0354958070033909",
            "text/latex": "0.0354958070033909",
            "text/plain": [
              "[1] 0.03549581"
            ]
          },
          "metadata": {}
        }
      ]
    },
    {
      "cell_type": "code",
      "source": [
        "describeBy(airquality$Wind, airquality$Month == 8)$'TRUE'['skew']"
      ],
      "metadata": {
        "colab": {
          "base_uri": "https://localhost:8080/",
          "height": 129
        },
        "id": "Q3zZvBJtF8WV",
        "outputId": "0f9b0fd2-a71b-4fd4-8ae2-5895a7ca6cc3"
      },
      "execution_count": 15,
      "outputs": [
        {
          "output_type": "display_data",
          "data": {
            "text/html": [
              "<table class=\"dataframe\">\n",
              "<caption>A psych: 1 × 1</caption>\n",
              "<thead>\n",
              "\t<tr><th></th><th scope=col>skew</th></tr>\n",
              "\t<tr><th></th><th scope=col>&lt;dbl&gt;</th></tr>\n",
              "</thead>\n",
              "<tbody>\n",
              "\t<tr><th scope=row>X1</th><td>0.03549581</td></tr>\n",
              "</tbody>\n",
              "</table>\n"
            ],
            "text/markdown": "\nA psych: 1 × 1\n\n| <!--/--> | skew &lt;dbl&gt; |\n|---|---|\n| X1 | 0.03549581 |\n\n",
            "text/latex": "A psych: 1 × 1\n\\begin{tabular}{r|l}\n  & skew\\\\\n  & <dbl>\\\\\n\\hline\n\tX1 & 0.03549581\\\\\n\\end{tabular}\n",
            "text/plain": [
              "   skew      \n",
              "X1 0.03549581"
            ]
          },
          "metadata": {}
        }
      ]
    },
    {
      "cell_type": "code",
      "source": [
        "describeBy(airquality$Wind, airquality$Month == 8)"
      ],
      "metadata": {
        "colab": {
          "base_uri": "https://localhost:8080/",
          "height": 173
        },
        "id": "qxOD_i89GUjv",
        "outputId": "bcde73a8-649c-429a-dec1-be20d00baded"
      },
      "execution_count": 20,
      "outputs": [
        {
          "output_type": "display_data",
          "data": {
            "text/plain": [
              "\n",
              " Descriptive statistics by group \n",
              "group: FALSE\n",
              "   vars   n  mean   sd median trimmed  mad min  max range skew kurtosis   se\n",
              "X1    1 122 10.25 3.55    9.7   10.15 3.41 1.7 20.7    19 0.37     0.01 0.32\n",
              "------------------------------------------------------------ \n",
              "group: TRUE\n",
              "   vars  n mean   sd median trimmed  mad min  max range skew kurtosis   se\n",
              "X1    1 31 8.79 3.23    8.6    8.77 3.41 2.3 15.5  13.2 0.04    -0.69 0.58"
            ]
          },
          "metadata": {}
        }
      ]
    },
    {
      "cell_type": "markdown",
      "source": [
        "# 1_5_13\n",
        "\n",
        "Обратимся к встроенным данным iris. Соотнесите значения стандартного отклонения переменных."
      ],
      "metadata": {
        "id": "5VJjAVsRGYoO"
      }
    },
    {
      "cell_type": "code",
      "source": [
        "describeBy(iris)['sd']"
      ],
      "metadata": {
        "colab": {
          "base_uri": "https://localhost:8080/",
          "height": 290
        },
        "id": "SYW1gsqQGj1A",
        "outputId": "a3ad319b-afe9-4bbc-9065-b97aced8ec7d"
      },
      "execution_count": 24,
      "outputs": [
        {
          "output_type": "stream",
          "name": "stderr",
          "text": [
            "Warning message in describeBy(iris):\n",
            "“no grouping variable requested”\n"
          ]
        },
        {
          "output_type": "display_data",
          "data": {
            "text/html": [
              "<table class=\"dataframe\">\n",
              "<caption>A psych: 5 × 1</caption>\n",
              "<thead>\n",
              "\t<tr><th></th><th scope=col>sd</th></tr>\n",
              "\t<tr><th></th><th scope=col>&lt;dbl&gt;</th></tr>\n",
              "</thead>\n",
              "<tbody>\n",
              "\t<tr><th scope=row>Sepal.Length</th><td>0.8280661</td></tr>\n",
              "\t<tr><th scope=row>Sepal.Width</th><td>0.4358663</td></tr>\n",
              "\t<tr><th scope=row>Petal.Length</th><td>1.7652982</td></tr>\n",
              "\t<tr><th scope=row>Petal.Width</th><td>0.7622377</td></tr>\n",
              "\t<tr><th scope=row>Species*</th><td>0.8192319</td></tr>\n",
              "</tbody>\n",
              "</table>\n"
            ],
            "text/markdown": "\nA psych: 5 × 1\n\n| <!--/--> | sd &lt;dbl&gt; |\n|---|---|\n| Sepal.Length | 0.8280661 |\n| Sepal.Width | 0.4358663 |\n| Petal.Length | 1.7652982 |\n| Petal.Width | 0.7622377 |\n| Species* | 0.8192319 |\n\n",
            "text/latex": "A psych: 5 × 1\n\\begin{tabular}{r|l}\n  & sd\\\\\n  & <dbl>\\\\\n\\hline\n\tSepal.Length & 0.8280661\\\\\n\tSepal.Width & 0.4358663\\\\\n\tPetal.Length & 1.7652982\\\\\n\tPetal.Width & 0.7622377\\\\\n\tSpecies* & 0.8192319\\\\\n\\end{tabular}\n",
            "text/plain": [
              "             sd       \n",
              "Sepal.Length 0.8280661\n",
              "Sepal.Width  0.4358663\n",
              "Petal.Length 1.7652982\n",
              "Petal.Width  0.7622377\n",
              "Species*     0.8192319"
            ]
          },
          "metadata": {}
        }
      ]
    },
    {
      "cell_type": "code",
      "source": [
        "subset(describe(iris), select = sd)"
      ],
      "metadata": {
        "colab": {
          "base_uri": "https://localhost:8080/",
          "height": 255
        },
        "id": "BG5-n5EQG_50",
        "outputId": "75b191fd-efac-4a24-e749-59ab511017a1"
      },
      "execution_count": 25,
      "outputs": [
        {
          "output_type": "display_data",
          "data": {
            "text/html": [
              "<table class=\"dataframe\">\n",
              "<caption>A psych: 5 × 1</caption>\n",
              "<thead>\n",
              "\t<tr><th></th><th scope=col>sd</th></tr>\n",
              "\t<tr><th></th><th scope=col>&lt;dbl&gt;</th></tr>\n",
              "</thead>\n",
              "<tbody>\n",
              "\t<tr><th scope=row>Sepal.Length</th><td>0.8280661</td></tr>\n",
              "\t<tr><th scope=row>Sepal.Width</th><td>0.4358663</td></tr>\n",
              "\t<tr><th scope=row>Petal.Length</th><td>1.7652982</td></tr>\n",
              "\t<tr><th scope=row>Petal.Width</th><td>0.7622377</td></tr>\n",
              "\t<tr><th scope=row>Species*</th><td>0.8192319</td></tr>\n",
              "</tbody>\n",
              "</table>\n"
            ],
            "text/markdown": "\nA psych: 5 × 1\n\n| <!--/--> | sd &lt;dbl&gt; |\n|---|---|\n| Sepal.Length | 0.8280661 |\n| Sepal.Width | 0.4358663 |\n| Petal.Length | 1.7652982 |\n| Petal.Width | 0.7622377 |\n| Species* | 0.8192319 |\n\n",
            "text/latex": "A psych: 5 × 1\n\\begin{tabular}{r|l}\n  & sd\\\\\n  & <dbl>\\\\\n\\hline\n\tSepal.Length & 0.8280661\\\\\n\tSepal.Width & 0.4358663\\\\\n\tPetal.Length & 1.7652982\\\\\n\tPetal.Width & 0.7622377\\\\\n\tSpecies* & 0.8192319\\\\\n\\end{tabular}\n",
            "text/plain": [
              "             sd       \n",
              "Sepal.Length 0.8280661\n",
              "Sepal.Width  0.4358663\n",
              "Petal.Length 1.7652982\n",
              "Petal.Width  0.7622377\n",
              "Species*     0.8192319"
            ]
          },
          "metadata": {}
        }
      ]
    },
    {
      "cell_type": "code",
      "source": [
        "SD(iris)"
      ],
      "metadata": {
        "colab": {
          "base_uri": "https://localhost:8080/",
          "height": 86
        },
        "id": "MDshjtsfHm7r",
        "outputId": "046e8c97-9544-47d8-df22-5bd37debe295"
      },
      "execution_count": 26,
      "outputs": [
        {
          "output_type": "stream",
          "name": "stderr",
          "text": [
            "Warning message in var(x, na.rm = na.rm, use = \"pair\"):\n",
            "“NAs introduced by coercion”\n"
          ]
        },
        {
          "output_type": "display_data",
          "data": {
            "text/html": [
              "<style>\n",
              ".dl-inline {width: auto; margin:0; padding: 0}\n",
              ".dl-inline>dt, .dl-inline>dd {float: none; width: auto; display: inline-block}\n",
              ".dl-inline>dt::after {content: \":\\0020\"; padding-right: .5ex}\n",
              ".dl-inline>dt:not(:first-of-type) {padding-left: .5ex}\n",
              "</style><dl class=dl-inline><dt>Sepal.Length</dt><dd>0.828066127977863</dd><dt>Sepal.Width</dt><dd>0.435866284936698</dd><dt>Petal.Length</dt><dd>1.76529823325947</dd><dt>Petal.Width</dt><dd>0.762237668960347</dd><dt>Species</dt><dd>&lt;NA&gt;</dd></dl>\n"
            ],
            "text/markdown": "Sepal.Length\n:   0.828066127977863Sepal.Width\n:   0.435866284936698Petal.Length\n:   1.76529823325947Petal.Width\n:   0.762237668960347Species\n:   &lt;NA&gt;\n\n",
            "text/latex": "\\begin{description*}\n\\item[Sepal.Length] 0.828066127977863\n\\item[Sepal.Width] 0.435866284936698\n\\item[Petal.Length] 1.76529823325947\n\\item[Petal.Width] 0.762237668960347\n\\item[Species] <NA>\n\\end{description*}\n",
            "text/plain": [
              "Sepal.Length  Sepal.Width Petal.Length  Petal.Width      Species \n",
              "   0.8280661    0.4358663    1.7652982    0.7622377           NA "
            ]
          },
          "metadata": {}
        }
      ]
    },
    {
      "cell_type": "markdown",
      "source": [
        "# 1_5_13\n",
        "\n",
        "В данных iris расположите по убыванию значения медиан количественных переменных в группе virginica."
      ],
      "metadata": {
        "id": "5qqm4lWbHz_2"
      }
    },
    {
      "cell_type": "code",
      "source": [
        "describe(iris)"
      ],
      "metadata": {
        "colab": {
          "base_uri": "https://localhost:8080/",
          "height": 255
        },
        "id": "NpVrX_YiH3O1",
        "outputId": "69e06c83-b4c7-4c75-bd84-dd372f153909"
      },
      "execution_count": 27,
      "outputs": [
        {
          "output_type": "display_data",
          "data": {
            "text/html": [
              "<table class=\"dataframe\">\n",
              "<caption>A psych: 5 × 13</caption>\n",
              "<thead>\n",
              "\t<tr><th></th><th scope=col>vars</th><th scope=col>n</th><th scope=col>mean</th><th scope=col>sd</th><th scope=col>median</th><th scope=col>trimmed</th><th scope=col>mad</th><th scope=col>min</th><th scope=col>max</th><th scope=col>range</th><th scope=col>skew</th><th scope=col>kurtosis</th><th scope=col>se</th></tr>\n",
              "\t<tr><th></th><th scope=col>&lt;int&gt;</th><th scope=col>&lt;dbl&gt;</th><th scope=col>&lt;dbl&gt;</th><th scope=col>&lt;dbl&gt;</th><th scope=col>&lt;dbl&gt;</th><th scope=col>&lt;dbl&gt;</th><th scope=col>&lt;dbl&gt;</th><th scope=col>&lt;dbl&gt;</th><th scope=col>&lt;dbl&gt;</th><th scope=col>&lt;dbl&gt;</th><th scope=col>&lt;dbl&gt;</th><th scope=col>&lt;dbl&gt;</th><th scope=col>&lt;dbl&gt;</th></tr>\n",
              "</thead>\n",
              "<tbody>\n",
              "\t<tr><th scope=row>Sepal.Length</th><td>1</td><td>150</td><td>5.843333</td><td>0.8280661</td><td>5.80</td><td>5.808333</td><td>1.03782</td><td>4.3</td><td>7.9</td><td>3.6</td><td> 0.3086407</td><td>-0.6058125</td><td>0.06761132</td></tr>\n",
              "\t<tr><th scope=row>Sepal.Width</th><td>2</td><td>150</td><td>3.057333</td><td>0.4358663</td><td>3.00</td><td>3.043333</td><td>0.44478</td><td>2.0</td><td>4.4</td><td>2.4</td><td> 0.3126147</td><td> 0.1387047</td><td>0.03558833</td></tr>\n",
              "\t<tr><th scope=row>Petal.Length</th><td>3</td><td>150</td><td>3.758000</td><td>1.7652982</td><td>4.35</td><td>3.760000</td><td>1.85325</td><td>1.0</td><td>6.9</td><td>5.9</td><td>-0.2694109</td><td>-1.4168574</td><td>0.14413600</td></tr>\n",
              "\t<tr><th scope=row>Petal.Width</th><td>4</td><td>150</td><td>1.199333</td><td>0.7622377</td><td>1.30</td><td>1.184167</td><td>1.03782</td><td>0.1</td><td>2.5</td><td>2.4</td><td>-0.1009166</td><td>-1.3581792</td><td>0.06223645</td></tr>\n",
              "\t<tr><th scope=row>Species*</th><td>5</td><td>150</td><td>2.000000</td><td>0.8192319</td><td>2.00</td><td>2.000000</td><td>1.48260</td><td>1.0</td><td>3.0</td><td>2.0</td><td> 0.0000000</td><td>-1.5199333</td><td>0.06689001</td></tr>\n",
              "</tbody>\n",
              "</table>\n"
            ],
            "text/markdown": "\nA psych: 5 × 13\n\n| <!--/--> | vars &lt;int&gt; | n &lt;dbl&gt; | mean &lt;dbl&gt; | sd &lt;dbl&gt; | median &lt;dbl&gt; | trimmed &lt;dbl&gt; | mad &lt;dbl&gt; | min &lt;dbl&gt; | max &lt;dbl&gt; | range &lt;dbl&gt; | skew &lt;dbl&gt; | kurtosis &lt;dbl&gt; | se &lt;dbl&gt; |\n|---|---|---|---|---|---|---|---|---|---|---|---|---|---|\n| Sepal.Length | 1 | 150 | 5.843333 | 0.8280661 | 5.80 | 5.808333 | 1.03782 | 4.3 | 7.9 | 3.6 |  0.3086407 | -0.6058125 | 0.06761132 |\n| Sepal.Width | 2 | 150 | 3.057333 | 0.4358663 | 3.00 | 3.043333 | 0.44478 | 2.0 | 4.4 | 2.4 |  0.3126147 |  0.1387047 | 0.03558833 |\n| Petal.Length | 3 | 150 | 3.758000 | 1.7652982 | 4.35 | 3.760000 | 1.85325 | 1.0 | 6.9 | 5.9 | -0.2694109 | -1.4168574 | 0.14413600 |\n| Petal.Width | 4 | 150 | 1.199333 | 0.7622377 | 1.30 | 1.184167 | 1.03782 | 0.1 | 2.5 | 2.4 | -0.1009166 | -1.3581792 | 0.06223645 |\n| Species* | 5 | 150 | 2.000000 | 0.8192319 | 2.00 | 2.000000 | 1.48260 | 1.0 | 3.0 | 2.0 |  0.0000000 | -1.5199333 | 0.06689001 |\n\n",
            "text/latex": "A psych: 5 × 13\n\\begin{tabular}{r|lllllllllllll}\n  & vars & n & mean & sd & median & trimmed & mad & min & max & range & skew & kurtosis & se\\\\\n  & <int> & <dbl> & <dbl> & <dbl> & <dbl> & <dbl> & <dbl> & <dbl> & <dbl> & <dbl> & <dbl> & <dbl> & <dbl>\\\\\n\\hline\n\tSepal.Length & 1 & 150 & 5.843333 & 0.8280661 & 5.80 & 5.808333 & 1.03782 & 4.3 & 7.9 & 3.6 &  0.3086407 & -0.6058125 & 0.06761132\\\\\n\tSepal.Width & 2 & 150 & 3.057333 & 0.4358663 & 3.00 & 3.043333 & 0.44478 & 2.0 & 4.4 & 2.4 &  0.3126147 &  0.1387047 & 0.03558833\\\\\n\tPetal.Length & 3 & 150 & 3.758000 & 1.7652982 & 4.35 & 3.760000 & 1.85325 & 1.0 & 6.9 & 5.9 & -0.2694109 & -1.4168574 & 0.14413600\\\\\n\tPetal.Width & 4 & 150 & 1.199333 & 0.7622377 & 1.30 & 1.184167 & 1.03782 & 0.1 & 2.5 & 2.4 & -0.1009166 & -1.3581792 & 0.06223645\\\\\n\tSpecies* & 5 & 150 & 2.000000 & 0.8192319 & 2.00 & 2.000000 & 1.48260 & 1.0 & 3.0 & 2.0 &  0.0000000 & -1.5199333 & 0.06689001\\\\\n\\end{tabular}\n",
            "text/plain": [
              "             vars n   mean     sd        median trimmed  mad     min max range\n",
              "Sepal.Length 1    150 5.843333 0.8280661 5.80   5.808333 1.03782 4.3 7.9 3.6  \n",
              "Sepal.Width  2    150 3.057333 0.4358663 3.00   3.043333 0.44478 2.0 4.4 2.4  \n",
              "Petal.Length 3    150 3.758000 1.7652982 4.35   3.760000 1.85325 1.0 6.9 5.9  \n",
              "Petal.Width  4    150 1.199333 0.7622377 1.30   1.184167 1.03782 0.1 2.5 2.4  \n",
              "Species*     5    150 2.000000 0.8192319 2.00   2.000000 1.48260 1.0 3.0 2.0  \n",
              "             skew       kurtosis   se        \n",
              "Sepal.Length  0.3086407 -0.6058125 0.06761132\n",
              "Sepal.Width   0.3126147  0.1387047 0.03558833\n",
              "Petal.Length -0.2694109 -1.4168574 0.14413600\n",
              "Petal.Width  -0.1009166 -1.3581792 0.06223645\n",
              "Species*      0.0000000 -1.5199333 0.06689001"
            ]
          },
          "metadata": {}
        }
      ]
    },
    {
      "cell_type": "code",
      "source": [
        "describeBy(x = iris, group = iris$Species)"
      ],
      "metadata": {
        "colab": {
          "base_uri": "https://localhost:8080/",
          "height": 763
        },
        "id": "ZZL8ubUyIVfH",
        "outputId": "c5355563-ad51-4ba2-f69b-bf12d6f8398a"
      },
      "execution_count": 28,
      "outputs": [
        {
          "output_type": "display_data",
          "data": {
            "text/plain": [
              "\n",
              " Descriptive statistics by group \n",
              "group: setosa\n",
              "             vars  n mean   sd median trimmed  mad min max range skew kurtosis\n",
              "Sepal.Length    1 50 5.01 0.35    5.0    5.00 0.30 4.3 5.8   1.5 0.11    -0.45\n",
              "Sepal.Width     2 50 3.43 0.38    3.4    3.42 0.37 2.3 4.4   2.1 0.04     0.60\n",
              "Petal.Length    3 50 1.46 0.17    1.5    1.46 0.15 1.0 1.9   0.9 0.10     0.65\n",
              "Petal.Width     4 50 0.25 0.11    0.2    0.24 0.00 0.1 0.6   0.5 1.18     1.26\n",
              "Species*        5 50 1.00 0.00    1.0    1.00 0.00 1.0 1.0   0.0  NaN      NaN\n",
              "               se\n",
              "Sepal.Length 0.05\n",
              "Sepal.Width  0.05\n",
              "Petal.Length 0.02\n",
              "Petal.Width  0.01\n",
              "Species*     0.00\n",
              "------------------------------------------------------------ \n",
              "group: versicolor\n",
              "             vars  n mean   sd median trimmed  mad min max range  skew kurtosis\n",
              "Sepal.Length    1 50 5.94 0.52   5.90    5.94 0.52 4.9 7.0   2.1  0.10    -0.69\n",
              "Sepal.Width     2 50 2.77 0.31   2.80    2.78 0.30 2.0 3.4   1.4 -0.34    -0.55\n",
              "Petal.Length    3 50 4.26 0.47   4.35    4.29 0.52 3.0 5.1   2.1 -0.57    -0.19\n",
              "Petal.Width     4 50 1.33 0.20   1.30    1.32 0.22 1.0 1.8   0.8 -0.03    -0.59\n",
              "Species*        5 50 2.00 0.00   2.00    2.00 0.00 2.0 2.0   0.0   NaN      NaN\n",
              "               se\n",
              "Sepal.Length 0.07\n",
              "Sepal.Width  0.04\n",
              "Petal.Length 0.07\n",
              "Petal.Width  0.03\n",
              "Species*     0.00\n",
              "------------------------------------------------------------ \n",
              "group: virginica\n",
              "             vars  n mean   sd median trimmed  mad min max range  skew kurtosis\n",
              "Sepal.Length    1 50 6.59 0.64   6.50    6.57 0.59 4.9 7.9   3.0  0.11    -0.20\n",
              "Sepal.Width     2 50 2.97 0.32   3.00    2.96 0.30 2.2 3.8   1.6  0.34     0.38\n",
              "Petal.Length    3 50 5.55 0.55   5.55    5.51 0.67 4.5 6.9   2.4  0.52    -0.37\n",
              "Petal.Width     4 50 2.03 0.27   2.00    2.03 0.30 1.4 2.5   1.1 -0.12    -0.75\n",
              "Species*        5 50 3.00 0.00   3.00    3.00 0.00 3.0 3.0   0.0   NaN      NaN\n",
              "               se\n",
              "Sepal.Length 0.09\n",
              "Sepal.Width  0.05\n",
              "Petal.Length 0.08\n",
              "Petal.Width  0.04\n",
              "Species*     0.00"
            ]
          },
          "metadata": {}
        }
      ]
    },
    {
      "cell_type": "code",
      "source": [
        "a <- describeBy(x = iris, group = iris$Species,mat=T)\n",
        "a"
      ],
      "metadata": {
        "colab": {
          "base_uri": "https://localhost:8080/",
          "height": 568
        },
        "id": "3jWP341rIavF",
        "outputId": "ba6428c4-1924-4eb7-b125-d6b71b09e184"
      },
      "execution_count": 34,
      "outputs": [
        {
          "output_type": "display_data",
          "data": {
            "text/html": [
              "<table class=\"dataframe\">\n",
              "<caption>A data.frame: 15 × 15</caption>\n",
              "<thead>\n",
              "\t<tr><th></th><th scope=col>item</th><th scope=col>group1</th><th scope=col>vars</th><th scope=col>n</th><th scope=col>mean</th><th scope=col>sd</th><th scope=col>median</th><th scope=col>trimmed</th><th scope=col>mad</th><th scope=col>min</th><th scope=col>max</th><th scope=col>range</th><th scope=col>skew</th><th scope=col>kurtosis</th><th scope=col>se</th></tr>\n",
              "\t<tr><th></th><th scope=col>&lt;chr&gt;</th><th scope=col>&lt;chr&gt;</th><th scope=col>&lt;dbl&gt;</th><th scope=col>&lt;dbl&gt;</th><th scope=col>&lt;dbl&gt;</th><th scope=col>&lt;dbl&gt;</th><th scope=col>&lt;dbl&gt;</th><th scope=col>&lt;dbl&gt;</th><th scope=col>&lt;dbl&gt;</th><th scope=col>&lt;dbl&gt;</th><th scope=col>&lt;dbl&gt;</th><th scope=col>&lt;dbl&gt;</th><th scope=col>&lt;dbl&gt;</th><th scope=col>&lt;dbl&gt;</th><th scope=col>&lt;dbl&gt;</th></tr>\n",
              "</thead>\n",
              "<tbody>\n",
              "\t<tr><th scope=row>Sepal.Length1</th><td>1 </td><td>setosa    </td><td>1</td><td>50</td><td>5.006</td><td>0.3524897</td><td>5.00</td><td>5.0025</td><td>0.29652</td><td>4.3</td><td>5.8</td><td>1.5</td><td> 0.11297784</td><td>-0.4508724</td><td>0.04984957</td></tr>\n",
              "\t<tr><th scope=row>Sepal.Length2</th><td>2 </td><td>versicolor</td><td>1</td><td>50</td><td>5.936</td><td>0.5161711</td><td>5.90</td><td>5.9375</td><td>0.51891</td><td>4.9</td><td>7.0</td><td>2.1</td><td> 0.09913926</td><td>-0.6939138</td><td>0.07299762</td></tr>\n",
              "\t<tr><th scope=row>Sepal.Length3</th><td>3 </td><td>virginica </td><td>1</td><td>50</td><td>6.588</td><td>0.6358796</td><td>6.50</td><td>6.5725</td><td>0.59304</td><td>4.9</td><td>7.9</td><td>3.0</td><td> 0.11102862</td><td>-0.2032597</td><td>0.08992695</td></tr>\n",
              "\t<tr><th scope=row>Sepal.Width1</th><td>4 </td><td>setosa    </td><td>2</td><td>50</td><td>3.428</td><td>0.3790644</td><td>3.40</td><td>3.4150</td><td>0.37065</td><td>2.3</td><td>4.4</td><td>2.1</td><td> 0.03872946</td><td> 0.5959507</td><td>0.05360780</td></tr>\n",
              "\t<tr><th scope=row>Sepal.Width2</th><td>5 </td><td>versicolor</td><td>2</td><td>50</td><td>2.770</td><td>0.3137983</td><td>2.80</td><td>2.7800</td><td>0.29652</td><td>2.0</td><td>3.4</td><td>1.4</td><td>-0.34136443</td><td>-0.5493203</td><td>0.04437778</td></tr>\n",
              "\t<tr><th scope=row>Sepal.Width3</th><td>6 </td><td>virginica </td><td>2</td><td>50</td><td>2.974</td><td>0.3224966</td><td>3.00</td><td>2.9625</td><td>0.29652</td><td>2.2</td><td>3.8</td><td>1.6</td><td> 0.34428489</td><td> 0.3803832</td><td>0.04560791</td></tr>\n",
              "\t<tr><th scope=row>Petal.Length1</th><td>7 </td><td>setosa    </td><td>3</td><td>50</td><td>1.462</td><td>0.1736640</td><td>1.50</td><td>1.4600</td><td>0.14826</td><td>1.0</td><td>1.9</td><td>0.9</td><td> 0.10009538</td><td> 0.6539303</td><td>0.02455980</td></tr>\n",
              "\t<tr><th scope=row>Petal.Length2</th><td>8 </td><td>versicolor</td><td>3</td><td>50</td><td>4.260</td><td>0.4699110</td><td>4.35</td><td>4.2925</td><td>0.51891</td><td>3.0</td><td>5.1</td><td>2.1</td><td>-0.57060243</td><td>-0.1902555</td><td>0.06645545</td></tr>\n",
              "\t<tr><th scope=row>Petal.Length3</th><td>9 </td><td>virginica </td><td>3</td><td>50</td><td>5.552</td><td>0.5518947</td><td>5.55</td><td>5.5100</td><td>0.66717</td><td>4.5</td><td>6.9</td><td>2.4</td><td> 0.51691747</td><td>-0.3651161</td><td>0.07804970</td></tr>\n",
              "\t<tr><th scope=row>Petal.Width1</th><td>10</td><td>setosa    </td><td>4</td><td>50</td><td>0.246</td><td>0.1053856</td><td>0.20</td><td>0.2375</td><td>0.00000</td><td>0.1</td><td>0.6</td><td>0.5</td><td> 1.17963278</td><td> 1.2587179</td><td>0.01490377</td></tr>\n",
              "\t<tr><th scope=row>Petal.Width2</th><td>11</td><td>versicolor</td><td>4</td><td>50</td><td>1.326</td><td>0.1977527</td><td>1.30</td><td>1.3250</td><td>0.22239</td><td>1.0</td><td>1.8</td><td>0.8</td><td>-0.02933377</td><td>-0.5873144</td><td>0.02796645</td></tr>\n",
              "\t<tr><th scope=row>Petal.Width3</th><td>12</td><td>virginica </td><td>4</td><td>50</td><td>2.026</td><td>0.2746501</td><td>2.00</td><td>2.0325</td><td>0.29652</td><td>1.4</td><td>2.5</td><td>1.1</td><td>-0.12181190</td><td>-0.7539586</td><td>0.03884138</td></tr>\n",
              "\t<tr><th scope=row>Species*1</th><td>13</td><td>setosa    </td><td>5</td><td>50</td><td>1.000</td><td>0.0000000</td><td>1.00</td><td>1.0000</td><td>0.00000</td><td>1.0</td><td>1.0</td><td>0.0</td><td>        NaN</td><td>       NaN</td><td>0.00000000</td></tr>\n",
              "\t<tr><th scope=row>Species*2</th><td>14</td><td>versicolor</td><td>5</td><td>50</td><td>2.000</td><td>0.0000000</td><td>2.00</td><td>2.0000</td><td>0.00000</td><td>2.0</td><td>2.0</td><td>0.0</td><td>        NaN</td><td>       NaN</td><td>0.00000000</td></tr>\n",
              "\t<tr><th scope=row>Species*3</th><td>15</td><td>virginica </td><td>5</td><td>50</td><td>3.000</td><td>0.0000000</td><td>3.00</td><td>3.0000</td><td>0.00000</td><td>3.0</td><td>3.0</td><td>0.0</td><td>        NaN</td><td>       NaN</td><td>0.00000000</td></tr>\n",
              "</tbody>\n",
              "</table>\n"
            ],
            "text/markdown": "\nA data.frame: 15 × 15\n\n| <!--/--> | item &lt;chr&gt; | group1 &lt;chr&gt; | vars &lt;dbl&gt; | n &lt;dbl&gt; | mean &lt;dbl&gt; | sd &lt;dbl&gt; | median &lt;dbl&gt; | trimmed &lt;dbl&gt; | mad &lt;dbl&gt; | min &lt;dbl&gt; | max &lt;dbl&gt; | range &lt;dbl&gt; | skew &lt;dbl&gt; | kurtosis &lt;dbl&gt; | se &lt;dbl&gt; |\n|---|---|---|---|---|---|---|---|---|---|---|---|---|---|---|---|\n| Sepal.Length1 | 1  | setosa     | 1 | 50 | 5.006 | 0.3524897 | 5.00 | 5.0025 | 0.29652 | 4.3 | 5.8 | 1.5 |  0.11297784 | -0.4508724 | 0.04984957 |\n| Sepal.Length2 | 2  | versicolor | 1 | 50 | 5.936 | 0.5161711 | 5.90 | 5.9375 | 0.51891 | 4.9 | 7.0 | 2.1 |  0.09913926 | -0.6939138 | 0.07299762 |\n| Sepal.Length3 | 3  | virginica  | 1 | 50 | 6.588 | 0.6358796 | 6.50 | 6.5725 | 0.59304 | 4.9 | 7.9 | 3.0 |  0.11102862 | -0.2032597 | 0.08992695 |\n| Sepal.Width1 | 4  | setosa     | 2 | 50 | 3.428 | 0.3790644 | 3.40 | 3.4150 | 0.37065 | 2.3 | 4.4 | 2.1 |  0.03872946 |  0.5959507 | 0.05360780 |\n| Sepal.Width2 | 5  | versicolor | 2 | 50 | 2.770 | 0.3137983 | 2.80 | 2.7800 | 0.29652 | 2.0 | 3.4 | 1.4 | -0.34136443 | -0.5493203 | 0.04437778 |\n| Sepal.Width3 | 6  | virginica  | 2 | 50 | 2.974 | 0.3224966 | 3.00 | 2.9625 | 0.29652 | 2.2 | 3.8 | 1.6 |  0.34428489 |  0.3803832 | 0.04560791 |\n| Petal.Length1 | 7  | setosa     | 3 | 50 | 1.462 | 0.1736640 | 1.50 | 1.4600 | 0.14826 | 1.0 | 1.9 | 0.9 |  0.10009538 |  0.6539303 | 0.02455980 |\n| Petal.Length2 | 8  | versicolor | 3 | 50 | 4.260 | 0.4699110 | 4.35 | 4.2925 | 0.51891 | 3.0 | 5.1 | 2.1 | -0.57060243 | -0.1902555 | 0.06645545 |\n| Petal.Length3 | 9  | virginica  | 3 | 50 | 5.552 | 0.5518947 | 5.55 | 5.5100 | 0.66717 | 4.5 | 6.9 | 2.4 |  0.51691747 | -0.3651161 | 0.07804970 |\n| Petal.Width1 | 10 | setosa     | 4 | 50 | 0.246 | 0.1053856 | 0.20 | 0.2375 | 0.00000 | 0.1 | 0.6 | 0.5 |  1.17963278 |  1.2587179 | 0.01490377 |\n| Petal.Width2 | 11 | versicolor | 4 | 50 | 1.326 | 0.1977527 | 1.30 | 1.3250 | 0.22239 | 1.0 | 1.8 | 0.8 | -0.02933377 | -0.5873144 | 0.02796645 |\n| Petal.Width3 | 12 | virginica  | 4 | 50 | 2.026 | 0.2746501 | 2.00 | 2.0325 | 0.29652 | 1.4 | 2.5 | 1.1 | -0.12181190 | -0.7539586 | 0.03884138 |\n| Species*1 | 13 | setosa     | 5 | 50 | 1.000 | 0.0000000 | 1.00 | 1.0000 | 0.00000 | 1.0 | 1.0 | 0.0 |         NaN |        NaN | 0.00000000 |\n| Species*2 | 14 | versicolor | 5 | 50 | 2.000 | 0.0000000 | 2.00 | 2.0000 | 0.00000 | 2.0 | 2.0 | 0.0 |         NaN |        NaN | 0.00000000 |\n| Species*3 | 15 | virginica  | 5 | 50 | 3.000 | 0.0000000 | 3.00 | 3.0000 | 0.00000 | 3.0 | 3.0 | 0.0 |         NaN |        NaN | 0.00000000 |\n\n",
            "text/latex": "A data.frame: 15 × 15\n\\begin{tabular}{r|lllllllllllllll}\n  & item & group1 & vars & n & mean & sd & median & trimmed & mad & min & max & range & skew & kurtosis & se\\\\\n  & <chr> & <chr> & <dbl> & <dbl> & <dbl> & <dbl> & <dbl> & <dbl> & <dbl> & <dbl> & <dbl> & <dbl> & <dbl> & <dbl> & <dbl>\\\\\n\\hline\n\tSepal.Length1 & 1  & setosa     & 1 & 50 & 5.006 & 0.3524897 & 5.00 & 5.0025 & 0.29652 & 4.3 & 5.8 & 1.5 &  0.11297784 & -0.4508724 & 0.04984957\\\\\n\tSepal.Length2 & 2  & versicolor & 1 & 50 & 5.936 & 0.5161711 & 5.90 & 5.9375 & 0.51891 & 4.9 & 7.0 & 2.1 &  0.09913926 & -0.6939138 & 0.07299762\\\\\n\tSepal.Length3 & 3  & virginica  & 1 & 50 & 6.588 & 0.6358796 & 6.50 & 6.5725 & 0.59304 & 4.9 & 7.9 & 3.0 &  0.11102862 & -0.2032597 & 0.08992695\\\\\n\tSepal.Width1 & 4  & setosa     & 2 & 50 & 3.428 & 0.3790644 & 3.40 & 3.4150 & 0.37065 & 2.3 & 4.4 & 2.1 &  0.03872946 &  0.5959507 & 0.05360780\\\\\n\tSepal.Width2 & 5  & versicolor & 2 & 50 & 2.770 & 0.3137983 & 2.80 & 2.7800 & 0.29652 & 2.0 & 3.4 & 1.4 & -0.34136443 & -0.5493203 & 0.04437778\\\\\n\tSepal.Width3 & 6  & virginica  & 2 & 50 & 2.974 & 0.3224966 & 3.00 & 2.9625 & 0.29652 & 2.2 & 3.8 & 1.6 &  0.34428489 &  0.3803832 & 0.04560791\\\\\n\tPetal.Length1 & 7  & setosa     & 3 & 50 & 1.462 & 0.1736640 & 1.50 & 1.4600 & 0.14826 & 1.0 & 1.9 & 0.9 &  0.10009538 &  0.6539303 & 0.02455980\\\\\n\tPetal.Length2 & 8  & versicolor & 3 & 50 & 4.260 & 0.4699110 & 4.35 & 4.2925 & 0.51891 & 3.0 & 5.1 & 2.1 & -0.57060243 & -0.1902555 & 0.06645545\\\\\n\tPetal.Length3 & 9  & virginica  & 3 & 50 & 5.552 & 0.5518947 & 5.55 & 5.5100 & 0.66717 & 4.5 & 6.9 & 2.4 &  0.51691747 & -0.3651161 & 0.07804970\\\\\n\tPetal.Width1 & 10 & setosa     & 4 & 50 & 0.246 & 0.1053856 & 0.20 & 0.2375 & 0.00000 & 0.1 & 0.6 & 0.5 &  1.17963278 &  1.2587179 & 0.01490377\\\\\n\tPetal.Width2 & 11 & versicolor & 4 & 50 & 1.326 & 0.1977527 & 1.30 & 1.3250 & 0.22239 & 1.0 & 1.8 & 0.8 & -0.02933377 & -0.5873144 & 0.02796645\\\\\n\tPetal.Width3 & 12 & virginica  & 4 & 50 & 2.026 & 0.2746501 & 2.00 & 2.0325 & 0.29652 & 1.4 & 2.5 & 1.1 & -0.12181190 & -0.7539586 & 0.03884138\\\\\n\tSpecies*1 & 13 & setosa     & 5 & 50 & 1.000 & 0.0000000 & 1.00 & 1.0000 & 0.00000 & 1.0 & 1.0 & 0.0 &         NaN &        NaN & 0.00000000\\\\\n\tSpecies*2 & 14 & versicolor & 5 & 50 & 2.000 & 0.0000000 & 2.00 & 2.0000 & 0.00000 & 2.0 & 2.0 & 0.0 &         NaN &        NaN & 0.00000000\\\\\n\tSpecies*3 & 15 & virginica  & 5 & 50 & 3.000 & 0.0000000 & 3.00 & 3.0000 & 0.00000 & 3.0 & 3.0 & 0.0 &         NaN &        NaN & 0.00000000\\\\\n\\end{tabular}\n",
            "text/plain": [
              "              item group1     vars n  mean  sd        median trimmed mad    \n",
              "Sepal.Length1 1    setosa     1    50 5.006 0.3524897 5.00   5.0025  0.29652\n",
              "Sepal.Length2 2    versicolor 1    50 5.936 0.5161711 5.90   5.9375  0.51891\n",
              "Sepal.Length3 3    virginica  1    50 6.588 0.6358796 6.50   6.5725  0.59304\n",
              "Sepal.Width1  4    setosa     2    50 3.428 0.3790644 3.40   3.4150  0.37065\n",
              "Sepal.Width2  5    versicolor 2    50 2.770 0.3137983 2.80   2.7800  0.29652\n",
              "Sepal.Width3  6    virginica  2    50 2.974 0.3224966 3.00   2.9625  0.29652\n",
              "Petal.Length1 7    setosa     3    50 1.462 0.1736640 1.50   1.4600  0.14826\n",
              "Petal.Length2 8    versicolor 3    50 4.260 0.4699110 4.35   4.2925  0.51891\n",
              "Petal.Length3 9    virginica  3    50 5.552 0.5518947 5.55   5.5100  0.66717\n",
              "Petal.Width1  10   setosa     4    50 0.246 0.1053856 0.20   0.2375  0.00000\n",
              "Petal.Width2  11   versicolor 4    50 1.326 0.1977527 1.30   1.3250  0.22239\n",
              "Petal.Width3  12   virginica  4    50 2.026 0.2746501 2.00   2.0325  0.29652\n",
              "Species*1     13   setosa     5    50 1.000 0.0000000 1.00   1.0000  0.00000\n",
              "Species*2     14   versicolor 5    50 2.000 0.0000000 2.00   2.0000  0.00000\n",
              "Species*3     15   virginica  5    50 3.000 0.0000000 3.00   3.0000  0.00000\n",
              "              min max range skew        kurtosis   se        \n",
              "Sepal.Length1 4.3 5.8 1.5    0.11297784 -0.4508724 0.04984957\n",
              "Sepal.Length2 4.9 7.0 2.1    0.09913926 -0.6939138 0.07299762\n",
              "Sepal.Length3 4.9 7.9 3.0    0.11102862 -0.2032597 0.08992695\n",
              "Sepal.Width1  2.3 4.4 2.1    0.03872946  0.5959507 0.05360780\n",
              "Sepal.Width2  2.0 3.4 1.4   -0.34136443 -0.5493203 0.04437778\n",
              "Sepal.Width3  2.2 3.8 1.6    0.34428489  0.3803832 0.04560791\n",
              "Petal.Length1 1.0 1.9 0.9    0.10009538  0.6539303 0.02455980\n",
              "Petal.Length2 3.0 5.1 2.1   -0.57060243 -0.1902555 0.06645545\n",
              "Petal.Length3 4.5 6.9 2.4    0.51691747 -0.3651161 0.07804970\n",
              "Petal.Width1  0.1 0.6 0.5    1.17963278  1.2587179 0.01490377\n",
              "Petal.Width2  1.0 1.8 0.8   -0.02933377 -0.5873144 0.02796645\n",
              "Petal.Width3  1.4 2.5 1.1   -0.12181190 -0.7539586 0.03884138\n",
              "Species*1     1.0 1.0 0.0           NaN        NaN 0.00000000\n",
              "Species*2     2.0 2.0 0.0           NaN        NaN 0.00000000\n",
              "Species*3     3.0 3.0 0.0           NaN        NaN 0.00000000"
            ]
          },
          "metadata": {}
        }
      ]
    },
    {
      "cell_type": "code",
      "source": [
        "b <- subset(a, a$group1 %in% 'virginica')\n",
        "b"
      ],
      "metadata": {
        "colab": {
          "base_uri": "https://localhost:8080/",
          "height": 255
        },
        "id": "xxTkjqMHIvKF",
        "outputId": "67c6e834-e74a-4cdc-d278-f1dc03fbf10b"
      },
      "execution_count": 33,
      "outputs": [
        {
          "output_type": "display_data",
          "data": {
            "text/html": [
              "<table class=\"dataframe\">\n",
              "<caption>A data.frame: 5 × 15</caption>\n",
              "<thead>\n",
              "\t<tr><th></th><th scope=col>item</th><th scope=col>group1</th><th scope=col>vars</th><th scope=col>n</th><th scope=col>mean</th><th scope=col>sd</th><th scope=col>median</th><th scope=col>trimmed</th><th scope=col>mad</th><th scope=col>min</th><th scope=col>max</th><th scope=col>range</th><th scope=col>skew</th><th scope=col>kurtosis</th><th scope=col>se</th></tr>\n",
              "\t<tr><th></th><th scope=col>&lt;chr&gt;</th><th scope=col>&lt;chr&gt;</th><th scope=col>&lt;dbl&gt;</th><th scope=col>&lt;dbl&gt;</th><th scope=col>&lt;dbl&gt;</th><th scope=col>&lt;dbl&gt;</th><th scope=col>&lt;dbl&gt;</th><th scope=col>&lt;dbl&gt;</th><th scope=col>&lt;dbl&gt;</th><th scope=col>&lt;dbl&gt;</th><th scope=col>&lt;dbl&gt;</th><th scope=col>&lt;dbl&gt;</th><th scope=col>&lt;dbl&gt;</th><th scope=col>&lt;dbl&gt;</th><th scope=col>&lt;dbl&gt;</th></tr>\n",
              "</thead>\n",
              "<tbody>\n",
              "\t<tr><th scope=row>Sepal.Length3</th><td>3 </td><td>virginica</td><td>1</td><td>50</td><td>6.588</td><td>0.6358796</td><td>6.50</td><td>6.5725</td><td>0.59304</td><td>4.9</td><td>7.9</td><td>3.0</td><td> 0.1110286</td><td>-0.2032597</td><td>0.08992695</td></tr>\n",
              "\t<tr><th scope=row>Sepal.Width3</th><td>6 </td><td>virginica</td><td>2</td><td>50</td><td>2.974</td><td>0.3224966</td><td>3.00</td><td>2.9625</td><td>0.29652</td><td>2.2</td><td>3.8</td><td>1.6</td><td> 0.3442849</td><td> 0.3803832</td><td>0.04560791</td></tr>\n",
              "\t<tr><th scope=row>Petal.Length3</th><td>9 </td><td>virginica</td><td>3</td><td>50</td><td>5.552</td><td>0.5518947</td><td>5.55</td><td>5.5100</td><td>0.66717</td><td>4.5</td><td>6.9</td><td>2.4</td><td> 0.5169175</td><td>-0.3651161</td><td>0.07804970</td></tr>\n",
              "\t<tr><th scope=row>Petal.Width3</th><td>12</td><td>virginica</td><td>4</td><td>50</td><td>2.026</td><td>0.2746501</td><td>2.00</td><td>2.0325</td><td>0.29652</td><td>1.4</td><td>2.5</td><td>1.1</td><td>-0.1218119</td><td>-0.7539586</td><td>0.03884138</td></tr>\n",
              "\t<tr><th scope=row>Species*3</th><td>15</td><td>virginica</td><td>5</td><td>50</td><td>3.000</td><td>0.0000000</td><td>3.00</td><td>3.0000</td><td>0.00000</td><td>3.0</td><td>3.0</td><td>0.0</td><td>       NaN</td><td>       NaN</td><td>0.00000000</td></tr>\n",
              "</tbody>\n",
              "</table>\n"
            ],
            "text/markdown": "\nA data.frame: 5 × 15\n\n| <!--/--> | item &lt;chr&gt; | group1 &lt;chr&gt; | vars &lt;dbl&gt; | n &lt;dbl&gt; | mean &lt;dbl&gt; | sd &lt;dbl&gt; | median &lt;dbl&gt; | trimmed &lt;dbl&gt; | mad &lt;dbl&gt; | min &lt;dbl&gt; | max &lt;dbl&gt; | range &lt;dbl&gt; | skew &lt;dbl&gt; | kurtosis &lt;dbl&gt; | se &lt;dbl&gt; |\n|---|---|---|---|---|---|---|---|---|---|---|---|---|---|---|---|\n| Sepal.Length3 | 3  | virginica | 1 | 50 | 6.588 | 0.6358796 | 6.50 | 6.5725 | 0.59304 | 4.9 | 7.9 | 3.0 |  0.1110286 | -0.2032597 | 0.08992695 |\n| Sepal.Width3 | 6  | virginica | 2 | 50 | 2.974 | 0.3224966 | 3.00 | 2.9625 | 0.29652 | 2.2 | 3.8 | 1.6 |  0.3442849 |  0.3803832 | 0.04560791 |\n| Petal.Length3 | 9  | virginica | 3 | 50 | 5.552 | 0.5518947 | 5.55 | 5.5100 | 0.66717 | 4.5 | 6.9 | 2.4 |  0.5169175 | -0.3651161 | 0.07804970 |\n| Petal.Width3 | 12 | virginica | 4 | 50 | 2.026 | 0.2746501 | 2.00 | 2.0325 | 0.29652 | 1.4 | 2.5 | 1.1 | -0.1218119 | -0.7539586 | 0.03884138 |\n| Species*3 | 15 | virginica | 5 | 50 | 3.000 | 0.0000000 | 3.00 | 3.0000 | 0.00000 | 3.0 | 3.0 | 0.0 |        NaN |        NaN | 0.00000000 |\n\n",
            "text/latex": "A data.frame: 5 × 15\n\\begin{tabular}{r|lllllllllllllll}\n  & item & group1 & vars & n & mean & sd & median & trimmed & mad & min & max & range & skew & kurtosis & se\\\\\n  & <chr> & <chr> & <dbl> & <dbl> & <dbl> & <dbl> & <dbl> & <dbl> & <dbl> & <dbl> & <dbl> & <dbl> & <dbl> & <dbl> & <dbl>\\\\\n\\hline\n\tSepal.Length3 & 3  & virginica & 1 & 50 & 6.588 & 0.6358796 & 6.50 & 6.5725 & 0.59304 & 4.9 & 7.9 & 3.0 &  0.1110286 & -0.2032597 & 0.08992695\\\\\n\tSepal.Width3 & 6  & virginica & 2 & 50 & 2.974 & 0.3224966 & 3.00 & 2.9625 & 0.29652 & 2.2 & 3.8 & 1.6 &  0.3442849 &  0.3803832 & 0.04560791\\\\\n\tPetal.Length3 & 9  & virginica & 3 & 50 & 5.552 & 0.5518947 & 5.55 & 5.5100 & 0.66717 & 4.5 & 6.9 & 2.4 &  0.5169175 & -0.3651161 & 0.07804970\\\\\n\tPetal.Width3 & 12 & virginica & 4 & 50 & 2.026 & 0.2746501 & 2.00 & 2.0325 & 0.29652 & 1.4 & 2.5 & 1.1 & -0.1218119 & -0.7539586 & 0.03884138\\\\\n\tSpecies*3 & 15 & virginica & 5 & 50 & 3.000 & 0.0000000 & 3.00 & 3.0000 & 0.00000 & 3.0 & 3.0 & 0.0 &        NaN &        NaN & 0.00000000\\\\\n\\end{tabular}\n",
            "text/plain": [
              "              item group1    vars n  mean  sd        median trimmed mad     min\n",
              "Sepal.Length3 3    virginica 1    50 6.588 0.6358796 6.50   6.5725  0.59304 4.9\n",
              "Sepal.Width3  6    virginica 2    50 2.974 0.3224966 3.00   2.9625  0.29652 2.2\n",
              "Petal.Length3 9    virginica 3    50 5.552 0.5518947 5.55   5.5100  0.66717 4.5\n",
              "Petal.Width3  12   virginica 4    50 2.026 0.2746501 2.00   2.0325  0.29652 1.4\n",
              "Species*3     15   virginica 5    50 3.000 0.0000000 3.00   3.0000  0.00000 3.0\n",
              "              max range skew       kurtosis   se        \n",
              "Sepal.Length3 7.9 3.0    0.1110286 -0.2032597 0.08992695\n",
              "Sepal.Width3  3.8 1.6    0.3442849  0.3803832 0.04560791\n",
              "Petal.Length3 6.9 2.4    0.5169175 -0.3651161 0.07804970\n",
              "Petal.Width3  2.5 1.1   -0.1218119 -0.7539586 0.03884138\n",
              "Species*3     3.0 0.0          NaN        NaN 0.00000000"
            ]
          },
          "metadata": {}
        }
      ]
    },
    {
      "cell_type": "markdown",
      "source": [
        "a <- describeBy(x = iris, group = iris$Species,mat=T)\n",
        "\n",
        "Представит описательные статистики для iris, но - всё в кучу. Если таблица большая, а значений много, будет не очень удобно искать там медианы для virginica и, тем более, как-то их ранжировать\n",
        "\n",
        "\n",
        "b <- subset(a, a$group1 %in% 'virginica')\n",
        "\n",
        "А вот теперь просто переходим в сабсет b, и ранжируем в окошке медианы.\n",
        "\n",
        "Краткий разбор конструкций. Не потому что сложно, а потому что полезно.\n",
        "\n",
        "%in% - оператор, используется для определения принадлежности элемента вектору или фрейму данных.\n",
        "\n",
        "a$group1 %in% 'virginica'  проверяет, есть ли virginica в столбце group от таблицы a\n",
        "\n",
        "subset (a,...) - Возвращает подмножество элемента, которое соответствует заданному условию\n",
        "\n"
      ],
      "metadata": {
        "id": "fbYk-MGuI_yf"
      }
    },
    {
      "cell_type": "code",
      "source": [
        " describeBy(iris, group = iris$Species)$'virginica'['median']"
      ],
      "metadata": {
        "colab": {
          "base_uri": "https://localhost:8080/",
          "height": 255
        },
        "id": "AUteDmFpJtK6",
        "outputId": "13b58883-ca2d-41ed-95fc-13e32e411872"
      },
      "execution_count": 35,
      "outputs": [
        {
          "output_type": "display_data",
          "data": {
            "text/html": [
              "<table class=\"dataframe\">\n",
              "<caption>A psych: 5 × 1</caption>\n",
              "<thead>\n",
              "\t<tr><th></th><th scope=col>median</th></tr>\n",
              "\t<tr><th></th><th scope=col>&lt;dbl&gt;</th></tr>\n",
              "</thead>\n",
              "<tbody>\n",
              "\t<tr><th scope=row>Sepal.Length</th><td>6.50</td></tr>\n",
              "\t<tr><th scope=row>Sepal.Width</th><td>3.00</td></tr>\n",
              "\t<tr><th scope=row>Petal.Length</th><td>5.55</td></tr>\n",
              "\t<tr><th scope=row>Petal.Width</th><td>2.00</td></tr>\n",
              "\t<tr><th scope=row>Species*</th><td>3.00</td></tr>\n",
              "</tbody>\n",
              "</table>\n"
            ],
            "text/markdown": "\nA psych: 5 × 1\n\n| <!--/--> | median &lt;dbl&gt; |\n|---|---|\n| Sepal.Length | 6.50 |\n| Sepal.Width | 3.00 |\n| Petal.Length | 5.55 |\n| Petal.Width | 2.00 |\n| Species* | 3.00 |\n\n",
            "text/latex": "A psych: 5 × 1\n\\begin{tabular}{r|l}\n  & median\\\\\n  & <dbl>\\\\\n\\hline\n\tSepal.Length & 6.50\\\\\n\tSepal.Width & 3.00\\\\\n\tPetal.Length & 5.55\\\\\n\tPetal.Width & 2.00\\\\\n\tSpecies* & 3.00\\\\\n\\end{tabular}\n",
            "text/plain": [
              "             median\n",
              "Sepal.Length 6.50  \n",
              "Sepal.Width  3.00  \n",
              "Petal.Length 5.55  \n",
              "Petal.Width  2.00  \n",
              "Species*     3.00  "
            ]
          },
          "metadata": {}
        }
      ]
    },
    {
      "cell_type": "code",
      "source": [
        "aggregate(. ~ iris$Species, iris, median)"
      ],
      "metadata": {
        "colab": {
          "base_uri": "https://localhost:8080/",
          "height": 192
        },
        "id": "tfu9ajt8J0OE",
        "outputId": "6a9cb370-4a09-4f54-e088-7d0552c477f7"
      },
      "execution_count": 36,
      "outputs": [
        {
          "output_type": "display_data",
          "data": {
            "text/html": [
              "<table class=\"dataframe\">\n",
              "<caption>A data.frame: 3 × 6</caption>\n",
              "<thead>\n",
              "\t<tr><th scope=col>iris$Species</th><th scope=col>Sepal.Length</th><th scope=col>Sepal.Width</th><th scope=col>Petal.Length</th><th scope=col>Petal.Width</th><th scope=col>Species</th></tr>\n",
              "\t<tr><th scope=col>&lt;fct&gt;</th><th scope=col>&lt;dbl&gt;</th><th scope=col>&lt;dbl&gt;</th><th scope=col>&lt;dbl&gt;</th><th scope=col>&lt;dbl&gt;</th><th scope=col>&lt;dbl&gt;</th></tr>\n",
              "</thead>\n",
              "<tbody>\n",
              "\t<tr><td>setosa    </td><td>5.0</td><td>3.4</td><td>1.50</td><td>0.2</td><td>1</td></tr>\n",
              "\t<tr><td>versicolor</td><td>5.9</td><td>2.8</td><td>4.35</td><td>1.3</td><td>2</td></tr>\n",
              "\t<tr><td>virginica </td><td>6.5</td><td>3.0</td><td>5.55</td><td>2.0</td><td>3</td></tr>\n",
              "</tbody>\n",
              "</table>\n"
            ],
            "text/markdown": "\nA data.frame: 3 × 6\n\n| iris$Species &lt;fct&gt; | Sepal.Length &lt;dbl&gt; | Sepal.Width &lt;dbl&gt; | Petal.Length &lt;dbl&gt; | Petal.Width &lt;dbl&gt; | Species &lt;dbl&gt; |\n|---|---|---|---|---|---|\n| setosa     | 5.0 | 3.4 | 1.50 | 0.2 | 1 |\n| versicolor | 5.9 | 2.8 | 4.35 | 1.3 | 2 |\n| virginica  | 6.5 | 3.0 | 5.55 | 2.0 | 3 |\n\n",
            "text/latex": "A data.frame: 3 × 6\n\\begin{tabular}{llllll}\n iris\\$Species & Sepal.Length & Sepal.Width & Petal.Length & Petal.Width & Species\\\\\n <fct> & <dbl> & <dbl> & <dbl> & <dbl> & <dbl>\\\\\n\\hline\n\t setosa     & 5.0 & 3.4 & 1.50 & 0.2 & 1\\\\\n\t versicolor & 5.9 & 2.8 & 4.35 & 1.3 & 2\\\\\n\t virginica  & 6.5 & 3.0 & 5.55 & 2.0 & 3\\\\\n\\end{tabular}\n",
            "text/plain": [
              "  iris$Species Sepal.Length Sepal.Width Petal.Length Petal.Width Species\n",
              "1 setosa       5.0          3.4         1.50         0.2         1      \n",
              "2 versicolor   5.9          2.8         4.35         1.3         2      \n",
              "3 virginica    6.5          3.0         5.55         2.0         3      "
            ]
          },
          "metadata": {}
        }
      ]
    },
    {
      "cell_type": "code",
      "source": [
        "sort(aggregate(. ~ iris$Species, subset = (Species == \"virginica\"), iris, median), decreasing=TRUE)"
      ],
      "metadata": {
        "colab": {
          "base_uri": "https://localhost:8080/",
          "height": 350
        },
        "id": "3uOqj89vJ9KE",
        "outputId": "e7ca231c-51eb-4722-9596-a7eb4cbad45a"
      },
      "execution_count": 37,
      "outputs": [
        {
          "output_type": "error",
          "ename": "ERROR",
          "evalue": "ignored",
          "traceback": [
            "Error in xtfrm.data.frame(x): cannot xtfrm data frames\nTraceback:\n",
            "1. sort(aggregate(. ~ iris$Species, subset = (Species == \"virginica\"), \n .     iris, median), decreasing = TRUE)",
            "2. sort.default(aggregate(. ~ iris$Species, subset = (Species == \n .     \"virginica\"), iris, median), decreasing = TRUE)",
            "3. x[order(x, na.last = na.last, decreasing = decreasing)]",
            "4. `[.data.frame`(x, order(x, na.last = na.last, decreasing = decreasing))",
            "5. order(x, na.last = na.last, decreasing = decreasing)",
            "6. lapply(z, function(x) if (is.object(x)) as.vector(xtfrm(x)) else x)",
            "7. FUN(X[[i]], ...)",
            "8. as.vector(xtfrm(x))",
            "9. xtfrm(x)",
            "10. xtfrm.data.frame(x)",
            "11. stop(\"cannot xtfrm data frames\")"
          ]
        }
      ]
    },
    {
      "cell_type": "code",
      "source": [
        "# iris[iris.Species == \"virginica\"].median().sort_values(ascending=False)"
      ],
      "metadata": {
        "id": "M5b0YEEAKEAf"
      },
      "execution_count": null,
      "outputs": []
    },
    {
      "cell_type": "code",
      "source": [
        "lapply(subset(iris, iris$Species == \"virginica\", select = 1:4),  FUN = median)"
      ],
      "metadata": {
        "colab": {
          "base_uri": "https://localhost:8080/",
          "height": 184
        },
        "id": "TtxkkBw-KGXh",
        "outputId": "140d8ef9-1275-4a85-ba92-a349b1b580e1"
      },
      "execution_count": 38,
      "outputs": [
        {
          "output_type": "display_data",
          "data": {
            "text/html": [
              "<dl>\n",
              "\t<dt>$Sepal.Length</dt>\n",
              "\t\t<dd>6.5</dd>\n",
              "\t<dt>$Sepal.Width</dt>\n",
              "\t\t<dd>3</dd>\n",
              "\t<dt>$Petal.Length</dt>\n",
              "\t\t<dd>5.55</dd>\n",
              "\t<dt>$Petal.Width</dt>\n",
              "\t\t<dd>2</dd>\n",
              "</dl>\n"
            ],
            "text/markdown": "$Sepal.Length\n:   6.5\n$Sepal.Width\n:   3\n$Petal.Length\n:   5.55\n$Petal.Width\n:   2\n\n\n",
            "text/latex": "\\begin{description}\n\\item[\\$Sepal.Length] 6.5\n\\item[\\$Sepal.Width] 3\n\\item[\\$Petal.Length] 5.55\n\\item[\\$Petal.Width] 2\n\\end{description}\n",
            "text/plain": [
              "$Sepal.Length\n",
              "[1] 6.5\n",
              "\n",
              "$Sepal.Width\n",
              "[1] 3\n",
              "\n",
              "$Petal.Length\n",
              "[1] 5.55\n",
              "\n",
              "$Petal.Width\n",
              "[1] 2\n"
            ]
          },
          "metadata": {}
        }
      ]
    },
    {
      "cell_type": "code",
      "source": [
        "describe(iris[iris$Species == 'virginica', 1:4])['median']"
      ],
      "metadata": {
        "colab": {
          "base_uri": "https://localhost:8080/",
          "height": 224
        },
        "id": "V3a_d3X3KQAd",
        "outputId": "b88ece84-6309-4ba2-8a17-11df7e49a47f"
      },
      "execution_count": 39,
      "outputs": [
        {
          "output_type": "display_data",
          "data": {
            "text/html": [
              "<table class=\"dataframe\">\n",
              "<caption>A psych: 4 × 1</caption>\n",
              "<thead>\n",
              "\t<tr><th></th><th scope=col>median</th></tr>\n",
              "\t<tr><th></th><th scope=col>&lt;dbl&gt;</th></tr>\n",
              "</thead>\n",
              "<tbody>\n",
              "\t<tr><th scope=row>Sepal.Length</th><td>6.50</td></tr>\n",
              "\t<tr><th scope=row>Sepal.Width</th><td>3.00</td></tr>\n",
              "\t<tr><th scope=row>Petal.Length</th><td>5.55</td></tr>\n",
              "\t<tr><th scope=row>Petal.Width</th><td>2.00</td></tr>\n",
              "</tbody>\n",
              "</table>\n"
            ],
            "text/markdown": "\nA psych: 4 × 1\n\n| <!--/--> | median &lt;dbl&gt; |\n|---|---|\n| Sepal.Length | 6.50 |\n| Sepal.Width | 3.00 |\n| Petal.Length | 5.55 |\n| Petal.Width | 2.00 |\n\n",
            "text/latex": "A psych: 4 × 1\n\\begin{tabular}{r|l}\n  & median\\\\\n  & <dbl>\\\\\n\\hline\n\tSepal.Length & 6.50\\\\\n\tSepal.Width & 3.00\\\\\n\tPetal.Length & 5.55\\\\\n\tPetal.Width & 2.00\\\\\n\\end{tabular}\n",
            "text/plain": [
              "             median\n",
              "Sepal.Length 6.50  \n",
              "Sepal.Width  3.00  \n",
              "Petal.Length 5.55  \n",
              "Petal.Width  2.00  "
            ]
          },
          "metadata": {}
        }
      ]
    },
    {
      "cell_type": "code",
      "source": [
        "describeBy(iris[,1:4], group = iris$Species)$virginica['median']"
      ],
      "metadata": {
        "colab": {
          "base_uri": "https://localhost:8080/",
          "height": 255
        },
        "id": "TczqAMKDKTFl",
        "outputId": "8e10ff38-547f-495e-8dc3-1fb6376644f4"
      },
      "execution_count": 43,
      "outputs": [
        {
          "output_type": "display_data",
          "data": {
            "text/html": [
              "<table class=\"dataframe\">\n",
              "<caption>A psych: 5 × 1</caption>\n",
              "<thead>\n",
              "\t<tr><th></th><th scope=col>median</th></tr>\n",
              "\t<tr><th></th><th scope=col>&lt;dbl&gt;</th></tr>\n",
              "</thead>\n",
              "<tbody>\n",
              "\t<tr><th scope=row>Sepal.Length</th><td>6.50</td></tr>\n",
              "\t<tr><th scope=row>Sepal.Width</th><td>3.00</td></tr>\n",
              "\t<tr><th scope=row>Petal.Length</th><td>5.55</td></tr>\n",
              "\t<tr><th scope=row>Petal.Width</th><td>2.00</td></tr>\n",
              "\t<tr><th scope=row>Species*</th><td>3.00</td></tr>\n",
              "</tbody>\n",
              "</table>\n"
            ],
            "text/markdown": "\nA psych: 5 × 1\n\n| <!--/--> | median &lt;dbl&gt; |\n|---|---|\n| Sepal.Length | 6.50 |\n| Sepal.Width | 3.00 |\n| Petal.Length | 5.55 |\n| Petal.Width | 2.00 |\n| Species* | 3.00 |\n\n",
            "text/latex": "A psych: 5 × 1\n\\begin{tabular}{r|l}\n  & median\\\\\n  & <dbl>\\\\\n\\hline\n\tSepal.Length & 6.50\\\\\n\tSepal.Width & 3.00\\\\\n\tPetal.Length & 5.55\\\\\n\tPetal.Width & 2.00\\\\\n\tSpecies* & 3.00\\\\\n\\end{tabular}\n",
            "text/plain": [
              "             median\n",
              "Sepal.Length 6.50  \n",
              "Sepal.Width  3.00  \n",
              "Petal.Length 5.55  \n",
              "Petal.Width  2.00  \n",
              "Species*     3.00  "
            ]
          },
          "metadata": {}
        }
      ]
    },
    {
      "cell_type": "markdown",
      "source": [
        "# 1_5_14\n",
        "\n",
        "В переменной my_vector сохранен вектор с пропущенными значениями. Вам нужно создать новый вектор fixed_vector, в котором все пропущенные значения вектора my_vector будут заменены на среднее значение по имеющимся наблюдениям.\n",
        "\n",
        "При этом исходный вектор оставьте без изменений!\n",
        "\n",
        "Напоминаю, переменная my_vector уже создана, сразу начинайте работать с ней. Перед тем, как сдавать решение, вы можете потренироваться на различных примерах. Ниже небольшой код, который может создать случайный вектор (выборка из нормального распределения) с пропущенными значениями.\n",
        "\n",
        "\n",
        "my_vector <- rnorm(30)\n",
        "\n",
        "my_vector[sample(1:30, 10)] <- NA # на десять случайных позиций поместим NA\n",
        "\n",
        "\n",
        "Задача для самостоятельной работы:\n",
        "\n",
        "Изучите справку по функции replace. Вызвать справку можно исполнив команду:\n",
        "\n",
        "?replace\n",
        "Попробуйте решить это задание при помощи этой функции."
      ],
      "metadata": {
        "id": "wcJA0C8NKq8R"
      }
    },
    {
      "cell_type": "code",
      "source": [
        "my_vector <- rnorm(30)\n",
        "\n",
        "my_vector[sample(1:30, 10)]"
      ],
      "metadata": {
        "colab": {
          "base_uri": "https://localhost:8080/",
          "height": 52
        },
        "id": "LNteNa8OLydZ",
        "outputId": "7836b043-8294-4a99-e08f-d74e8a4c53f9"
      },
      "execution_count": 50,
      "outputs": [
        {
          "output_type": "display_data",
          "data": {
            "text/html": [
              "<style>\n",
              ".list-inline {list-style: none; margin:0; padding: 0}\n",
              ".list-inline>li {display: inline-block}\n",
              ".list-inline>li:not(:last-child)::after {content: \"\\00b7\"; padding: 0 .5ex}\n",
              "</style>\n",
              "<ol class=list-inline><li>1.29808627700458</li><li>0.0615006219781727</li><li>-0.745141797382843</li><li>0.648415723272528</li><li>-0.570462777554021</li><li>0.634702894522173</li><li>-0.573920800317976</li><li>2.56042705313003</li><li>0.937791662426321</li><li>0.465174161044972</li></ol>\n"
            ],
            "text/markdown": "1. 1.29808627700458\n2. 0.0615006219781727\n3. -0.745141797382843\n4. 0.648415723272528\n5. -0.570462777554021\n6. 0.634702894522173\n7. -0.573920800317976\n8. 2.56042705313003\n9. 0.937791662426321\n10. 0.465174161044972\n\n\n",
            "text/latex": "\\begin{enumerate*}\n\\item 1.29808627700458\n\\item 0.0615006219781727\n\\item -0.745141797382843\n\\item 0.648415723272528\n\\item -0.570462777554021\n\\item 0.634702894522173\n\\item -0.573920800317976\n\\item 2.56042705313003\n\\item 0.937791662426321\n\\item 0.465174161044972\n\\end{enumerate*}\n",
            "text/plain": [
              " [1]  1.29808628  0.06150062 -0.74514180  0.64841572 -0.57046278  0.63470289\n",
              " [7] -0.57392080  2.56042705  0.93779166  0.46517416"
            ]
          },
          "metadata": {}
        }
      ]
    },
    {
      "cell_type": "code",
      "source": [
        "m <- mean(my_vector, na.rm = T)\n",
        "\n",
        "fixed_vector <- my_vector\n",
        "\n",
        "# fixed_vector[is.na(fixed_vector)] <- m"
      ],
      "metadata": {
        "id": "VtrvZCzpKwr4"
      },
      "execution_count": 51,
      "outputs": []
    },
    {
      "cell_type": "code",
      "source": [
        "is.na(fixed_vector)"
      ],
      "metadata": {
        "colab": {
          "base_uri": "https://localhost:8080/",
          "height": 52
        },
        "id": "zOKnmkgyMByJ",
        "outputId": "bb105e73-8b86-428d-f538-6619920ea8cf"
      },
      "execution_count": 53,
      "outputs": [
        {
          "output_type": "display_data",
          "data": {
            "text/html": [
              "<style>\n",
              ".list-inline {list-style: none; margin:0; padding: 0}\n",
              ".list-inline>li {display: inline-block}\n",
              ".list-inline>li:not(:last-child)::after {content: \"\\00b7\"; padding: 0 .5ex}\n",
              "</style>\n",
              "<ol class=list-inline><li>FALSE</li><li>FALSE</li><li>FALSE</li><li>FALSE</li><li>FALSE</li><li>FALSE</li><li>FALSE</li><li>FALSE</li><li>FALSE</li><li>FALSE</li><li>FALSE</li><li>FALSE</li><li>FALSE</li><li>FALSE</li><li>FALSE</li><li>FALSE</li><li>FALSE</li><li>FALSE</li><li>FALSE</li><li>FALSE</li><li>FALSE</li><li>FALSE</li><li>FALSE</li><li>FALSE</li><li>FALSE</li><li>FALSE</li><li>FALSE</li><li>FALSE</li><li>FALSE</li><li>FALSE</li></ol>\n"
            ],
            "text/markdown": "1. FALSE\n2. FALSE\n3. FALSE\n4. FALSE\n5. FALSE\n6. FALSE\n7. FALSE\n8. FALSE\n9. FALSE\n10. FALSE\n11. FALSE\n12. FALSE\n13. FALSE\n14. FALSE\n15. FALSE\n16. FALSE\n17. FALSE\n18. FALSE\n19. FALSE\n20. FALSE\n21. FALSE\n22. FALSE\n23. FALSE\n24. FALSE\n25. FALSE\n26. FALSE\n27. FALSE\n28. FALSE\n29. FALSE\n30. FALSE\n\n\n",
            "text/latex": "\\begin{enumerate*}\n\\item FALSE\n\\item FALSE\n\\item FALSE\n\\item FALSE\n\\item FALSE\n\\item FALSE\n\\item FALSE\n\\item FALSE\n\\item FALSE\n\\item FALSE\n\\item FALSE\n\\item FALSE\n\\item FALSE\n\\item FALSE\n\\item FALSE\n\\item FALSE\n\\item FALSE\n\\item FALSE\n\\item FALSE\n\\item FALSE\n\\item FALSE\n\\item FALSE\n\\item FALSE\n\\item FALSE\n\\item FALSE\n\\item FALSE\n\\item FALSE\n\\item FALSE\n\\item FALSE\n\\item FALSE\n\\end{enumerate*}\n",
            "text/plain": [
              " [1] FALSE FALSE FALSE FALSE FALSE FALSE FALSE FALSE FALSE FALSE FALSE FALSE\n",
              "[13] FALSE FALSE FALSE FALSE FALSE FALSE FALSE FALSE FALSE FALSE FALSE FALSE\n",
              "[25] FALSE FALSE FALSE FALSE FALSE FALSE"
            ]
          },
          "metadata": {}
        }
      ]
    },
    {
      "cell_type": "code",
      "source": [
        "fixed_vector[is.na(fixed_vector)]"
      ],
      "metadata": {
        "colab": {
          "base_uri": "https://localhost:8080/",
          "height": 17
        },
        "id": "IFV76jdjL1yk",
        "outputId": "a56110e0-e412-4bb0-e22b-8a3d73255336"
      },
      "execution_count": 52,
      "outputs": [
        {
          "output_type": "display_data",
          "data": {
            "text/html": [],
            "text/markdown": "",
            "text/latex": "",
            "text/plain": [
              "numeric(0)"
            ]
          },
          "metadata": {}
        }
      ]
    },
    {
      "cell_type": "code",
      "source": [
        "fixed_vector <- replace(my_vector, is.na(my_vector), mean(my_vector, na.rm = T))\n",
        "fixed_vector"
      ],
      "metadata": {
        "colab": {
          "base_uri": "https://localhost:8080/",
          "height": 104
        },
        "id": "l10L939GMUcu",
        "outputId": "9c5e31df-3f6a-46a1-fc87-f27a8c7a6291"
      },
      "execution_count": 54,
      "outputs": [
        {
          "output_type": "display_data",
          "data": {
            "text/html": [
              "<style>\n",
              ".list-inline {list-style: none; margin:0; padding: 0}\n",
              ".list-inline>li {display: inline-block}\n",
              ".list-inline>li:not(:last-child)::after {content: \"\\00b7\"; padding: 0 .5ex}\n",
              "</style>\n",
              "<ol class=list-inline><li>0.0609110656459121</li><li>0.135807696197083</li><li>1.9892539479383</li><li>-0.167988348864008</li><li>0.182615437473973</li><li>0.648415723272528</li><li>0.350708543664188</li><li>0.465174161044972</li><li>0.0990846951832854</li><li>0.422248491807008</li><li>1.29808627700458</li><li>-0.189317885183662</li><li>0.937791662426321</li><li>0.634702894522173</li><li>-0.570462777554021</li><li>0.193593998914622</li><li>1.41437343632726</li><li>-0.386671430111966</li><li>-0.864292185796729</li><li>0.792278675414308</li><li>-0.573920800317976</li><li>0.690281305338715</li><li>0.419453622747249</li><li>2.56042705313003</li><li>0.0615006219781727</li><li>0.326296521647139</li><li>-0.745141797382843</li><li>-1.00336945928524</li><li>-0.00978804714480208</li><li>-0.422703028300411</li></ol>\n"
            ],
            "text/markdown": "1. 0.0609110656459121\n2. 0.135807696197083\n3. 1.9892539479383\n4. -0.167988348864008\n5. 0.182615437473973\n6. 0.648415723272528\n7. 0.350708543664188\n8. 0.465174161044972\n9. 0.0990846951832854\n10. 0.422248491807008\n11. 1.29808627700458\n12. -0.189317885183662\n13. 0.937791662426321\n14. 0.634702894522173\n15. -0.570462777554021\n16. 0.193593998914622\n17. 1.41437343632726\n18. -0.386671430111966\n19. -0.864292185796729\n20. 0.792278675414308\n21. -0.573920800317976\n22. 0.690281305338715\n23. 0.419453622747249\n24. 2.56042705313003\n25. 0.0615006219781727\n26. 0.326296521647139\n27. -0.745141797382843\n28. -1.00336945928524\n29. -0.00978804714480208\n30. -0.422703028300411\n\n\n",
            "text/latex": "\\begin{enumerate*}\n\\item 0.0609110656459121\n\\item 0.135807696197083\n\\item 1.9892539479383\n\\item -0.167988348864008\n\\item 0.182615437473973\n\\item 0.648415723272528\n\\item 0.350708543664188\n\\item 0.465174161044972\n\\item 0.0990846951832854\n\\item 0.422248491807008\n\\item 1.29808627700458\n\\item -0.189317885183662\n\\item 0.937791662426321\n\\item 0.634702894522173\n\\item -0.570462777554021\n\\item 0.193593998914622\n\\item 1.41437343632726\n\\item -0.386671430111966\n\\item -0.864292185796729\n\\item 0.792278675414308\n\\item -0.573920800317976\n\\item 0.690281305338715\n\\item 0.419453622747249\n\\item 2.56042705313003\n\\item 0.0615006219781727\n\\item 0.326296521647139\n\\item -0.745141797382843\n\\item -1.00336945928524\n\\item -0.00978804714480208\n\\item -0.422703028300411\n\\end{enumerate*}\n",
            "text/plain": [
              " [1]  0.060911066  0.135807696  1.989253948 -0.167988349  0.182615437\n",
              " [6]  0.648415723  0.350708544  0.465174161  0.099084695  0.422248492\n",
              "[11]  1.298086277 -0.189317885  0.937791662  0.634702895 -0.570462778\n",
              "[16]  0.193593999  1.414373436 -0.386671430 -0.864292186  0.792278675\n",
              "[21] -0.573920800  0.690281305  0.419453623  2.560427053  0.061500622\n",
              "[26]  0.326296522 -0.745141797 -1.003369459 -0.009788047 -0.422703028"
            ]
          },
          "metadata": {}
        }
      ]
    },
    {
      "cell_type": "code",
      "source": [
        "?replace"
      ],
      "metadata": {
        "id": "8hkNC3iQMb5D"
      },
      "execution_count": 55,
      "outputs": []
    }
  ]
}