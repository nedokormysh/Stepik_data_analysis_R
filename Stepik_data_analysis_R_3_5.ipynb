{
  "nbformat": 4,
  "nbformat_minor": 0,
  "metadata": {
    "colab": {
      "provenance": [],
      "authorship_tag": "ABX9TyNJwF1LBV0tru0ZTnF0xoE1",
      "include_colab_link": true
    },
    "kernelspec": {
      "name": "ir",
      "display_name": "R"
    },
    "language_info": {
      "name": "R"
    }
  },
  "cells": [
    {
      "cell_type": "markdown",
      "metadata": {
        "id": "view-in-github",
        "colab_type": "text"
      },
      "source": [
        "<a href=\"https://colab.research.google.com/github/nedokormysh/Stepik_data_analysis_R/blob/week_3_stat_part_2/Stepik_data_analysis_R_3_5.ipynb\" target=\"_parent\"><img src=\"https://colab.research.google.com/assets/colab-badge.svg\" alt=\"Open In Colab\"/></a>"
      ]
    },
    {
      "cell_type": "code",
      "source": [
        "install.packages(\"gvlma\")\n",
        "library(\"gvlma\")"
      ],
      "metadata": {
        "colab": {
          "base_uri": "https://localhost:8080/"
        },
        "id": "-S6FcTq5l7qj",
        "outputId": "32c4062a-8c4e-48d3-b8d9-18198a3ef780"
      },
      "execution_count": 1,
      "outputs": [
        {
          "output_type": "stream",
          "name": "stderr",
          "text": [
            "Installing package into ‘/usr/local/lib/R/site-library’\n",
            "(as ‘lib’ is unspecified)\n",
            "\n"
          ]
        }
      ]
    },
    {
      "cell_type": "markdown",
      "source": [
        "# 3_5_5\n",
        "\n",
        "Функция gvlma() из библиотеки gvlma позволяет получить оценку выполнения основных допущений линейной регрессии. В качестве аргумента она принимает объект, в который сохранена модель. Можно задать формулу модели прямо в функции gvlma. Чтобы увидеть основные статистики, нужно выполнить команду summary для объекта, созданного с помощью функции gvlma.\n",
        "\n",
        "Например,\n",
        "\n",
        "\n",
        "x <- gvlma(fit)\n",
        "\n",
        "# или\n",
        "\n",
        "x <- gvlma(Y ~ X, data = mydata)\n",
        "\n",
        "summary(x)\n",
        "\n",
        "\n",
        "Загрузите себе прикреплённый к этому степу датасет и постройте регрессию, предсказывающую DV по IV. Установите библиотеку gvlma и проверьте, удовлетворяется ли в этой модели требование гомоскедастичности. Введите в поле ответа p-значение для теста гетероскедастичности."
      ],
      "metadata": {
        "id": "o7V_mlz1UT0D"
      }
    },
    {
      "cell_type": "code",
      "source": [
        "data <- read.csv('https://stepik.org/media/attachments/lesson/12088/homosc.csv')\n",
        "head(data)"
      ],
      "metadata": {
        "colab": {
          "base_uri": "https://localhost:8080/",
          "height": 286
        },
        "id": "iuDtil_wYqxz",
        "outputId": "062a5ae7-d347-43cc-cf77-95d37fcc048c"
      },
      "execution_count": 16,
      "outputs": [
        {
          "output_type": "display_data",
          "data": {
            "text/html": [
              "<table class=\"dataframe\">\n",
              "<caption>A data.frame: 6 × 2</caption>\n",
              "<thead>\n",
              "\t<tr><th></th><th scope=col>IV</th><th scope=col>DV</th></tr>\n",
              "\t<tr><th></th><th scope=col>&lt;int&gt;</th><th scope=col>&lt;dbl&gt;</th></tr>\n",
              "</thead>\n",
              "<tbody>\n",
              "\t<tr><th scope=row>1</th><td>58</td><td>21.2</td></tr>\n",
              "\t<tr><th scope=row>2</th><td>48</td><td>44.5</td></tr>\n",
              "\t<tr><th scope=row>3</th><td>80</td><td>31.0</td></tr>\n",
              "\t<tr><th scope=row>4</th><td>50</td><td>19.5</td></tr>\n",
              "\t<tr><th scope=row>5</th><td>91</td><td>40.6</td></tr>\n",
              "\t<tr><th scope=row>6</th><td>78</td><td>38.7</td></tr>\n",
              "</tbody>\n",
              "</table>\n"
            ],
            "text/markdown": "\nA data.frame: 6 × 2\n\n| <!--/--> | IV &lt;int&gt; | DV &lt;dbl&gt; |\n|---|---|---|\n| 1 | 58 | 21.2 |\n| 2 | 48 | 44.5 |\n| 3 | 80 | 31.0 |\n| 4 | 50 | 19.5 |\n| 5 | 91 | 40.6 |\n| 6 | 78 | 38.7 |\n\n",
            "text/latex": "A data.frame: 6 × 2\n\\begin{tabular}{r|ll}\n  & IV & DV\\\\\n  & <int> & <dbl>\\\\\n\\hline\n\t1 & 58 & 21.2\\\\\n\t2 & 48 & 44.5\\\\\n\t3 & 80 & 31.0\\\\\n\t4 & 50 & 19.5\\\\\n\t5 & 91 & 40.6\\\\\n\t6 & 78 & 38.7\\\\\n\\end{tabular}\n",
            "text/plain": [
              "  IV DV  \n",
              "1 58 21.2\n",
              "2 48 44.5\n",
              "3 80 31.0\n",
              "4 50 19.5\n",
              "5 91 40.6\n",
              "6 78 38.7"
            ]
          },
          "metadata": {}
        }
      ]
    },
    {
      "cell_type": "code",
      "source": [
        "mydata <- data.frame(\n",
        "  DV = c(21.2,44.5,31.0,19.5,40.6,38.7,11.1,15.8,31.9,25.8,20.2,14.2,24.0,21.0,11.3,18.0,16.3,22.2,7.8,27.8,16.3,35.1,14.9,17.1,28.2,16.4,16.5,46.0,9.5,18.8,32.1,26.1,16.1,7.3,21.4,20.0,29.3,14.9,8.3,22.5,12.8,26.9,25.5,22.9,11.2,20.7,26.2,9.3,10.8,15.6),\n",
        "  IV = c(58,48,80,50,91,78,77,72,80,60,83,54,83,65,57,66,52,66,51,67,85,74,66,44,70,53,62,81,56,89,70,86,45,44,75,68,67,72,87,48,45,59,80,80,32,63,73,39,66,60)\n",
        ")"
      ],
      "metadata": {
        "id": "8dcB63kTZ1dr"
      },
      "execution_count": 6,
      "outputs": []
    },
    {
      "cell_type": "code",
      "source": [
        "fit <- lm(mydata$DV ~ mydata$IV)\n",
        "summary(fit)\n",
        "# x <- gvlma(fit)"
      ],
      "metadata": {
        "colab": {
          "base_uri": "https://localhost:8080/",
          "height": 329
        },
        "id": "rIZ0ZY8uZ8Em",
        "outputId": "01db803c-0ab2-4aba-acd9-1c945c57e611"
      },
      "execution_count": 9,
      "outputs": [
        {
          "output_type": "display_data",
          "data": {
            "text/plain": [
              "\n",
              "Call:\n",
              "lm(formula = mydata$DV ~ mydata$IV)\n",
              "\n",
              "Residuals:\n",
              "    Min      1Q  Median      3Q     Max \n",
              "-18.644  -5.476  -1.216   5.885  27.937 \n",
              "\n",
              "Coefficients:\n",
              "            Estimate Std. Error t value Pr(>|t|)   \n",
              "(Intercept)  3.78707    5.71128   0.663    0.510   \n",
              "mydata$IV    0.26617    0.08513   3.127    0.003 **\n",
              "---\n",
              "Signif. codes:  0 ‘***’ 0.001 ‘**’ 0.01 ‘*’ 0.05 ‘.’ 0.1 ‘ ’ 1\n",
              "\n",
              "Residual standard error: 8.626 on 48 degrees of freedom\n",
              "Multiple R-squared:  0.1692,\tAdjusted R-squared:  0.1519 \n",
              "F-statistic: 9.776 on 1 and 48 DF,  p-value: 0.003001\n"
            ]
          },
          "metadata": {}
        }
      ]
    },
    {
      "cell_type": "code",
      "source": [
        "x <- gvlma(fit)"
      ],
      "metadata": {
        "id": "wmT_gRQAaRQB"
      },
      "execution_count": 10,
      "outputs": []
    },
    {
      "cell_type": "code",
      "source": [
        "x <- gvlma(mydata$DV ~ mydata$IV , data = mydata)\n",
        "summary(x)"
      ],
      "metadata": {
        "colab": {
          "base_uri": "https://localhost:8080/"
        },
        "id": "I4lndHXKaURR",
        "outputId": "1e0ec3f2-914a-4557-f5f4-f59215df9413"
      },
      "execution_count": 12,
      "outputs": [
        {
          "output_type": "stream",
          "name": "stdout",
          "text": [
            "\n",
            "Call:\n",
            "lm(formula = mydata$DV ~ mydata$IV, data = mydata)\n",
            "\n",
            "Residuals:\n",
            "    Min      1Q  Median      3Q     Max \n",
            "-18.644  -5.476  -1.216   5.885  27.937 \n",
            "\n",
            "Coefficients:\n",
            "            Estimate Std. Error t value Pr(>|t|)   \n",
            "(Intercept)  3.78707    5.71128   0.663    0.510   \n",
            "mydata$IV    0.26617    0.08513   3.127    0.003 **\n",
            "---\n",
            "Signif. codes:  0 ‘***’ 0.001 ‘**’ 0.01 ‘*’ 0.05 ‘.’ 0.1 ‘ ’ 1\n",
            "\n",
            "Residual standard error: 8.626 on 48 degrees of freedom\n",
            "Multiple R-squared:  0.1692,\tAdjusted R-squared:  0.1519 \n",
            "F-statistic: 9.776 on 1 and 48 DF,  p-value: 0.003001\n",
            "\n",
            "\n",
            "ASSESSMENT OF THE LINEAR MODEL ASSUMPTIONS\n",
            "USING THE GLOBAL TEST ON 4 DEGREES-OF-FREEDOM:\n",
            "Level of Significance =  0.05 \n",
            "\n",
            "Call:\n",
            " gvlma(x = mydata$DV ~ mydata$IV, data = mydata) \n",
            "\n",
            "                     Value  p-value                   Decision\n",
            "Global Stat        13.4206 0.009393 Assumptions NOT satisfied!\n",
            "Skewness            5.3467 0.020762 Assumptions NOT satisfied!\n",
            "Kurtosis            3.8634 0.049351 Assumptions NOT satisfied!\n",
            "Link Function       0.1553 0.693511    Assumptions acceptable.\n",
            "Heteroscedasticity  4.0553 0.044034 Assumptions NOT satisfied!\n"
          ]
        }
      ]
    },
    {
      "cell_type": "code",
      "source": [
        "df = read.csv('https://stepik.org/media/attachments/lesson/12088/homosc.csv')\n",
        "summary(gvlma(DV ~ IV, df))"
      ],
      "metadata": {
        "colab": {
          "base_uri": "https://localhost:8080/"
        },
        "id": "5OZPki8VakxW",
        "outputId": "34fd199a-5202-4781-91d1-44c53f22443a"
      },
      "execution_count": 13,
      "outputs": [
        {
          "output_type": "stream",
          "name": "stdout",
          "text": [
            "\n",
            "Call:\n",
            "lm(formula = DV ~ IV, data = df)\n",
            "\n",
            "Residuals:\n",
            "    Min      1Q  Median      3Q     Max \n",
            "-18.644  -5.476  -1.216   5.885  27.937 \n",
            "\n",
            "Coefficients:\n",
            "            Estimate Std. Error t value Pr(>|t|)   \n",
            "(Intercept)  3.78707    5.71128   0.663    0.510   \n",
            "IV           0.26617    0.08513   3.127    0.003 **\n",
            "---\n",
            "Signif. codes:  0 ‘***’ 0.001 ‘**’ 0.01 ‘*’ 0.05 ‘.’ 0.1 ‘ ’ 1\n",
            "\n",
            "Residual standard error: 8.626 on 48 degrees of freedom\n",
            "Multiple R-squared:  0.1692,\tAdjusted R-squared:  0.1519 \n",
            "F-statistic: 9.776 on 1 and 48 DF,  p-value: 0.003001\n",
            "\n",
            "\n",
            "ASSESSMENT OF THE LINEAR MODEL ASSUMPTIONS\n",
            "USING THE GLOBAL TEST ON 4 DEGREES-OF-FREEDOM:\n",
            "Level of Significance =  0.05 \n",
            "\n",
            "Call:\n",
            " gvlma(x = DV ~ IV, data = df) \n",
            "\n",
            "                     Value  p-value                   Decision\n",
            "Global Stat        13.4206 0.009393 Assumptions NOT satisfied!\n",
            "Skewness            5.3467 0.020762 Assumptions NOT satisfied!\n",
            "Kurtosis            3.8634 0.049351 Assumptions NOT satisfied!\n",
            "Link Function       0.1553 0.693511    Assumptions acceptable.\n",
            "Heteroscedasticity  4.0553 0.044034 Assumptions NOT satisfied!\n"
          ]
        }
      ]
    },
    {
      "cell_type": "code",
      "source": [
        "gvlma(DV ~ IV, mydata)$GlobalTest$DirectionalStat4$pvalue"
      ],
      "metadata": {
        "colab": {
          "base_uri": "https://localhost:8080/",
          "height": 34
        },
        "id": "1QCMoeKWbC3j",
        "outputId": "95afea5c-de26-46a8-88b5-aab3681c3bd9"
      },
      "execution_count": 17,
      "outputs": [
        {
          "output_type": "display_data",
          "data": {
            "text/html": [
              "0.0440335663433065"
            ],
            "text/markdown": "0.0440335663433065",
            "text/latex": "0.0440335663433065",
            "text/plain": [
              "[1] 0.04403357"
            ]
          },
          "metadata": {}
        }
      ]
    },
    {
      "cell_type": "markdown",
      "source": [
        "# 3_5_7\n",
        "Напишите функцию resid.norm, которая тестирует распределение остатков от модели на нормальность при помощи функции shapiro.test и создает гистограмму при помощи функции ggplot() с красной заливкой \"red\", если распределение остатков значимо отличается от нормального (p < 0.05), и с зелёной заливкой \"green\" - если распределение остатков значимо не отличается от нормального.\n",
        "\n",
        "На вход функция получает регрессионную модель. Функция возвращает переменную, в которой сохранен график ggplot.\n",
        "\n",
        "В поле для ответа не нужно создавать никаких дополнительных объектов, только напишите функцию  resid.norm.\n",
        "\n",
        "Пример работы функции:\n",
        "\n",
        "> fit <- lm(mpg ~ disp, mtcars)\n",
        "\n",
        "> my_plot <- resid.norm(fit)\n",
        "\n",
        "> my_plot\n",
        "\n",
        "Для создания гистограммы при помощи функции ggplot требуется dataframe, где хранится переменная. Обратите внимание на такие функции как:\n",
        "\n",
        "data.frame()\n",
        "\n",
        "as.data.frame()"
      ],
      "metadata": {
        "id": "MM5Yeml8jjFO"
      }
    },
    {
      "cell_type": "code",
      "source": [
        "resid.norm <- function (fit) {\n",
        "res <- fit$resid #заносим в переменную значения остатков из модели fit\n",
        "s <- shapiro.test(res)$p # заносим в переменную s значение П уровня значимости полученное в регресионной модели fit\n",
        "color <- \"\" # объявляем переменную для цвета заливки графика\n",
        "ifelse(s>0.05, color <-  \"green\", color <- \"red\") # если П уровень больше 5% , то цвет зеленый, если наоборот , то красный\n",
        "plot <- ggplot(as.data.frame(fit$model), aes(x = res)) + # параметр as.data.frame(fit$model) делает из данных в нашей регресионной модели ДатаФрейм\n",
        "  geom_histogram(binwidth = 1, fill = color, col = 'black') # параметр fill = color закрашивает нашу гистрограмму в зависимости от П уровня , согласно условия выше\n",
        "\n",
        "return(plot) # возвращаем наш график\n",
        "}Passed.\n",
        "Пример правильного решения:\n",
        "\n",
        "resid.norm <- function(fit) {\n",
        "\tresid.norm.pv <- shapiro.test(fit$residuals)p.value\n",
        "    plt <- ggplot(data.frame(fit$model),aes(x=fit$model),aes(x=fit$residuals)) +\n",
        "\t\tgeom_histogram(fill = ifelse(resid.norm.pv < 0.05, 'red', 'green'))\n",
        "\treturn(plt)}"
      ],
      "metadata": {
        "id": "W6APxR0vjqSk"
      },
      "execution_count": null,
      "outputs": []
    },
    {
      "cell_type": "markdown",
      "source": [
        "# 3_5_8\n",
        "\n",
        "Задача для супергероев!!!\n",
        "\n",
        "Ещё одной проблемой регрессионных моделей может стать мультиколлинеарность - ситуация, когда предикторы очень сильно коррелируют между собой. Иногда корреляция между двумя предикторами может достигать 1, например, когда два предиктора - это одна и та же переменная, измеренная в разных шкалах (x1 - рост в метрах, x2 - рост в сантиметрах)  \n",
        "\n",
        "Проверить данные на мультиколлинеарность можно по графику pairs() и посчитав корреляцию между всеми предикторами c помощью функции cor.\n",
        "\n",
        "Напишите функцию high.corr, которая принимает на вход датасет с произвольным числом количественных переменных и возвращает вектор с именами двух переменных с максимальным абсолютным значением коэффициента корреляции .\n",
        "\n",
        "Примеры работы функции:\n",
        "\n",
        "> high.corr(swiss)\n",
        "\n",
        "[1] \"Examination\" \"Education\"\n",
        "\n",
        "> high.corr(iris[,-5])\n",
        "\n",
        "[1] \"Petal.Length\" \"Petal.Width\"\n",
        "\n",
        "> x1 <- rnorm(30) # создадим случайную выборку\n",
        "\n",
        "> x2 <- rnorm(30) # создадим случайную выборку\n",
        "\n",
        "> x3  <- x1 + 5 # теперь коэффициент корреляции x1 и x3 равен единице\n",
        "\n",
        "> my_df <- data.frame(var1 = x1, var2 = x2, var3 = x3)\n",
        "\n",
        "> high.corr(my_df)\n",
        "\n",
        "[1] \"var1\" \"var3\"\n",
        "\n",
        "\n",
        "Вам могут понадобиться следующие функции: which, dimnames, colnames, rownames, diag, abs. Посмотрите справку по ним.\n",
        "\n",
        "Подсказки:\n",
        "Далеко не всегда 1 == 1 есть ТRUE! Смотри закрепленный комментарий или можно почитать о проблеме здесь.\n"
      ],
      "metadata": {
        "id": "_C_g0CEpk9wP"
      }
    },
    {
      "cell_type": "code",
      "source": [
        "high.corr <- function(x){\n",
        "    l <- length(x)\n",
        "    res <- matrix(nrow = l, ncol = l)\n",
        "    for(i in 1:(l-1)){\n",
        "        for(j in (i+1):l){\n",
        "            k <- cor.test(x[[i]], x[[j]])$estimate\n",
        "            res[i, j] = k[[\"cor\"]]\n",
        "        }\n",
        "    }\n",
        " res[is.na(res)] <- 0\n",
        " res <- abs(res)\n",
        " res_row <- which.max(res) %% l\n",
        " res_col <- which.max(res[res_row,])\n",
        " return(c(names(x[res_row]), names(x[res_col])))\n",
        "}"
      ],
      "metadata": {
        "id": "WQQqHahXlwoZ"
      },
      "execution_count": null,
      "outputs": []
    },
    {
      "cell_type": "code",
      "source": [
        "high.corr <- function(x){\n",
        "\tcr <- cor(x)\n",
        "\tdiag(cr) <- 0\n",
        "\treturn(rownames(which(abs(cr)==max(abs(cr)),arr.ind=T)))}"
      ],
      "metadata": {
        "id": "7d2zu-G5ly4_"
      },
      "execution_count": null,
      "outputs": []
    },
    {
      "cell_type": "markdown",
      "source": [
        "Для тех, кто совсем не знает, с чего начать:\n",
        "\n",
        "1) функцией cor() можно сразу посчитать корреляции для всего датафрейма, вернется матрица значений коэффициентов корреляции\n",
        "\n",
        "2) диагональ матрицы нужно заменить на 0, потому что дальше идеальная корреляция переменной самой с собой нам явно будет мешать, используем для этого функцию diag()\n",
        "\n",
        "3) округляем значения матрицы, чтобы не было указанных проблем с тем, что не всегда 1 == 1 есть TRUE, функция round() в помощь, я округляла до третьего знака\n",
        "\n",
        "4) избавляемся от минусов, вычисляя с помощью abs() абсолютные значения матрицы\n",
        "\n",
        "5) ищем максимум матрицы с помощью команды, которую легко нагуглить (https://stackoverflow.com/questions/17606906/find-row-and-column-index-of-maximum-value-in-a-matrix)\n",
        "\n",
        "6) выводим ответ в виде имен строк матрицы\n",
        "\n",
        "Ура!"
      ],
      "metadata": {
        "id": "qhabokRbmLTp"
      }
    }
  ]
}