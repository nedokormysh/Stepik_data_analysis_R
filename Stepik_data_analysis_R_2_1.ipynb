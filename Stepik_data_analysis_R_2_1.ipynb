{
  "nbformat": 4,
  "nbformat_minor": 0,
  "metadata": {
    "colab": {
      "provenance": [],
      "authorship_tag": "ABX9TyMf4lKFhs+qmZK3FnKX/1Yk",
      "include_colab_link": true
    },
    "kernelspec": {
      "name": "ir",
      "display_name": "R"
    },
    "language_info": {
      "name": "R"
    }
  },
  "cells": [
    {
      "cell_type": "markdown",
      "metadata": {
        "id": "view-in-github",
        "colab_type": "text"
      },
      "source": [
        "<a href=\"https://colab.research.google.com/github/nedokormysh/Stepik_data_analysis_R/blob/week_2_stat_part_1/Stepik_data_analysis_R_2_1.ipynb\" target=\"_parent\"><img src=\"https://colab.research.google.com/assets/colab-badge.svg\" alt=\"Open In Colab\"/></a>"
      ]
    },
    {
      "cell_type": "markdown",
      "source": [
        "# 2_1_5\n",
        "К частям таблицы можно обращаться так же, как и к матрицам.\n",
        "\n",
        "HairEyeColor - таблица с данными, встроенными в R. Посмотрите на неё в R. Команда dimnames(HairEyeColor) позволит нам посмотреть, какие измерения есть в этой таблице и как они называются. Например, чтобы обратиться к части таблицы, в которой хранятся данные только о мужчинах, нам нужно выполнить следующую команду:\n",
        "\n",
        "HairEyeColor[ , ,'Male']\n",
        "\n",
        "Ваша задача в переменную red_men сохранить долю рыжеволосых (Red) от общего числа голубоглазых мужчин.\n",
        "\n",
        "Обратите внимание, что нужны не проценты, а просто доля, то есть десятичная дробь  (например, не 10%, а 0.1)."
      ],
      "metadata": {
        "id": "WnwqcfJVlFqW"
      }
    },
    {
      "cell_type": "code",
      "source": [
        "dimnames(HairEyeColor)"
      ],
      "metadata": {
        "colab": {
          "base_uri": "https://localhost:8080/",
          "height": 149
        },
        "id": "7tWljEsDhQpG",
        "outputId": "b1feb13a-9ca7-4a6d-b4fa-d719c3164188"
      },
      "execution_count": 1,
      "outputs": [
        {
          "output_type": "display_data",
          "data": {
            "text/html": [
              "<dl>\n",
              "\t<dt>$Hair</dt>\n",
              "\t\t<dd><style>\n",
              ".list-inline {list-style: none; margin:0; padding: 0}\n",
              ".list-inline>li {display: inline-block}\n",
              ".list-inline>li:not(:last-child)::after {content: \"\\00b7\"; padding: 0 .5ex}\n",
              "</style>\n",
              "<ol class=list-inline><li>'Black'</li><li>'Brown'</li><li>'Red'</li><li>'Blond'</li></ol>\n",
              "</dd>\n",
              "\t<dt>$Eye</dt>\n",
              "\t\t<dd><style>\n",
              ".list-inline {list-style: none; margin:0; padding: 0}\n",
              ".list-inline>li {display: inline-block}\n",
              ".list-inline>li:not(:last-child)::after {content: \"\\00b7\"; padding: 0 .5ex}\n",
              "</style>\n",
              "<ol class=list-inline><li>'Brown'</li><li>'Blue'</li><li>'Hazel'</li><li>'Green'</li></ol>\n",
              "</dd>\n",
              "\t<dt>$Sex</dt>\n",
              "\t\t<dd><style>\n",
              ".list-inline {list-style: none; margin:0; padding: 0}\n",
              ".list-inline>li {display: inline-block}\n",
              ".list-inline>li:not(:last-child)::after {content: \"\\00b7\"; padding: 0 .5ex}\n",
              "</style>\n",
              "<ol class=list-inline><li>'Male'</li><li>'Female'</li></ol>\n",
              "</dd>\n",
              "</dl>\n"
            ],
            "text/markdown": "$Hair\n:   1. 'Black'\n2. 'Brown'\n3. 'Red'\n4. 'Blond'\n\n\n\n$Eye\n:   1. 'Brown'\n2. 'Blue'\n3. 'Hazel'\n4. 'Green'\n\n\n\n$Sex\n:   1. 'Male'\n2. 'Female'\n\n\n\n\n\n",
            "text/latex": "\\begin{description}\n\\item[\\$Hair] \\begin{enumerate*}\n\\item 'Black'\n\\item 'Brown'\n\\item 'Red'\n\\item 'Blond'\n\\end{enumerate*}\n\n\\item[\\$Eye] \\begin{enumerate*}\n\\item 'Brown'\n\\item 'Blue'\n\\item 'Hazel'\n\\item 'Green'\n\\end{enumerate*}\n\n\\item[\\$Sex] \\begin{enumerate*}\n\\item 'Male'\n\\item 'Female'\n\\end{enumerate*}\n\n\\end{description}\n",
            "text/plain": [
              "$Hair\n",
              "[1] \"Black\" \"Brown\" \"Red\"   \"Blond\"\n",
              "\n",
              "$Eye\n",
              "[1] \"Brown\" \"Blue\"  \"Hazel\" \"Green\"\n",
              "\n",
              "$Sex\n",
              "[1] \"Male\"   \"Female\"\n"
            ]
          },
          "metadata": {}
        }
      ]
    },
    {
      "cell_type": "code",
      "source": [
        "head(HairEyeColor)"
      ],
      "metadata": {
        "colab": {
          "base_uri": "https://localhost:8080/",
          "height": 312
        },
        "id": "ylK6fVVahU61",
        "outputId": "093ef224-61f0-4e08-f5fa-fbdaa46f63eb"
      },
      "execution_count": 2,
      "outputs": [
        {
          "output_type": "display_data",
          "data": {
            "text/plain": [
              ", , Sex = Male\n",
              "\n",
              "       Eye\n",
              "Hair    Brown Blue Hazel Green\n",
              "  Black    32   11    10     3\n",
              "  Brown    53   50    25    15\n",
              "  Red      10   10     7     7\n",
              "  Blond     3   30     5     8\n",
              "\n",
              ", , Sex = Female\n",
              "\n",
              "       Eye\n",
              "Hair    Brown Blue Hazel Green\n",
              "  Black    36    9     5     2\n",
              "  Brown    66   34    29    14\n",
              "  Red      16    7     7     7\n",
              "  Blond     4   64     5     8\n"
            ]
          },
          "metadata": {}
        }
      ]
    },
    {
      "cell_type": "code",
      "source": [
        "HairEyeColor[ , ,'Male']"
      ],
      "metadata": {
        "colab": {
          "base_uri": "https://localhost:8080/",
          "height": 121
        },
        "id": "beTpINv_hmf9",
        "outputId": "f32dbed3-1e11-416e-8489-da91ffd7ea0c"
      },
      "execution_count": 3,
      "outputs": [
        {
          "output_type": "display_data",
          "data": {
            "text/plain": [
              "       Eye\n",
              "Hair    Brown Blue Hazel Green\n",
              "  Black    32   11    10     3\n",
              "  Brown    53   50    25    15\n",
              "  Red      10   10     7     7\n",
              "  Blond     3   30     5     8"
            ]
          },
          "metadata": {}
        }
      ]
    },
    {
      "cell_type": "code",
      "source": [
        "red_man <- HairEyeColor['Red', 'Blue' ,'Male']\n",
        "blue_eyes_man <- HairEyeColor[,\"Blue\",'Male']\n",
        "red_man_sum <- sum(red_man)\n",
        "blue_eyes_man_sum <- sum(blue_eyes_man)\n",
        "red_men <- red_man_sum / blue_eyes_man_sum\n",
        "red_men"
      ],
      "metadata": {
        "colab": {
          "base_uri": "https://localhost:8080/",
          "height": 34
        },
        "id": "F6N2Mbvah5fV",
        "outputId": "99f6511d-9998-4d92-cbbe-46adaf2a89f8"
      },
      "execution_count": 5,
      "outputs": [
        {
          "output_type": "display_data",
          "data": {
            "text/html": [
              "0.099009900990099"
            ],
            "text/markdown": "0.099009900990099",
            "text/latex": "0.099009900990099",
            "text/plain": [
              "[1] 0.0990099"
            ]
          },
          "metadata": {}
        }
      ]
    },
    {
      "cell_type": "code",
      "source": [
        "prop.table(HairEyeColor[, 'Blue', 'Male'])[3]"
      ],
      "metadata": {
        "colab": {
          "base_uri": "https://localhost:8080/",
          "height": 34
        },
        "id": "E3O4E9_aikg1",
        "outputId": "00aba426-9b2e-4070-ca8e-2e7f87c116ec"
      },
      "execution_count": 13,
      "outputs": [
        {
          "output_type": "display_data",
          "data": {
            "text/html": [
              "<strong>Red:</strong> 0.099009900990099"
            ],
            "text/markdown": "**Red:** 0.099009900990099",
            "text/latex": "\\textbf{Red:} 0.099009900990099",
            "text/plain": [
              "      Red \n",
              "0.0990099 "
            ]
          },
          "metadata": {}
        }
      ]
    },
    {
      "cell_type": "code",
      "source": [
        "c = prop.table(HairEyeColor[, 'Blue', 'Male'])\n",
        "red_men = c[3]\n",
        "red_men"
      ],
      "metadata": {
        "colab": {
          "base_uri": "https://localhost:8080/",
          "height": 34
        },
        "id": "_f9vbdfGiUIK",
        "outputId": "5e55918a-c07d-443e-f6da-4dedf1d62e3a"
      },
      "execution_count": 8,
      "outputs": [
        {
          "output_type": "display_data",
          "data": {
            "text/html": [
              "<strong>Red:</strong> 0.099009900990099"
            ],
            "text/markdown": "**Red:** 0.099009900990099",
            "text/latex": "\\textbf{Red:} 0.099009900990099",
            "text/plain": [
              "      Red \n",
              "0.0990099 "
            ]
          },
          "metadata": {}
        }
      ]
    },
    {
      "cell_type": "code",
      "source": [
        "a <- prop.table(HairEyeColor[,,\"Male\"],2)\n",
        "a"
      ],
      "metadata": {
        "colab": {
          "base_uri": "https://localhost:8080/",
          "height": 121
        },
        "id": "VuxG6lXmi6JZ",
        "outputId": "b671c214-fc46-436a-b868-86170903c89e"
      },
      "execution_count": 11,
      "outputs": [
        {
          "output_type": "display_data",
          "data": {
            "text/plain": [
              "       Eye\n",
              "Hair         Brown       Blue      Hazel      Green\n",
              "  Black 0.32653061 0.10891089 0.21276596 0.09090909\n",
              "  Brown 0.54081633 0.49504950 0.53191489 0.45454545\n",
              "  Red   0.10204082 0.09900990 0.14893617 0.21212121\n",
              "  Blond 0.03061224 0.29702970 0.10638298 0.24242424"
            ]
          },
          "metadata": {}
        }
      ]
    },
    {
      "cell_type": "code",
      "source": [
        "red_men <- prop.table(HairEyeColor[, , 'Male'], 2)['Red', 'Blue']"
      ],
      "metadata": {
        "id": "x5u9-OUljFKi"
      },
      "execution_count": 12,
      "outputs": []
    },
    {
      "cell_type": "code",
      "source": [
        "# Дополните код, чтобы получить верный ответ.\n",
        "red_men <- prop.table(HairEyeColor[, 'Blue', 'Male'], )"
      ],
      "metadata": {
        "id": "g_Ax-WWmhxU-"
      },
      "execution_count": null,
      "outputs": []
    },
    {
      "cell_type": "code",
      "source": [
        "male <- HairEyeColor[ , ,'Male']\n",
        "str <- prop.table(male, 2)\n",
        "red_men <- str[3,2]"
      ],
      "metadata": {
        "id": "nX0zzjQ2iGph"
      },
      "execution_count": null,
      "outputs": []
    },
    {
      "cell_type": "markdown",
      "source": [
        "# 2_1_6\n",
        "\n",
        "С таблицами, как и с матрицами, можно совершать разные арифметические операции, например, суммировать все элементы таблицы.\n",
        "\n",
        "Напишите число зеленоглазых женщин в наборе данных HairEyeColor."
      ],
      "metadata": {
        "id": "ax-gNL-hjlXq"
      }
    },
    {
      "cell_type": "code",
      "source": [
        "sum(HairEyeColor[ , 'Green', 'Female'])"
      ],
      "metadata": {
        "colab": {
          "base_uri": "https://localhost:8080/",
          "height": 34
        },
        "id": "XYjPzWU8jo1E",
        "outputId": "496cb025-e063-4d6b-de23-7ccfde02651c"
      },
      "execution_count": 17,
      "outputs": [
        {
          "output_type": "display_data",
          "data": {
            "text/html": [
              "31"
            ],
            "text/markdown": "31",
            "text/latex": "31",
            "text/plain": [
              "[1] 31"
            ]
          },
          "metadata": {}
        }
      ]
    },
    {
      "cell_type": "markdown",
      "source": [
        "# 2_1_8\n",
        "\n",
        "Постройте столбчатую диаграмму распределения цвета глаз по цвету волос только у женщин из\n",
        "таблицы HairEyeColor. По оси X должен идти цвет волос, цвет столбиков должен отражать цвет глаз. По оси Y - количество наблюдений.\n",
        "\n",
        "Чтобы построить столбчатую диаграмму в ggplot, вам нужно подключить нужный пакет, затем преобразовать таблицу HairEyeColor в data frame:\n",
        "\n",
        "mydata <- as.data.frame(HairEyeColor)\n",
        "\n",
        "Постройте график на основе предложенного кода, сохранив его в переменную obj.\n",
        "Укажите, чему равен аргумент data, что должно находиться в aes(). Изучите справку по geom_bar(), чтобы узнать, чему должен равняться аргумент position для отображения цвета глаз в виде соседних столбиков, также вам может быть полезна эта памятка. Там же вы найдёте ответ на вопрос, за что отвечает аргумент stat. С помощью scale_fill_manual мы говорим графику, что мы хотим, чтобы он использовал указанные нами цвета.\n",
        "Дополните предложенный код:\n",
        "\n",
        "library(\"ggplot2\")\n",
        "\n",
        "mydata <- as.data.frame(HairEyeColor)\n",
        "\n",
        "obj <- ggplot(data = , aes(x = , y = Freq)) +\n",
        "geom_bar(stat=\"identity\", position = ) +\n",
        "scale_fill_manual(values=c(\"Brown\", \"Blue\", \"Darkgrey\", \"Darkgreen\"))\n",
        "\n",
        "У себя на компьютере вы можете визуализировать полученный график, исполнив 'obj'. В случае, если все сделано правильно, он будет выглядеть так (обратите внимание на название осей и легенды):\n",
        "\n",
        "Прежде чем отправить код на проверку, выполните его на своем компьютере, чтобы избежать лишних ошибок.\n",
        "При ошибке, обратите внимание на содержание feedback.\n"
      ],
      "metadata": {
        "id": "9S_5O3wHkl5p"
      }
    },
    {
      "cell_type": "code",
      "source": [
        "install.packages(\"ggplot2\")\n",
        "library(\"ggplot2\")"
      ],
      "metadata": {
        "colab": {
          "base_uri": "https://localhost:8080/"
        },
        "id": "-S6FcTq5l7qj",
        "outputId": "e2b167ab-1694-458d-eaa9-da6a6e95de80"
      },
      "execution_count": 19,
      "outputs": [
        {
          "output_type": "stream",
          "name": "stderr",
          "text": [
            "Installing package into ‘/usr/local/lib/R/site-library’\n",
            "(as ‘lib’ is unspecified)\n",
            "\n"
          ]
        }
      ]
    },
    {
      "cell_type": "code",
      "source": [
        "mydata <- as.data.frame(HairEyeColor[, , \"Female\"])\n",
        "obj <- ggplot(data = mydata, aes(x = Hair, y = Freq, fill=Eye)) +  geom_bar(stat=\"identity\", position = position_dodge()) + scale_fill_manual(values=c(\"Brown\", \"Blue\", \"Darkgrey\", \"Darkgreen\"))\n",
        "obj"
      ],
      "metadata": {
        "colab": {
          "base_uri": "https://localhost:8080/",
          "height": 437
        },
        "id": "oWOonSaXkw7V",
        "outputId": "7a46a9a0-8529-42dc-d989-0ab85b0f7338"
      },
      "execution_count": 22,
      "outputs": [
        {
          "output_type": "display_data",
          "data": {
            "text/plain": [
              "plot without title"
            ],
            "image/png": "[encoded data removed]"
          },
          "metadata": {
            "image/png": {
              "width": 420,
              "height": 420
            }
          }
        }
      ]
    },
    {
      "cell_type": "code",
      "source": [
        "mydata <- as.data.frame(HairEyeColor)\n",
        "obj <- ggplot(data = subset(mydata, mydata$Sex == 'Female'), aes(x = data$Hair, y = data$Freq, fill = data$Eye)) +\n",
        "  geom_bar(stat=\"identity\", position = position_dodge()) +\n",
        "  scale_fill_manual(values=c(\"Brown\", \"Blue\", \"Darkgrey\", \"Darkgreen\"))"
      ],
      "metadata": {
        "id": "Qp5XSjlJnwQl"
      },
      "execution_count": null,
      "outputs": []
    },
    {
      "cell_type": "markdown",
      "source": [
        "# 2_1_12\n",
        "\n",
        "На основе таблицы HairEyeColor создайте ещё одну таблицу, в которой хранится информация о распределении цвета глаз у женщин-шатенок (Hair = 'Brown'). Проведите тест равномерности распределения цвета глаз у шатенок и выведите значение хи-квадрата для этого теста."
      ],
      "metadata": {
        "id": "x36YZOwhpG3D"
      }
    },
    {
      "cell_type": "code",
      "source": [
        "t <- HairEyeColor['Brown', , \"Female\"]"
      ],
      "metadata": {
        "id": "AwmV3a5hpMPb"
      },
      "execution_count": 25,
      "outputs": []
    },
    {
      "cell_type": "code",
      "source": [
        "chisq.test(t)"
      ],
      "metadata": {
        "colab": {
          "base_uri": "https://localhost:8080/",
          "height": 104
        },
        "id": "ItT3VWuQpedf",
        "outputId": "b9eb3a18-c2a4-4f44-928f-addd673c4685"
      },
      "execution_count": 26,
      "outputs": [
        {
          "output_type": "display_data",
          "data": {
            "text/plain": [
              "\n",
              "\tChi-squared test for given probabilities\n",
              "\n",
              "data:  t\n",
              "X-squared = 40.189, df = 3, p-value = 9.717e-09\n"
            ]
          },
          "metadata": {}
        }
      ]
    },
    {
      "cell_type": "code",
      "source": [
        "mydata <- as.data.frame(HairEyeColor[, ,'Female'])\n",
        "\n",
        "chisq.test(subset(mydata, Hair=='Brown', 'Freq'))"
      ],
      "metadata": {
        "colab": {
          "base_uri": "https://localhost:8080/",
          "height": 104
        },
        "id": "hcPuV5QBp-MU",
        "outputId": "a71e7fe9-974e-4b23-ddbf-424b737689e0"
      },
      "execution_count": 27,
      "outputs": [
        {
          "output_type": "display_data",
          "data": {
            "text/plain": [
              "\n",
              "\tChi-squared test for given probabilities\n",
              "\n",
              "data:  subset(mydata, Hair == \"Brown\", \"Freq\")\n",
              "X-squared = 40.189, df = 3, p-value = 9.717e-09\n"
            ]
          },
          "metadata": {}
        }
      ]
    },
    {
      "cell_type": "markdown",
      "source": [
        "# 2_1_13\n",
        "\n",
        "Воспользуемся данными diamonds из библиотеки ggplot2. При помощи критерия Хи - квадрат проверьте гипотезу о взаимосвязи качества огранки бриллианта (сut) и его цвета (color). В переменную main_stat сохраните значение статистики критерия Хи - квадрат. Обратите внимание, main_stat должен быть вектором из одного элемента, а не списком (листом).\n",
        "\n",
        "Данные diamonds уже доступны для работы!"
      ],
      "metadata": {
        "id": "dglYtYEjqJyu"
      }
    },
    {
      "cell_type": "code",
      "source": [
        "main_stat <- unlist(chisq.test(xtabs(~ cut + color, data = diamonds)))[1]\n",
        "main_stat"
      ],
      "metadata": {
        "colab": {
          "base_uri": "https://localhost:8080/",
          "height": 34
        },
        "id": "met3VU01qnqy",
        "outputId": "cbabfbc3-4a2f-4c53-cb27-b47e28a22f50"
      },
      "execution_count": 29,
      "outputs": [
        {
          "output_type": "display_data",
          "data": {
            "text/html": [
              "<strong>statistic.X-squared:</strong> '310.317900521154'"
            ],
            "text/markdown": "**statistic.X-squared:** '310.317900521154'",
            "text/latex": "\\textbf{statistic.X-squared:} '310.317900521154'",
            "text/plain": [
              "statistic.X-squared \n",
              " \"310.317900521154\" "
            ]
          },
          "metadata": {}
        }
      ]
    },
    {
      "cell_type": "code",
      "source": [
        "main_stat <- chisq.test(table(diamonds$cut, diamonds$color))[1]\n",
        "main_stat"
      ],
      "metadata": {
        "colab": {
          "base_uri": "https://localhost:8080/",
          "height": 34
        },
        "id": "zf3xK2oEq5_D",
        "outputId": "2653f224-8eab-462d-d0d9-46207c6ad2fa"
      },
      "execution_count": 32,
      "outputs": [
        {
          "output_type": "display_data",
          "data": {
            "text/html": [
              "<strong>$statistic</strong> = <strong>X-squared:</strong> 310.317900521154"
            ],
            "text/markdown": "**$statistic** = **X-squared:** 310.317900521154",
            "text/latex": "\\textbf{\\$statistic} = \\textbf{X-squared:} 310.317900521154",
            "text/plain": [
              "$statistic\n",
              "X-squared \n",
              " 310.3179 \n"
            ]
          },
          "metadata": {}
        }
      ]
    },
    {
      "cell_type": "code",
      "source": [
        "main_stat <- unlist(chisq.test(xtabs(~ cut + color, data = diamonds)))[1]\n",
        "main_stat"
      ],
      "metadata": {
        "colab": {
          "base_uri": "https://localhost:8080/",
          "height": 34
        },
        "id": "4E7QrT3srI0y",
        "outputId": "ceab6345-7ed6-4ccd-8e37-198cf9dbc0be"
      },
      "execution_count": 37,
      "outputs": [
        {
          "output_type": "display_data",
          "data": {
            "text/html": [
              "<strong>statistic.X-squared:</strong> '310.317900521154'"
            ],
            "text/markdown": "**statistic.X-squared:** '310.317900521154'",
            "text/latex": "\\textbf{statistic.X-squared:} '310.317900521154'",
            "text/plain": [
              "statistic.X-squared \n",
              " \"310.317900521154\" "
            ]
          },
          "metadata": {}
        }
      ]
    },
    {
      "cell_type": "code",
      "source": [
        "diamods_table <- table(diamonds$cut, diamonds$color)\n",
        "chi_result <- chisq.test(diamods_table)\n",
        "main_stat <- chi_result$statistic\n",
        "main_stat"
      ],
      "metadata": {
        "colab": {
          "base_uri": "https://localhost:8080/",
          "height": 34
        },
        "id": "9JylQGxIrh2i",
        "outputId": "d2e11cc0-df94-4245-961c-b41e8753c54d"
      },
      "execution_count": 34,
      "outputs": [
        {
          "output_type": "display_data",
          "data": {
            "text/html": [
              "<strong>X-squared:</strong> 310.317900521154"
            ],
            "text/markdown": "**X-squared:** 310.317900521154",
            "text/latex": "\\textbf{X-squared:} 310.317900521154",
            "text/plain": [
              "X-squared \n",
              " 310.3179 "
            ]
          },
          "metadata": {}
        }
      ]
    },
    {
      "cell_type": "code",
      "source": [
        "main_stat <- chisq.test(diamonds$cut, diamonds$color)$statistic\n",
        "main_stat"
      ],
      "metadata": {
        "colab": {
          "base_uri": "https://localhost:8080/",
          "height": 34
        },
        "id": "Vn0_l8BXrxjy",
        "outputId": "ad4ed476-ce22-47e2-d13a-bbd3dee1c745"
      },
      "execution_count": 35,
      "outputs": [
        {
          "output_type": "display_data",
          "data": {
            "text/html": [
              "<strong>X-squared:</strong> 310.317900521154"
            ],
            "text/markdown": "**X-squared:** 310.317900521154",
            "text/latex": "\\textbf{X-squared:} 310.317900521154",
            "text/plain": [
              "X-squared \n",
              " 310.3179 "
            ]
          },
          "metadata": {}
        }
      ]
    },
    {
      "cell_type": "markdown",
      "source": [
        "# 2_1_14\n",
        "\n",
        "Опять воспользуемся данными diamonds из библиотеки ggplot2. При помощи критерия Хи - квадрат проверьте гипотезу о взаимосвязи цены (price) и каратов (carat) бриллиантов. Для этого сначала нужно перевести эти количественные переменные в формат пригодный для Хи - квадрат. Создайте две новые переменные в данных diamonds:\n",
        "\n",
        "factor_price - где будет 1, если значение цены больше либо равно чем среднее, и 0, если значение цены ниже среднего цены по выборке.\n",
        "\n",
        "factor_carat - где будет 1, если число карат больше либо равно чем среднее,  и 0, если ниже среднего числа карат по выборке.\n",
        "\n",
        "Важный момент - на больших данных цикл for() работает довольно медленно, постарайтесь решить эту задачу без его использования!\n",
        "\n",
        "Используя эти шкалы при помощи Хи - квадрат проверьте исходную гипотезу. Сохраните в переменную main_stat значение критерия  Хи - квадрат.\n",
        "\n",
        "Пример перевода количественной шкалы в номинативную:\n",
        "\n",
        "\n",
        "> x <- (1, 2, 3, 5, 6, 7) # mean(x) = 4\n",
        "\n",
        "> factor_x <- (0, 0, 0, 1, 1, 1)"
      ],
      "metadata": {
        "id": "YHc7xRV1sBP7"
      }
    },
    {
      "cell_type": "code",
      "source": [
        "price <- ifelse(diamonds$price >= mean(diamonds$price), 1, 0)\n",
        "# table(price)\n",
        "carat <- ifelse(diamonds$carat >= mean(diamonds$carat), 1, 0)"
      ],
      "metadata": {
        "id": "Qv5F43iCsKjY"
      },
      "execution_count": 44,
      "outputs": []
    },
    {
      "cell_type": "code",
      "source": [
        "price <- ifelse(diamonds$price >= mean(diamonds$price), 1, 0)\n",
        "carat <- ifelse(diamonds$carat >= mean(diamonds$carat), 1, 0)\n",
        "main_stat <- chisq.test(price, carat)$statistic\n",
        "main_stat"
      ],
      "metadata": {
        "colab": {
          "base_uri": "https://localhost:8080/",
          "height": 34
        },
        "id": "L5kf-DPNv_T2",
        "outputId": "9eef3739-b511-4770-d135-396a32e881d5"
      },
      "execution_count": 46,
      "outputs": [
        {
          "output_type": "display_data",
          "data": {
            "text/html": [
              "<strong>X-squared:</strong> 40735.2227968624"
            ],
            "text/markdown": "**X-squared:** 40735.2227968624",
            "text/latex": "\\textbf{X-squared:} 40735.2227968624",
            "text/plain": [
              "X-squared \n",
              " 40735.22 "
            ]
          },
          "metadata": {}
        }
      ]
    },
    {
      "cell_type": "code",
      "source": [
        "main_stat <- chisq.test(table(\n",
        "    diamonds$price >= mean(diamonds$price),\n",
        "    diamonds$carat >= mean(diamonds$carat)\n",
        "    ))$statistic\n",
        "main_stat"
      ],
      "metadata": {
        "colab": {
          "base_uri": "https://localhost:8080/",
          "height": 34
        },
        "id": "lXV5o54owh3m",
        "outputId": "0991a3de-96db-4788-97b6-59998c36a767"
      },
      "execution_count": 47,
      "outputs": [
        {
          "output_type": "display_data",
          "data": {
            "text/html": [
              "<strong>X-squared:</strong> 40735.2227968624"
            ],
            "text/markdown": "**X-squared:** 40735.2227968624",
            "text/latex": "\\textbf{X-squared:} 40735.2227968624",
            "text/plain": [
              "X-squared \n",
              " 40735.22 "
            ]
          },
          "metadata": {}
        }
      ]
    },
    {
      "cell_type": "code",
      "source": [
        "main_stat <- chisq.test(diamonds$price >= mean(diamonds$price), diamonds$carat >= mean(diamonds$carat))$statistic\n",
        "main_stat"
      ],
      "metadata": {
        "colab": {
          "base_uri": "https://localhost:8080/",
          "height": 34
        },
        "id": "rXOge7CCwmtu",
        "outputId": "a23d55a4-7c5c-48a3-c106-d31abf62a7f9"
      },
      "execution_count": 48,
      "outputs": [
        {
          "output_type": "display_data",
          "data": {
            "text/html": [
              "<strong>X-squared:</strong> 40735.2227968624"
            ],
            "text/markdown": "**X-squared:** 40735.2227968624",
            "text/latex": "\\textbf{X-squared:} 40735.2227968624",
            "text/plain": [
              "X-squared \n",
              " 40735.22 "
            ]
          },
          "metadata": {}
        }
      ]
    },
    {
      "cell_type": "code",
      "source": [
        "# from statistics import *\n",
        "# import pandas as pd\n",
        "# from scipy import stats\n",
        "\n",
        "# reader = pd.read_csv('diamonds.csv')\n",
        "# df = pd.DataFrame(reader)\n",
        "\n",
        "# mean_price = mean(df['price'])\n",
        "# mean_carat = mean(df['carat'])\n",
        "\n",
        "# df['factor_price'] = [1 if price >= mean_price else 0 for price in df['price']]\n",
        "# df['factor_carat'] = [1 if price >= mean_carat else 0 for price in df['carat']]\n",
        "\n",
        "# table = df.groupby(['factor_price', 'factor_carat']).count().iloc[:, 0].unstack()\n",
        "# chi2, pvalue, dof, expected = stats.chi2_contingency(table)\n",
        "\n",
        "# print(chi2)"
      ],
      "metadata": {
        "id": "wOo4DZU0spaj"
      },
      "execution_count": null,
      "outputs": []
    },
    {
      "cell_type": "markdown",
      "source": [
        "# 2_1_15\n",
        "\n",
        "При помощи точного критерия Фишера проверьте гипотезу о взаимосвязи типа коробки передач (am) и типа двигателя (vs) в данных mtcars. Результат выполнения критерия сохраните в переменную.Получившийся p - уровень значимости сохраните в переменную fisher_test."
      ],
      "metadata": {
        "id": "y3InLWLnwzMX"
      }
    },
    {
      "cell_type": "code",
      "source": [
        "fisher_test <- fisher.test(mtcars$am, mtcars$vs)$p.value\n",
        "fisher_test"
      ],
      "metadata": {
        "colab": {
          "base_uri": "https://localhost:8080/",
          "height": 34
        },
        "id": "m_uKEaHcw3iE",
        "outputId": "1e5d14a6-59f6-4ae4-fbbf-23d2b4d33420"
      },
      "execution_count": 58,
      "outputs": [
        {
          "output_type": "display_data",
          "data": {
            "text/html": [
              "0.47269744160178"
            ],
            "text/markdown": "0.47269744160178",
            "text/latex": "0.47269744160178",
            "text/plain": [
              "[1] 0.4726974"
            ]
          },
          "metadata": {}
        }
      ]
    }
  ]
}